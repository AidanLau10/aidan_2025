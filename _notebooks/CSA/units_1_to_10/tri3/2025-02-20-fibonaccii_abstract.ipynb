{
 "cells": [
  {
   "cell_type": "raw",
   "metadata": {
    "vscode": {
     "languageId": "raw"
    }
   },
   "source": [
    "---\n",
    "toc: false \n",
    "layout: post\n",
    "title: Abstract Fibonaccii Hack\n",
    "description: A Fibonacci algorithm that runs using an abstract parent class.\n",
    "courses: { csa: {week: 25} }\n",
    "categories: [Trimester 3 Team Teaches]\n",
    "type: ccc\n",
    "image: /images/data_structures/fibonacci.png\n",
    "---"
   ]
  },
  {
   "cell_type": "markdown",
   "metadata": {},
   "source": [
    "![abstract]({{site.baseurl}}/images/data_structures/fibonacci.png)\n",
    "\n",
    "## Introduction\n",
    "\n",
    "This notebook uses Class definitions, ArrayLists, and Hash Maps.   My hypothosis is these data structures are probably the most widely used in the Java language.\n",
    "\n",
    "### Popcorn Hacks\n",
    "\n",
    "- Provide some reasons why you agree with my hypothesis?\n",
    "\n",
    "- Provide some data structures that you think might rival my hypothesis?\n",
    "\n",
    "- Categorize data structure mentioned, tested by college board tested, widely used, fast.\n"
   ]
  },
  {
   "cell_type": "code",
   "execution_count": 1,
   "metadata": {
    "vscode": {
     "languageId": "java"
    }
   },
   "outputs": [],
   "source": [
    "/*\n",
    " * Creator: Nighthawk Coding Society\n",
    " * Mini Lab Name: Fibonacci sequence, featuring a Stream Algorithm\n",
    " * \n",
    "*/\n",
    "\n",
    "import java.util.ArrayList;  \n",
    "import java.util.HashMap;\n",
    "import java.util.stream.Stream;\n",
    "\n",
    "/* Objective will require changing to abstract class with one or more abstract methods below */\n",
    "abstract class Fibo {\n",
    "    String name;  // name or title of method\n",
    "    int size;  // nth sequence\n",
    "    int hashID;  // counter for hashIDs in hash map\n",
    "    ArrayList<Long> list;   // captures current Fibonacci sequence\n",
    "    HashMap<Integer, Object> hash;  // captures each sequence leading to final result\n",
    "\n",
    "    /*\n",
    "     Zero parameter constructor uses Telescoping technique to allow setting of the required value nth\n",
    "     @param: none\n",
    "     */\n",
    "    public Fibo() {\n",
    "        this(8); // telescope to avoid code duplication, using default as 20\n",
    "    }\n",
    "    \n",
    "    /*\n",
    "     Construct the nth fibonacci number\n",
    "     @param: nth number, the value is constrained to 92 because of overflow in a long\n",
    "     */\n",
    "    public Fibo(int nth) {\n",
    "        this.size = nth;\n",
    "        this.list = new ArrayList<>();\n",
    "        this.hashID = 0;\n",
    "        this.hash = new HashMap<>();\n",
    "        //calculate fibonacci and time mvc\n",
    "        this.calc();\n",
    "    }\n",
    "\n",
    "    /*\n",
    "     This Method should be \"abstract\"\n",
    "     Leave method as protected, as it is only authorized to extender of the class\n",
    "     Make new class that extends and defines calc()\n",
    "     Inside references within this class would change from this to super\n",
    "     Repeat process using for, while, recursion\n",
    "     */\n",
    "    protected abstract void calc();\n",
    "\n",
    "    /*\n",
    "     Number is added to fibonacci sequence, current state of \"list\" is added to hash for hashID \"num\"\n",
    "     */\n",
    "    public void setData(long num) {\n",
    "        list.add(num);\n",
    "        hash.put(this.hashID++, list.clone());\n",
    "    }\n",
    "\n",
    "    /*\n",
    "     Custom Getter to return last element in fibonacci sequence\n",
    "     */\n",
    "    public long getNth() {\n",
    "        return list.get(this.size - 1);\n",
    "    }\n",
    "\n",
    "    /*\n",
    "     Custom Getter to return last fibonacci sequence in HashMap\n",
    "     */\n",
    "    public Object getNthSeq(int i) {\n",
    "        return hash.get(i);\n",
    "    }\n",
    "\n",
    "    /*\n",
    "     Console/Terminal supported print method\n",
    "     */\n",
    "    public void print() {\n",
    "        System.out.println(\"Calculation method = \" + this.name);\n",
    "        System.out.println(\"fibonacci Number \" + this.size + \" = \" + this.getNth());\n",
    "        System.out.println(\"fibonacci List = \" + this.list);\n",
    "        System.out.println(\"fibonacci Hashmap = \" + this.hash);\n",
    "        for (int i=0 ; i<this.size; i++ ) {\n",
    "            System.out.println(\"fibonacci Sequence \" + (i+1) + \" = \" + this.getNthSeq(i));\n",
    "        }\n",
    "    }\n",
    "}"
   ]
  },
  {
   "cell_type": "code",
   "execution_count": 2,
   "metadata": {
    "vscode": {
     "languageId": "java"
    }
   },
   "outputs": [
    {
     "name": "stdout",
     "output_type": "stream",
     "text": [
      "Calculation method = FiboFor extends Fibo\n",
      "fibonacci Number 2 = 1\n",
      "fibonacci List = [0, 1]\n",
      "fibonacci Hashmap = {0=[0], 1=[0, 1]}\n",
      "fibonacci Sequence 1 = [0]\n",
      "fibonacci Sequence 2 = [0, 1]\n",
      "\n",
      "Calculation method = FiboFor extends Fibo\n",
      "fibonacci Number 5 = 3\n",
      "fibonacci List = [0, 1, 1, 2, 3]\n",
      "fibonacci Hashmap = {0=[0], 1=[0, 1], 2=[0, 1, 1], 3=[0, 1, 1, 2], 4=[0, 1, 1, 2, 3]}\n",
      "fibonacci Sequence 1 = [0]\n",
      "fibonacci Sequence 2 = [0, 1]\n",
      "fibonacci Sequence 3 = [0, 1, 1]\n",
      "fibonacci Sequence 4 = [0, 1, 1, 2]\n",
      "fibonacci Sequence 5 = [0, 1, 1, 2, 3]\n",
      "\n",
      "Calculation method = FiboFor extends Fibo\n",
      "fibonacci Number 8 = 13\n",
      "fibonacci List = [0, 1, 1, 2, 3, 5, 8, 13]\n",
      "fibonacci Hashmap = {0=[0], 1=[0, 1], 2=[0, 1, 1], 3=[0, 1, 1, 2], 4=[0, 1, 1, 2, 3], 5=[0, 1, 1, 2, 3, 5], 6=[0, 1, 1, 2, 3, 5, 8], 7=[0, 1, 1, 2, 3, 5, 8, 13]}\n",
      "fibonacci Sequence 1 = [0]\n",
      "fibonacci Sequence 2 = [0, 1]\n",
      "fibonacci Sequence 3 = [0, 1, 1]\n",
      "fibonacci Sequence 4 = [0, 1, 1, 2]\n",
      "fibonacci Sequence 5 = [0, 1, 1, 2, 3]\n",
      "fibonacci Sequence 6 = [0, 1, 1, 2, 3, 5]\n",
      "fibonacci Sequence 7 = [0, 1, 1, 2, 3, 5, 8]\n",
      "fibonacci Sequence 8 = [0, 1, 1, 2, 3, 5, 8, 13]\n",
      "\n"
     ]
    }
   ],
   "source": [
    "\n",
    "public class FiboFor extends Fibo {\n",
    "\n",
    "    public FiboFor() {\n",
    "        super();\n",
    "    }\n",
    "\n",
    "    public FiboFor(int nth) {\n",
    "        super(nth);\n",
    "    }\n",
    "\n",
    "    @Override\n",
    "    protected void calc() {\n",
    "        super.name = \"FiboFor extends Fibo\";\n",
    "        long limit = this.size;\n",
    "        // for loops are likely the most common iteration structure, all the looping facts are in one line\n",
    "        for (long[] f = new long[]{0, 1}; limit-- > 0; f = new long[]{f[1], f[0] + f[1]})\n",
    "            this.setData(f[0]);\n",
    "    }\n",
    "\n",
    "    /*\n",
    "    Tester class method.\n",
    "     */\n",
    "    static public void main(int... numbers) {\n",
    "        for (int nth : numbers) {\n",
    "            Fibo fib = new FiboFor(nth);\n",
    "            fib.print();\n",
    "            System.out.println();\n",
    "        }\n",
    "    }\n",
    "}\n",
    "\n",
    "FiboFor.main(2, 5, 8);\n"
   ]
  },
  {
   "cell_type": "code",
   "execution_count": 3,
   "metadata": {
    "vscode": {
     "languageId": "java"
    }
   },
   "outputs": [
    {
     "name": "stdout",
     "output_type": "stream",
     "text": [
      "Calculation method = FiboFor extends Fibo\n",
      "fibonacci Number 2 = 1\n",
      "fibonacci List = [0, 1]\n",
      "fibonacci Hashmap = {0=[0], 1=[0, 1]}\n",
      "fibonacci Sequence 1 = [0]\n",
      "fibonacci Sequence 2 = [0, 1]\n",
      "\n",
      "Calculation method = FiboFor extends Fibo\n",
      "fibonacci Number 5 = 3\n",
      "fibonacci List = [0, 1, 1, 2, 3]\n",
      "fibonacci Hashmap = {0=[0], 1=[0, 1], 2=[0, 1, 1], 3=[0, 1, 1, 2], 4=[0, 1, 1, 2, 3]}\n",
      "fibonacci Sequence 1 = [0]\n",
      "fibonacci Sequence 2 = [0, 1]\n",
      "fibonacci Sequence 3 = [0, 1, 1]\n",
      "fibonacci Sequence 4 = [0, 1, 1, 2]\n",
      "fibonacci Sequence 5 = [0, 1, 1, 2, 3]\n",
      "\n",
      "Calculation method = FiboFor extends Fibo\n",
      "fibonacci Number 8 = 13\n",
      "fibonacci List = [0, 1, 1, 2, 3, 5, 8, 13]\n",
      "fibonacci Hashmap = {0=[0], 1=[0, 1], 2=[0, 1, 1], 3=[0, 1, 1, 2], 4=[0, 1, 1, 2, 3], 5=[0, 1, 1, 2, 3, 5], 6=[0, 1, 1, 2, 3, 5, 8], 7=[0, 1, 1, 2, 3, 5, 8, 13]}\n",
      "fibonacci Sequence 1 = [0]\n",
      "fibonacci Sequence 2 = [0, 1]\n",
      "fibonacci Sequence 3 = [0, 1, 1]\n",
      "fibonacci Sequence 4 = [0, 1, 1, 2]\n",
      "fibonacci Sequence 5 = [0, 1, 1, 2, 3]\n",
      "fibonacci Sequence 6 = [0, 1, 1, 2, 3, 5]\n",
      "fibonacci Sequence 7 = [0, 1, 1, 2, 3, 5, 8]\n",
      "fibonacci Sequence 8 = [0, 1, 1, 2, 3, 5, 8, 13]\n",
      "\n"
     ]
    }
   ],
   "source": [
    "public class FiboStream extends Fibo {\n",
    "\n",
    "    public FiboStream() {\n",
    "        super();\n",
    "    }\n",
    "\n",
    "    public FiboStream(int nth) {\n",
    "        super(nth);\n",
    "    }\n",
    "\n",
    "    @Override\n",
    "    protected void calc() {\n",
    "        super.name = \"FiboStream extends Extends\";\n",
    "\n",
    "        // Initial element of stream: new long[]{0, 1}\n",
    "        // Lambda expression calculate the next fibo based on the current: f -> new long[]{f[1], f[0] + f[1]}\n",
    "        Stream.iterate(new long[]{0, 1}, f -> new long[]{f[1], f[0] + f[1]})\n",
    "            .limit(super.size) // stream limit\n",
    "            .forEach(f -> super.setData(f[0]) );  // set data in super class\n",
    "    }\n",
    "\n",
    "    /*\n",
    "    Tester class method.\n",
    "     */\n",
    "    static public void main(int... numbers) {\n",
    "        for (int nth : numbers) {\n",
    "            Fibo fib = new FiboFor(nth);\n",
    "            fib.print();\n",
    "            System.out.println();\n",
    "        }\n",
    "    }\n",
    "}\n",
    "\n",
    "FiboStream.main(2, 5, 8);"
   ]
  },
  {
   "cell_type": "markdown",
   "metadata": {},
   "source": [
    "## Popcorn Hacks\n",
    "Objectives of these hacks are ...\n",
    "\n",
    "1. Understand how to fullfill abstract class requirements using two additional algoritms.\n",
    "2. Use inheritance style of programming to test speed of each algorithm.  To test the speed, a.) be aware that the first run is always the slowest b.) to time something, my recommendation is 12 runs on the timed element, through out highest and lowest time in calculations.\n",
    "3. Be sure to make a tester and reporting methods.\n",
    "\n",
    ".85 basis for text based comparison inside of Jupyter Notebook lesson\n",
    "\n",
    "## Hacks\n",
    "Assign in each Team to build a Thymeleaf UI for portfolio_2025 using this example https://thymeleaf.nighthawkcodingsociety.com/mvc/fibonacci as basis.  Encorporate into Algorithms menu.\n",
    "\n",
    "Since there are three teams, one team can do Fibo, others Pali and Factorial.  Assign this to people that are struggling for contribution and presentation to checkpoints.\n",
    "\n",
    ".90 basis for FE presentation in Thymmeleaf to BE call in Spring"
   ]
  },
  {
   "cell_type": "markdown",
   "metadata": {},
   "source": [
    "# Abstract Algorithm Tester "
   ]
  },
  {
   "cell_type": "code",
   "execution_count": null,
   "metadata": {
    "vscode": {
     "languageId": "java"
    }
   },
   "outputs": [],
   "source": [
    "interface AlgorithmTimer {\n",
    "    void executeAlgorithm(String testCase); \n",
    "\n",
    "    default void testSpeed(String algorithmName, String[] testCases) {\n",
    "        System.out.println(\"=== \" + algorithmName + \" Performance ===\");\n",
    "\n",
    "\n",
    "        for (String testCase : testCases) {\n",
    "            long[] times = new long[12];\n",
    "\n",
    "            for (int i = 0; i < 12; i++) {\n",
    "                long start = System.nanoTime();\n",
    "                executeAlgorithm(testCase); \n",
    "                long end = System.nanoTime();\n",
    "                times[i] = end - start;\n",
    "            }\n",
    "\n",
    "            Arrays.sort(times);\n",
    "            long sum = 0;\n",
    "            for (int i = 1; i < 11; i++) {\n",
    "                sum += times[i];\n",
    "            }\n",
    "\n",
    "            long avgTime = sum / 10;  \n",
    "\n",
    "            System.out.println(\"Test Case: \" + testCase + \" | Time for 1st run: \" + times[0] + \" ns | Average Time: \" + avgTime + \" ns\");\n",
    "        }\n",
    "    }\n",
    "}\n"
   ]
  },
  {
   "cell_type": "markdown",
   "metadata": {},
   "source": [
    "# Fibonacci with a for loop"
   ]
  },
  {
   "cell_type": "code",
   "execution_count": 4,
   "metadata": {
    "vscode": {
     "languageId": "java"
    }
   },
   "outputs": [
    {
     "name": "stdout",
     "output_type": "stream",
     "text": [
      "Execution time: 3750 nanoseconds\n",
      "Calculation method = FiboForAlt extends Fibo\n",
      "fibonacci Number 2 = 1\n",
      "fibonacci List = [0, 1]\n",
      "fibonacci Hashmap = {0=[0], 1=[0, 1]}\n",
      "fibonacci Sequence 1 = [0]\n",
      "fibonacci Sequence 2 = [0, 1]\n",
      "\n",
      "Execution time: 23583 nanoseconds\n",
      "Calculation method = FiboForAlt extends Fibo\n",
      "fibonacci Number 5 = 3\n",
      "fibonacci List = [0, 1, 1, 2, 3]\n",
      "fibonacci Hashmap = {0=[0], 1=[0, 1], 2=[0, 1, 1], 3=[0, 1, 1, 2], 4=[0, 1, 1, 2, 3]}\n",
      "fibonacci Sequence 1 = [0]\n",
      "fibonacci Sequence 2 = [0, 1]\n",
      "fibonacci Sequence 3 = [0, 1, 1]\n",
      "fibonacci Sequence 4 = [0, 1, 1, 2]\n",
      "fibonacci Sequence 5 = [0, 1, 1, 2, 3]\n",
      "\n",
      "Execution time: 6708 nanoseconds\n",
      "Calculation method = FiboForAlt extends Fibo\n",
      "fibonacci Number 8 = 13\n",
      "fibonacci List = [0, 1, 1, 2, 3, 5, 8, 13]\n",
      "fibonacci Hashmap = {0=[0], 1=[0, 1], 2=[0, 1, 1], 3=[0, 1, 1, 2], 4=[0, 1, 1, 2, 3], 5=[0, 1, 1, 2, 3, 5], 6=[0, 1, 1, 2, 3, 5, 8], 7=[0, 1, 1, 2, 3, 5, 8, 13]}\n",
      "fibonacci Sequence 1 = [0]\n",
      "fibonacci Sequence 2 = [0, 1]\n",
      "fibonacci Sequence 3 = [0, 1, 1]\n",
      "fibonacci Sequence 4 = [0, 1, 1, 2]\n",
      "fibonacci Sequence 5 = [0, 1, 1, 2, 3]\n",
      "fibonacci Sequence 6 = [0, 1, 1, 2, 3, 5]\n",
      "fibonacci Sequence 7 = [0, 1, 1, 2, 3, 5, 8]\n",
      "fibonacci Sequence 8 = [0, 1, 1, 2, 3, 5, 8, 13]\n",
      "\n"
     ]
    }
   ],
   "source": [
    "public class FiboForAlt extends Fibo {\n",
    "\n",
    "    public FiboForAlt() {\n",
    "        super();\n",
    "    }\n",
    "\n",
    "    public FiboForAlt(int nth) {\n",
    "        super(nth);\n",
    "    }\n",
    "\n",
    "    @Override\n",
    "    protected void calc() {\n",
    "        super.name = \"FiboForAlt extends Fibo\";\n",
    "        long startTime = System.nanoTime();\n",
    "        for (int i = 0; i < this.size; i++) {\n",
    "            this.setData(fibRecursive(i));\n",
    "        }\n",
    "        long endTime = System.nanoTime();\n",
    "        System.out.println(\"Execution time: \" + (endTime - startTime) + \" nanoseconds\");\n",
    "    }\n",
    "\n",
    "    private long fibRecursive(int n) {\n",
    "        if (n <= 1) return n;\n",
    "        return fibRecursive(n - 1) + fibRecursive(n - 2);\n",
    "    }\n",
    "\n",
    "    public static void main(int... numbers) {\n",
    "        for (int nth : numbers) {\n",
    "            Fibo fib = new FiboForAlt(nth);\n",
    "            fib.print();\n",
    "            System.out.println();\n",
    "        }\n",
    "    }\n",
    "}\n",
    "\n",
    "FiboForAlt.main(2, 5, 8);\n"
   ]
  },
  {
   "cell_type": "markdown",
   "metadata": {},
   "source": [
    "# Palindrome"
   ]
  },
  {
   "cell_type": "code",
   "execution_count": 58,
   "metadata": {
    "vscode": {
     "languageId": "java"
    }
   },
   "outputs": [],
   "source": [
    "abstract class PalindromeChecker {\n",
    "    public abstract boolean isPalindrome(String text);\n",
    "\n",
    "    public String reverseString(String text) {\n",
    "        return new StringBuilder(text).reverse().toString();\n",
    "    }\n",
    "\n",
    "    public boolean isPalindromeUsingReverse(String text) {\n",
    "        String reversed = reverseString(text);\n",
    "        return isPalindrome(text) && text.equals(reversed);\n",
    "    }\n",
    "\n",
    "    public static boolean isPalindromeIterative(String text) {\n",
    "        int left = 0;\n",
    "        int right = text.length() - 1;\n",
    "        while (left < right) {\n",
    "            if (text.charAt(left) != text.charAt(right)) {\n",
    "                return false;\n",
    "            }\n",
    "            left++;\n",
    "            right--;\n",
    "        }\n",
    "        return true;\n",
    "    }\n",
    "}"
   ]
  },
  {
   "cell_type": "code",
   "execution_count": null,
   "metadata": {
    "vscode": {
     "languageId": "java"
    }
   },
   "outputs": [
    {
     "name": "stdout",
     "output_type": "stream",
     "text": [
      "=== Palindrome Check Performance ===\n",
      "Testing: racecar | Result: true\n",
      "Test Case: racecar | Time for 1st run: 208 ns | Average Time: 291 ns\n",
      "Test Case: hello | Time for 1st run: 125 ns | Average Time: 137 ns\n",
      "Test Case: level | Time for 1st run: 166 ns | Average Time: 183 ns\n",
      "Test Case: world | Time for 1st run: 125 ns | Average Time: 145 ns\n",
      "Test Case: radar | Time for 1st run: 125 ns | Average Time: 183 ns\n"
     ]
    }
   ],
   "source": [
    "class IterativePalindromeChecker extends PalindromeChecker implements AlgorithmTimer {\n",
    "    private boolean racecarPrinted = false; \n",
    "\n",
    "    @Override\n",
    "    public boolean isPalindrome(String text) {\n",
    "        int left = 0;\n",
    "        int right = text.length() - 1;\n",
    "        while (left < right) {\n",
    "            if (text.charAt(left) != text.charAt(right)) {\n",
    "                return false;\n",
    "            }\n",
    "            left++;\n",
    "            right--;\n",
    "        }\n",
    "        return true;\n",
    "    }\n",
    "\n",
    "    @Override\n",
    "    public void executeAlgorithm(String testCase) {\n",
    "        boolean result = isPalindrome(testCase); \n",
    "\n",
    "        if (testCase.equals(\"racecar\") && !racecarPrinted) {\n",
    "            System.out.println(\"Testing: \" + testCase + \" | Result: \" + result);\n",
    "            racecarPrinted = true; /\n",
    "        }\n",
    "    }\n",
    "\n",
    "    public static void main(String... testStrings) {\n",
    "        IterativePalindromeChecker checker = new IterativePalindromeChecker();\n",
    "        checker.testSpeed(\"Palindrome Check\", testStrings);\n",
    "    }\n",
    "}\n",
    "\n",
    "IterativePalindromeChecker.main(\"racecar\", \"hello\", \"level\", \"world\", \"radar\");\n"
   ]
  },
  {
   "cell_type": "markdown",
   "metadata": {},
   "source": [
    "# Factorial"
   ]
  },
  {
   "cell_type": "code",
   "execution_count": null,
   "metadata": {
    "vscode": {
     "languageId": "java"
    }
   },
   "outputs": [],
   "source": [
    "abstract class Factorial {\n",
    "    abstract long calculateFactorial(int n);\n",
    "\n",
    "    public void displayFactorial(int n) {\n",
    "        long result = calculateFactorial(n);\n",
    "        System.out.println(\"The factorial of \" + n + \" is: \" + result);\n",
    "    }\n",
    "}\n"
   ]
  },
  {
   "cell_type": "code",
   "execution_count": null,
   "metadata": {
    "vscode": {
     "languageId": "java"
    }
   },
   "outputs": [
    {
     "name": "stdout",
     "output_type": "stream",
     "text": [
      "=== Factorial Calculation Performance ===\n",
      "Factorial of 3 = 6\n",
      "Test Case: 3 | Time for 1st run: 166 ns | Average Time: 333 ns\n",
      "Test Case: 5 | Time for 1st run: 209 ns | Average Time: 250 ns\n",
      "Test Case: 7 | Time for 1st run: 250 ns | Average Time: 270 ns\n",
      "Test Case: 10 | Time for 1st run: 333 ns | Average Time: 404 ns\n"
     ]
    }
   ],
   "source": [
    "class RecursiveFactorial extends Factorial implements AlgorithmTimer {\n",
    "    private boolean factorialPrinted = false; \n",
    "\n",
    "    @Override\n",
    "    long calculateFactorial(int n) {\n",
    "        if (n < 0) throw new IllegalArgumentException(\"Number must be non-negative\");\n",
    "        return (n == 0) ? 1 : n * calculateFactorial(n - 1);\n",
    "    }\n",
    "\n",
    "    @Override\n",
    "    public void executeAlgorithm(String testCase) {\n",
    "        int n = Integer.parseInt(testCase);\n",
    "        long result = calculateFactorial(n);\n",
    "\n",
    "        if (testCase.equals(\"3\") && !factorialPrinted) {\n",
    "            System.out.println(\"Factorial of \" + n + \" = \" + result);\n",
    "            factorialPrinted = true; \n",
    "        }\n",
    "    }\n",
    "\n",
    "    public static void main(String... numbers) {\n",
    "        RecursiveFactorial factorial = new RecursiveFactorial();\n",
    "        factorial.testSpeed(\"Factorial Calculation\", numbers);\n",
    "    }\n",
    "}\n",
    "\n",
    "RecursiveFactorial.main(\"3\", \"5\", \"7\", \"10\");\n"
   ]
  },
  {
   "cell_type": "markdown",
   "metadata": {},
   "source": [
    "# Binary Search"
   ]
  },
  {
   "cell_type": "code",
   "execution_count": null,
   "metadata": {
    "vscode": {
     "languageId": "java"
    }
   },
   "outputs": [],
   "source": [
    "abstract class BinarySearch {\n",
    "    protected abstract int compare(int element, int target);\n",
    "\n",
    "    public int search(int[] array, int target) {\n",
    "        int low = 0;\n",
    "        int high = array.length - 1;\n",
    "\n",
    "        while (low <= high) {\n",
    "            int mid = low + (high - low) / 2;\n",
    "            int comparisonResult = compare(array[mid], target);\n",
    "\n",
    "            if (comparisonResult == 0) {\n",
    "                return mid;\n",
    "            } else if (comparisonResult < 0) {\n",
    "                low = mid + 1; \n",
    "            } else {\n",
    "                high = mid - 1; \n",
    "            }\n",
    "        }\n",
    "        return -1; \n",
    "    }\n",
    "}"
   ]
  },
  {
   "cell_type": "code",
   "execution_count": null,
   "metadata": {
    "vscode": {
     "languageId": "java"
    }
   },
   "outputs": [
    {
     "name": "stdout",
     "output_type": "stream",
     "text": [
      "=== Binary Search Performance ===\n",
      "Searching for 23 | Found at index: 5\n",
      "Test Case: 23 | Time for 1st run: 666 ns | Average Time: 1358 ns\n",
      "Test Case: 8 | Time for 1st run: 708 ns | Average Time: 800 ns\n",
      "Test Case: 72 | Time for 1st run: 833 ns | Average Time: 1762 ns\n",
      "Test Case: 100 | Time for 1st run: 875 ns | Average Time: 4545 ns\n"
     ]
    }
   ],
   "source": [
    "class AscendingBinarySearch extends BinarySearch implements AlgorithmTimer {\n",
    "    private boolean binarySearchPrinted = false;\n",
    "\n",
    "    @Override\n",
    "    protected int compare(int element, int target) {\n",
    "        return Integer.compare(element, target);\n",
    "    }\n",
    "\n",
    "    @Override\n",
    "    public void executeAlgorithm(String testCase) {\n",
    "        int[] sortedArray = {2, 5, 8, 12, 16, 23, 38, 56, 72, 91};\n",
    "        int target = Integer.parseInt(testCase);\n",
    "        int result = search(sortedArray, target);\n",
    "\n",
    " \n",
    "        if (testCase.equals(\"23\") && !binarySearchPrinted) {\n",
    "            System.out.println(\"Searching for \" + target + \" | Found at index: \" + result);\n",
    "            binarySearchPrinted = true; \n",
    "        }\n",
    "    }\n",
    "\n",
    "    public static void main(String... numbers) {\n",
    "        AscendingBinarySearch search = new AscendingBinarySearch();\n",
    "        search.testSpeed(\"Binary Search\", numbers);\n",
    "    }\n",
    "}\n",
    "\n",
    "AscendingBinarySearch.main(\"23\", \"8\", \"72\", \"100\");\n"
   ]
  }
 ],
 "metadata": {
  "kernelspec": {
   "display_name": "java (IJava/j!)",
   "language": "java",
   "name": "jbang-ijava"
  },
  "language_info": {
   "codemirror_mode": "java",
   "file_extension": ".jshell",
   "mimetype": "text/x-java-source",
   "name": "Java",
   "pygments_lexer": "java",
   "version": "17.0.12+0"
  },
  "orig_nbformat": 4,
  "vscode": {
   "interpreter": {
    "hash": "aee8b7b246df8f9039afb4144a1f6fd8d2ca17a180786b69acc140d282b71a49"
   }
  }
 },
 "nbformat": 4,
 "nbformat_minor": 2
}
