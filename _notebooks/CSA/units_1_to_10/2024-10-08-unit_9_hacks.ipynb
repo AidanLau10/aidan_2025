{
 "cells": [
  {
   "cell_type": "markdown",
   "metadata": {},
   "source": [
    "---\n",
    "layout: post\n",
    "toc: true\n",
    "title: Unit 9 Inheritance\n",
    "description: Inheritance Hacks\n",
    "categories: [Unit Homework]\n",
    "courses: { csa: {week: 6} }\n",
    "type: ccc\n",
    "permalink: /unit9hacks\n",
    "---"
   ]
  },
  {
   "cell_type": "markdown",
   "metadata": {
    "vscode": {
     "languageId": "bat"
    }
   },
   "source": [
    "# 9.2 Constructors for Subclasses Popcorn Hack 1"
   ]
  },
  {
   "cell_type": "code",
   "execution_count": null,
   "metadata": {},
   "outputs": [],
   "source": [
    "public class Rectangle extends Shape {\n",
    "    public Rectangle() {\n",
    "        super();\n",
    "    }\n",
    "\n",
    "    public Rectangle(String name, int length, int width) {\n",
    "        super(name, length, width);\n",
    "    }\n",
    "\n",
    "\n",
    "}\n",
    "\n",
    "public class Triangle extends Shape {\n",
    "    public Triangle() {\n",
    "        super();\n",
    "    }\n",
    "\n",
    "    public Triangle(String name, int length, int width) {\n",
    "        super(name, length, width);\n",
    "    }\n",
    "}\n",
    "\n",
    "\n",
    "/* added circle and hexagon */\n",
    "public class Circle extends Shape {\n",
    "    public Circle() {\n",
    "        super();\n",
    "    }\n",
    "\n",
    "    public Triangle(String name, int length, int width) {\n",
    "        super(name, length, width);\n",
    "    }\n",
    "}\n",
    "\n",
    "public class Hexagon extends Shape {\n",
    "    public Hexagon() {\n",
    "        super();\n",
    "    }\n",
    "\n",
    "    public Hexagon(String name, int length, int width) {\n",
    "        super(name, length, width);\n",
    "    }\n",
    "}"
   ]
  },
  {
   "cell_type": "markdown",
   "metadata": {},
   "source": [
    "# 9.2 Constructors for Subclasses Optional Popcorn Hack "
   ]
  },
  {
   "cell_type": "code",
   "execution_count": 27,
   "metadata": {},
   "outputs": [
    {
     "name": "stdout",
     "output_type": "stream",
     "text": [
      "Area of elipse: 157.07963267948966\n",
      "Shape: Shape\n",
      "Shape: Elipse\n",
      "This is a shape\n",
      "idk breh im tired\n"
     ]
    }
   ],
   "source": [
    "\n",
    "public class Shape {\n",
    "    protected String name;\n",
    "    private int length;\n",
    "    private int width;\n",
    "\n",
    "    // Default constructor\n",
    "    public Shape() {\n",
    "        this.name = \"Shape\";\n",
    "        this.length = 10;\n",
    "        this.width = 5;\n",
    "    }\n",
    "\n",
    "    // Parameterized constructor\n",
    "    public Shape(String name, int length, int width) {\n",
    "        this.name = name;\n",
    "        this.length = length;\n",
    "        this.width = width;\n",
    "    }\n",
    "\n",
    "    // Getter methods\n",
    "    public String get_name() {\n",
    "        return this.name;\n",
    "    }\n",
    "\n",
    "    public int get_length() {\n",
    "        return this.length;\n",
    "    }\n",
    "\n",
    "    public int get_width() {\n",
    "        return this.width;\n",
    "    }\n",
    "\n",
    "    // Setter methods\n",
    "    public void set_name(String n) {\n",
    "        this.name = n;\n",
    "    }\n",
    "\n",
    "    public void set_length(int a) {\n",
    "        this.length = a;\n",
    "    }\n",
    "\n",
    "    public void set_width(int b) {\n",
    "        this.width = b;\n",
    "    }\n",
    "\n",
    "    // Method to calculate the area\n",
    "    public double calc_area() {\n",
    "        return this.length * this.width;\n",
    "    }\n",
    "\n",
    "    // Method to print the shape\n",
    "    public void print_shape() {\n",
    "        System.out.println(\"Shape: \" + this.name);\n",
    "    }\n",
    "\n",
    "    // Additional method to print something\n",
    "    public void print_something() {\n",
    "        System.out.println(\"This is a shape\");\n",
    "    }\n",
    "}\n",
    "\n",
    "public class Ellipse extends Shape {\n",
    "    public Ellipse() {\n",
    "        super();\n",
    "    }\n",
    "\n",
    "    public Ellipse(String name, int radiusa, int radiusb) {\n",
    "        super(name, radiusa, radiusb);\n",
    "    }\n",
    "\n",
    "    @Override\n",
    "    public double calc_area() {\n",
    "        return (Math.PI * this.get_length() * this.get_width());\n",
    "    }\n",
    "\n",
    "    @Override\n",
    "    public void print_something()\n",
    "    {\n",
    "        System.out.println(\"idk breh im tired\");\n",
    "    }\n",
    "}\n",
    "\n",
    "public class Driver {\n",
    "    public static void main(String[] args) {\n",
    "        Shape s1 = new Shape();\n",
    "        Shape elipse = new Ellipse(\"Elipse\",5,10);\n",
    "\n",
    "        System.out.println(\"Area of elipse: \"+elipse.calc_area());\n",
    "\n",
    "        s1.print_shape();\n",
    "        elipse.print_shape();\n",
    "        s1.print_something();\n",
    "        elipse.print_something();\n",
    "    }\n",
    "}\n",
    "\n",
    "// Run the driver code\n",
    "Driver.main(null);\n",
    "\n"
   ]
  },
  {
   "cell_type": "markdown",
   "metadata": {},
   "source": [
    "# 9.3/9.4 Popcorn Hack 1"
   ]
  },
  {
   "cell_type": "code",
   "execution_count": 29,
   "metadata": {},
   "outputs": [
    {
     "name": "stdout",
     "output_type": "stream",
     "text": [
      "The area of the triangle is: 6.0\n"
     ]
    }
   ],
   "source": [
    "public class Triangle extends Shape {\n",
    "    private int side1;\n",
    "    private int side2;\n",
    "    private int side3;\n",
    "\n",
    "\n",
    "    public Triangle() {\n",
    "        this.name = \"triangle\";\n",
    "        this.side1 = 1;\n",
    "        this.side2 = 2;\n",
    "        this.side3 = 3;\n",
    "    }\n",
    "\n",
    "    // Constructor that takes a name and three side lengths\n",
    "    public Triangle(String name, int s1, int s2, int s3) {\n",
    "        super(name, 0, 0); // Call to Shape constructor to set the name\n",
    "        this.name = \"triangle\";\n",
    "        this.side1 = s1;\n",
    "        this.side2 = s2;\n",
    "        this.side3 = s3;\n",
    "    }\n",
    "\n",
    "    @Override\n",
    "    public double calc_area() {\n",
    "        double area = 0.0;\n",
    "        //Write Code Here\n",
    "        double semi = (side1 + side2 + side3) / 2.0;\n",
    "        area = Math.sqrt(semi * (semi - side1) * (semi - side2) * (semi - side3));\n",
    "        return area;\n",
    "        // expected output 6\n",
    "    } \n",
    "}\n",
    "\n",
    "Triangle triangle = new Triangle(\"Triangle\", 3, 4, 5);\n",
    "double area = triangle.calc_area();\n",
    "System.out.println(\"The area of the triangle is: \" + area);"
   ]
  },
  {
   "cell_type": "markdown",
   "metadata": {},
   "source": [
    "# 9.3/9.4 Popcorn Hack 2"
   ]
  },
  {
   "cell_type": "markdown",
   "metadata": {},
   "source": [
    "### IGNORE THIS CODE RIGHT HERE. ITS PROVIDED BUT ITS NEEDED TO OVERRIDE THE CALC_PERIMETER"
   ]
  },
  {
   "cell_type": "code",
   "execution_count": 36,
   "metadata": {},
   "outputs": [],
   "source": [
    "public class Shape {\n",
    "    protected String name;\n",
    "    private int length;\n",
    "    private int width;\n",
    "\n",
    "    // Default constructor\n",
    "    public Shape() {\n",
    "        this.name = \"shape\";\n",
    "        this.length = 10;\n",
    "        this.width = 5;\n",
    "    }\n",
    "\n",
    "    // Parameterized constructor\n",
    "    public Shape(String name, int length, int width) {\n",
    "        this.name = name;\n",
    "        this.length = length;\n",
    "        this.width = width;\n",
    "    }\n",
    "\n",
    "    // Getter methods\n",
    "    public String get_name() {\n",
    "        return this.name;\n",
    "    }\n",
    "\n",
    "    public int get_length() {\n",
    "        return this.length;\n",
    "    }\n",
    "\n",
    "    public int get_width() {\n",
    "        return this.width;\n",
    "    }\n",
    "\n",
    "    // Setter methods\n",
    "    public void set_name(String n) {\n",
    "        this.name = n;\n",
    "    }\n",
    "\n",
    "    public void set_length(int a) {\n",
    "        this.length = a;\n",
    "    }\n",
    "\n",
    "    public void set_width(int b) {\n",
    "        this.width = b;\n",
    "    }\n",
    "\n",
    "    // Method to calculate the area\n",
    "    public double calc_area() {\n",
    "        return this.length * this.width;\n",
    "    }\n",
    "\n",
    "    // Method to calculate the perimeter\n",
    "    public double calc_perimeter(){\n",
    "        return 2*this.length + 2*this.width;\n",
    "    }\n",
    "\n",
    "    // Method to print the shape\n",
    "    public void print_shape() {\n",
    "        System.out.println(\"Shape: \" + this.name);\n",
    "    }\n",
    "\n",
    "    // Additional method to print something\n",
    "    public void print_something() {\n",
    "        System.out.println(\"This is a shape\");\n",
    "    }\n",
    "}\n",
    "\n",
    "public class Driver {\n",
    "    public static void main(String[] args) {\n",
    "        Shape s1 = new Shape();\n",
    "    }\n",
    "}\n"
   ]
  },
  {
   "cell_type": "code",
   "execution_count": 34,
   "metadata": {},
   "outputs": [
    {
     "name": "stdout",
     "output_type": "stream",
     "text": [
      "6.0\n",
      "12.0\n"
     ]
    }
   ],
   "source": [
    "public class Triangle extends Shape {\n",
    "    private int side1;\n",
    "    private int side2;\n",
    "    private int side3;\n",
    "\n",
    "    public Triangle() {\n",
    "        this.name = \"triangle\";\n",
    "        this.side1 = 1;\n",
    "        this.side2 = 2;\n",
    "        this.side3 = 3;\n",
    "    }\n",
    "\n",
    "    // Constructor that takes a name and three side lengths\n",
    "    public Triangle(String name, int s1, int s2, int s3) {\n",
    "        super(name, 0, 0); // Call to Shape constructor to set the name\n",
    "        this.name = \"triangle\";\n",
    "        this.side1 = s1;\n",
    "        this.side2 = s2;\n",
    "        this.side3 = s3;\n",
    "    }\n",
    "\n",
    "    @Override\n",
    "    public double calc_area() {\n",
    "        double semi = (side1 + side2 + side3) / 2.0;\n",
    "        area = Math.sqrt(semi * (semi - side1) * (semi - side2) * (semi - side3));\n",
    "        return area;\n",
    "    }\n",
    "\n",
    "    // Add perimeter method override here\n",
    "    //expected output 12\n",
    "    @Override\n",
    "    public double calc_perimeter() {\n",
    "        return side1 + side2 + side3;\n",
    "    }\n",
    "}\n",
    "\n",
    "Triangle ti84 = new Triangle(\"triangle\", 3, 4, 5);\n",
    "System.out.println(ti84.calc_area());\n",
    "System.out.println(ti84.calc_perimeter());\n"
   ]
  },
  {
   "cell_type": "markdown",
   "metadata": {},
   "source": [
    "# 9.5 Popcorn Hack 1"
   ]
  },
  {
   "cell_type": "code",
   "execution_count": 12,
   "metadata": {},
   "outputs": [
    {
     "name": "stdout",
     "output_type": "stream",
     "text": [
      "Drawing a triangle\n"
     ]
    }
   ],
   "source": [
    "class Shape {\n",
    "    public String draw() {\n",
    "        return \"Drawing a shape\";\n",
    "    }\n",
    "}\n",
    "\n",
    "class Triangle extends Shape {\n",
    "    @Override\n",
    "    public String draw() {\n",
    "        // TODO: Implement this method\n",
    "        return \"Drawing a triangle\";\n",
    "    }\n",
    "}\n",
    "\n",
    "Shape myTriangle = new Triangle();\n",
    "System.out.println(myTriangle.draw()); // Should output: \"Drawing a triangle.\"\n"
   ]
  },
  {
   "cell_type": "markdown",
   "metadata": {
    "vscode": {
     "languageId": "java"
    }
   },
   "source": [
    "### Expanding Your Skills: Adding a Rectangle Class"
   ]
  },
  {
   "cell_type": "code",
   "execution_count": 11,
   "metadata": {},
   "outputs": [
    {
     "name": "stdout",
     "output_type": "stream",
     "text": [
      "Drawing a rectangle\n"
     ]
    }
   ],
   "source": [
    "class Shape {\n",
    "    public String draw() {\n",
    "        return \"Drawing a shape\";\n",
    "    }\n",
    "}\n",
    "\n",
    "class Rectangle extends Shape {\n",
    "    @Override\n",
    "    public String draw() {\n",
    "        // TODO: Implement this method\n",
    "        return \"Drawing a rectangle\";\n",
    "    }\n",
    "}\n",
    "\n",
    "\n",
    "Shape myRectangle = new Rectangle();\n",
    "System.out.println(myRectangle.draw()); // Should output: \"Drawing a rectangle.\"\n",
    "\n"
   ]
  },
  {
   "cell_type": "markdown",
   "metadata": {},
   "source": [
    "### Advanced Challenge: Area Calculation"
   ]
  },
  {
   "cell_type": "code",
   "execution_count": 39,
   "metadata": {},
   "outputs": [
    {
     "name": "stdout",
     "output_type": "stream",
     "text": [
      "Area of the Circle: 78.53981633974483\n",
      "Area of the Square: 16.0\n",
      "Area of the Triangle: 6.0\n",
      "Area of the Rectangle: 21.0\n"
     ]
    }
   ],
   "source": [
    "abstract class Shape {\n",
    "    public String draw() {\n",
    "        return \"Drawing a shape\";\n",
    "    }\n",
    "\n",
    "    public double area() {\n",
    "        return 0; // Default implementation\n",
    "    }\n",
    "}\n",
    "\n",
    "class Circle extends Shape {\n",
    "    private double radius;\n",
    "\n",
    "    public Circle(double radius) {\n",
    "        this.radius = radius;\n",
    "    }\n",
    "\n",
    "    @Override\n",
    "    public double area() {\n",
    "        return Math.PI * radius * radius; \n",
    "    }\n",
    "}\n",
    "\n",
    "class Square extends Shape {\n",
    "    private double side;\n",
    "\n",
    "    public Square(double side) {\n",
    "        this.side = side;\n",
    "    }\n",
    "\n",
    "    @Override\n",
    "    public double area() {\n",
    "        return side * side; \n",
    "    }\n",
    "}\n",
    "\n",
    "class Triangle extends Shape {\n",
    "    private double side1;\n",
    "    private double side2;\n",
    "    private double side3;\n",
    "\n",
    "    public Triangle(double s1, double s2, double s3) {\n",
    "        this.side1 = s1;\n",
    "        this.side2 = s2;\n",
    "        this.side3 = s3;\n",
    "    }\n",
    "\n",
    "    @Override\n",
    "    public double area() {\n",
    "        double semi = (side1 + side2 + side3) / 2.0;\n",
    "        return Math.sqrt(semi * (semi - side1) * (semi - side2) * (semi - side3)); // Heron's formula\n",
    "    }\n",
    "}\n",
    "\n",
    "class Rectangle extends Shape {\n",
    "    private double width;\n",
    "    private double height;\n",
    "\n",
    "    public Rectangle(double width, double height) {\n",
    "        this.width = width;\n",
    "        this.height = height;\n",
    "    }\n",
    "\n",
    "    @Override\n",
    "    public double area() {\n",
    "        return width * height; \n",
    "    }\n",
    "}\n",
    "\n",
    "Circle circle = new Circle(5);\n",
    "Square square = new Square(4);\n",
    "Triangle triangle = new Triangle(3, 4, 5);\n",
    "Rectangle rectangle = new Rectangle(3, 7);\n",
    "\n",
    "System.out.println(\"Area of the Circle: \" + circle.area());      \n",
    "System.out.println(\"Area of the Square: \" + square.area());      \n",
    "System.out.println(\"Area of the Triangle: \" + triangle.area());  \n",
    "System.out.println(\"Area of the Rectangle: \" + rectangle.area());\n",
    "\n",
    "\n",
    "\n"
   ]
  },
  {
   "cell_type": "markdown",
   "metadata": {},
   "source": [
    "# 9.5 Homework Hack"
   ]
  },
  {
   "cell_type": "code",
   "execution_count": 41,
   "metadata": {},
   "outputs": [
    {
     "name": "stdout",
     "output_type": "stream",
     "text": [
      "Drawing a triangle.\n",
      "Drawing a rectangle.\n",
      "Drawing a hexagon.\n"
     ]
    }
   ],
   "source": [
    "class Triangle extends Shape {\n",
    "    @Override\n",
    "    public String draw() {\n",
    "        return \"Drawing a triangle.\";\n",
    "    }\n",
    "}\n",
    "\n",
    "class Rectangle extends Shape {\n",
    "    @Override\n",
    "    public String draw() {\n",
    "        return \"Drawing a rectangle.\";\n",
    "    }\n",
    "}\n",
    "\n",
    "class Hexagon extends Shape {\n",
    "    @Override\n",
    "    public String draw() {\n",
    "        return \"Drawing a hexagon.\";\n",
    "    }\n",
    "}\n",
    "\n",
    "Shape[] shapes = new Shape[3];\n",
    "        \n",
    "shapes[0] = new Triangle();\n",
    "shapes[1] = new Rectangle();\n",
    "shapes[2] = new Hexagon();\n",
    "\n",
    "for (Shape shape : shapes) {\n",
    "    System.out.println(shape.draw());\n",
    "}"
   ]
  },
  {
   "cell_type": "markdown",
   "metadata": {
    "vscode": {
     "languageId": "java"
    }
   },
   "source": [
    "# 9.6 Popcorn Hack 1"
   ]
  },
  {
   "cell_type": "code",
   "execution_count": 42,
   "metadata": {},
   "outputs": [
    {
     "name": "stdout",
     "output_type": "stream",
     "text": [
      "Starting the car.\n"
     ]
    }
   ],
   "source": [
    "class Vehicle {\n",
    "    void start() {\n",
    "        System.out.println(\"Starting the vehicle.\");\n",
    "    }\n",
    "}\n",
    "\n",
    "class Car extends Vehicle {\n",
    "    @Override\n",
    "    void start() {\n",
    "        System.out.println(\"Starting the car.\");\n",
    "    }\n",
    "}\n",
    "\n",
    "class Motorcycle extends Vehicle {\n",
    "    @Override\n",
    "    void start() {\n",
    "        System.out.println(\"Starting the motorcycle.\");\n",
    "    }\n",
    "}\n",
    "\n",
    "Vehicle myVehicle = new Car();\n",
    "myVehicle.start();"
   ]
  },
  {
   "cell_type": "markdown",
   "metadata": {},
   "source": [
    "# 9.6 Popcorn Hack 2"
   ]
  },
  {
   "cell_type": "markdown",
   "metadata": {},
   "source": [
    "- Vehicle is static and is initialized during compile time while car is dynamic because it is referenced at runtime"
   ]
  },
  {
   "cell_type": "markdown",
   "metadata": {},
   "source": [
    "# 9.6 Popcorn Hack 3"
   ]
  },
  {
   "cell_type": "markdown",
   "metadata": {
    "vscode": {
     "languageId": "java"
    }
   },
   "source": [
    "- Downcasting is referencing a superclass or subclass type which allows subclass methods to be used which aren't in the superclass"
   ]
  },
  {
   "cell_type": "code",
   "execution_count": 43,
   "metadata": {},
   "outputs": [
    {
     "name": "stdout",
     "output_type": "stream",
     "text": [
      "Starting the motorcycle.\n"
     ]
    }
   ],
   "source": [
    "Vehicle myVehicle = new Motorcycle();\n",
    "Motorcycle myMotorcycle = (Motorcycle) myVehicle; \n",
    "myMotorcycle.start();"
   ]
  },
  {
   "cell_type": "markdown",
   "metadata": {},
   "source": [
    "# 9.7 Popcorn Hack"
   ]
  },
  {
   "cell_type": "code",
   "execution_count": 18,
   "metadata": {},
   "outputs": [
    {
     "name": "stdout",
     "output_type": "stream",
     "text": [
      "Class of object: class REPL.$JShell$13D$Shape\n",
      "Shape description: This is a shape.\n"
     ]
    }
   ],
   "source": [
    "class Shape {\n",
    "    // Overriding the toString() method from the Object class\n",
    "    @Override\n",
    "    public String toString() {\n",
    "        return \"This is a shape.\";\n",
    "    }\n",
    "}\n",
    "\n",
    "Shape myShape = new Shape();\n",
    "\n",
    "System.out.println(\"Class of object: \" + myShape.getClass()); // Outputs: Class of object: class Shape\n",
    "System.out.println(\"Shape description: \" + myShape.toString()); // Outputs: Shape description: This is a shape."
   ]
  },
  {
   "cell_type": "markdown",
   "metadata": {},
   "source": [
    "# FRQ Prompt"
   ]
  },
  {
   "cell_type": "code",
   "execution_count": 21,
   "metadata": {},
   "outputs": [
    {
     "name": "stdout",
     "output_type": "stream",
     "text": [
      "Title: Introduction to Java, Price: $79.99, Edition: 3\n",
      "Title: Introduction to Java, Price: $59.99, Edition: 2\n",
      "Can tb1 substitute for tb2? true\n"
     ]
    },
    {
     "name": "stderr",
     "output_type": "stream",
     "text": [
      "Error: Edition must be a positive integer.\n"
     ]
    }
   ],
   "source": [
    "class Book {\n",
    "    private String title;\n",
    "    private double price;\n",
    "\n",
    "    public Book(String title, double price) {\n",
    "        this.title = title;\n",
    "        this.price = price;\n",
    "    }\n",
    "\n",
    "    public String getBookInfo() {\n",
    "        return \"Title: \" + title + \", Price: $\" + price;\n",
    "    }\n",
    "\n",
    "    public String getTitle() {\n",
    "        return title;\n",
    "    }\n",
    "}\n",
    "\n",
    "class Textbook extends Book {\n",
    "    private int edition;\n",
    "\n",
    "    public Textbook(String title, double price, int edition) {\n",
    "        super(title, price); \n",
    "        if (edition <= 0) {\n",
    "            throw new IllegalArgumentException(\"Edition must be a positive integer.\");\n",
    "        }\n",
    "        this.edition = edition;\n",
    "    }\n",
    "\n",
    "    public int getEdition() {\n",
    "        return edition;\n",
    "    }\n",
    "\n",
    "    public boolean canSubstituteFor(Textbook other) {\n",
    "        return this.getTitle().equals(other.getTitle()) && this.edition >= other.edition;\n",
    "    }\n",
    "\n",
    "    @Override\n",
    "    public String getBookInfo() {\n",
    "        return super.getBookInfo() + \", Edition: \" + edition;\n",
    "    }\n",
    "\n",
    "    @Override\n",
    "    public String toString() {\n",
    "        return getBookInfo();\n",
    "    }\n",
    "}\n",
    "\n",
    "\n",
    "try {\n",
    "    Textbook tb1 = new Textbook(\"Introduction to Java\", 79.99, 3);\n",
    "    Textbook tb2 = new Textbook(\"Introduction to Java\", 59.99, 2);\n",
    "\n",
    "    System.out.println(tb1); \n",
    "    System.out.println(tb2); \n",
    "\n",
    "    System.out.println(\"Can tb1 substitute for tb2? \" + tb1.canSubstituteFor(tb2)); \n",
    "    \n",
    "    Textbook tb3 = new Textbook(\"Data Structures\", 69.99, -1); \n",
    "} catch (IllegalArgumentException e) {\n",
    "    System.err.println(\"Error: \" + e.getMessage());\n",
    "}\n",
    "\n"
   ]
  },
  {
   "cell_type": "markdown",
   "metadata": {},
   "source": [
    "# Multiple Choice"
   ]
  },
  {
   "cell_type": "markdown",
   "metadata": {},
   "source": [
    "### 1. What is wrong with this block of code?\n"
   ]
  },
  {
   "cell_type": "code",
   "execution_count": 25,
   "metadata": {},
   "outputs": [
    {
     "name": "stdout",
     "output_type": "stream",
     "text": [
      "6.0\n"
     ]
    }
   ],
   "source": [
    "class Shape{\n",
    "    private double length = 0;\n",
    "    private double width = 0;\n",
    "    \n",
    "    public Shape(double length, double width){\n",
    "        this.length = length;\n",
    "        this.width = width;\n",
    "    }\n",
    "\n",
    "    public double getArea(){\n",
    "        return this.length * this.width;\n",
    "    }\n",
    "\n",
    "    public String toString(){\n",
    "        return \"Shape length:\"+ (new Double(this.length)).toString() + \" width:\" + (new Double(this.width)).toString();\n",
    "    }\n",
    "}\n",
    "\n",
    "Shape myShape = new Shape(2,3);\n",
    "\n",
    "System.out.println(myShape.getArea());"
   ]
  },
  {
   "cell_type": "markdown",
   "metadata": {},
   "source": [
    "# ANSWER: c. The toString() method must be public\n",
    "\n",
    "- Since the toString() method is inherited from Object, it has to be public to override the inherited method. "
   ]
  },
  {
   "cell_type": "markdown",
   "metadata": {},
   "source": [
    "### 2. Which method cannot be exectuted in the following example of Polymorphism"
   ]
  },
  {
   "cell_type": "code",
   "execution_count": 26,
   "metadata": {},
   "outputs": [],
   "source": [
    "class Water{\n",
    "    public String toString(){\n",
    "        return \"Water\";\n",
    "    }\n",
    "\n",
    "    private boolean isSalty(){\n",
    "        return false;\n",
    "    }\n",
    "\n",
    "    public String typeOfWater(){\n",
    "        return \"Static\";\n",
    "    }\n",
    "\n",
    "}\n",
    "\n",
    "class Lake extends Water{\n",
    "    public String toString(){\n",
    "        return \"Lake\";\n",
    "    }\n",
    "\n",
    "    public boolean isSalty(){\n",
    "        return true;\n",
    "    }\n",
    "}\n",
    "\n",
    "Water myLakeWater = new Lake();"
   ]
  },
  {
   "cell_type": "markdown",
   "metadata": {},
   "source": [
    "# ANSWER: b) isSalty()\n",
    "\n",
    "- Since isSalt() is private, it cannot be accessed outside of it. "
   ]
  }
 ],
 "metadata": {
  "kernelspec": {
   "display_name": "java (IJava/j!)",
   "language": "java",
   "name": "jbang-ijava"
  },
  "language_info": {
   "codemirror_mode": "java",
   "file_extension": ".jshell",
   "mimetype": "text/x-java-source",
   "name": "java",
   "pygments_lexer": "java",
   "version": "17.0.12+0"
  }
 },
 "nbformat": 4,
 "nbformat_minor": 2
}
