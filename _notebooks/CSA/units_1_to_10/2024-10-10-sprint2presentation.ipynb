{
 "cells": [
  {
   "cell_type": "markdown",
   "metadata": {},
   "source": [
    "---\n",
    "layout: post\n",
    "toc: true\n",
    "title: Sprint 2 Presentation\n",
    "categories: [Reviews]\n",
    "courses: { csa: {week: 6} }\n",
    "type: ccc\n",
    "permalink: /sprint2presentation\n",
    "---"
   ]
  },
  {
   "cell_type": "markdown",
   "metadata": {},
   "source": [
    "# Java + Clothing"
   ]
  },
  {
   "cell_type": "code",
   "execution_count": 13,
   "metadata": {},
   "outputs": [
    {
     "name": "stdout",
     "output_type": "stream",
     "text": [
      "After adding clothing items:\n",
      "Wardrobe Contents:\n",
      "Type: Shirt, Color: Red\n",
      "Size: M\n",
      "\n",
      "Type: Pants, Color: Blue\n",
      "Waist Size: 32\n",
      "\n",
      "Clothing Grid:\n",
      "Shirt\tPants\tEmpty\t\n",
      "Empty\tEmpty\tEmpty\t\n",
      "Empty\tEmpty\tEmpty\t\n"
     ]
    }
   ],
   "source": [
    "import java.util.ArrayList;\n",
    "\n",
    "// Base class for Clothing\n",
    "class Clothing {\n",
    "    private String type;  \n",
    "    private String color; // Reference type\n",
    "\n",
    "    // Constructor\n",
    "    public Clothing(String type, String color) {\n",
    "        this.type = type;\n",
    "        this.color = color;\n",
    "    }\n",
    "\n",
    "    // Method to display clothing details\n",
    "    public void display() {\n",
    "        System.out.println(\"Type: \" + type + \", Color: \" + color);\n",
    "    }\n",
    "\n",
    "    // Getter method\n",
    "    public String getType() {\n",
    "        return type;\n",
    "    }\n",
    "}\n",
    "\n",
    "// Subclass for specific clothing items\n",
    "class Shirt extends Clothing {\n",
    "    private String size; // Reference type\n",
    "\n",
    "    // Constructor\n",
    "    public Shirt(String color, String size) {\n",
    "        super(\"Shirt\", color);\n",
    "        this.size = size;\n",
    "    }\n",
    "\n",
    "    // Override display method\n",
    "    @Override\n",
    "    public void display() {\n",
    "        super.display();\n",
    "        System.out.println(\"Size: \" + size);\n",
    "    }\n",
    "}\n",
    "\n",
    "class Pants extends Clothing {\n",
    "    private int waistSize; // Primitive type\n",
    "\n",
    "    // Constructor\n",
    "    public Pants(String color, int waistSize) {\n",
    "        super(\"Pants\", color);\n",
    "        this.waistSize = waistSize;\n",
    "    }\n",
    "\n",
    "    // Override display method\n",
    "    @Override\n",
    "    public void display() {\n",
    "        super.display();\n",
    "        System.out.println(\"Waist Size: \" + waistSize);\n",
    "    }\n",
    "}\n",
    "\n",
    "public class ClothingManager {\n",
    "    private ArrayList<Clothing> wardrobe; // ArrayList to store clothing items\n",
    "    private String[][] clothingGrid; // 2D array to represent clothing items in a grid format\n",
    "\n",
    "    // Constructor\n",
    "    public ClothingManager() {\n",
    "        wardrobe = new ArrayList<>();\n",
    "        clothingGrid = new String[3][3]; // 3x3 grid for clothing items\n",
    "    }\n",
    "\n",
    "    // Method to add clothing item to the wardrobe\n",
    "    public void addClothing(Clothing item) {\n",
    "        wardrobe.add(item);\n",
    "        updateClothingGrid(); // Update grid after adding item\n",
    "    }\n",
    "\n",
    "    // Method to update the 2D array representation of the wardrobe\n",
    "    private void updateClothingGrid() {\n",
    "        for (int i = 0; i < clothingGrid.length; i++) {\n",
    "            for (int j = 0; j < clothingGrid[i].length; j++) {\n",
    "                if (i * clothingGrid.length + j < wardrobe.size()) {\n",
    "                    clothingGrid[i][j] = wardrobe.get(i * clothingGrid.length + j).getType();\n",
    "                } else {\n",
    "                    clothingGrid[i][j] = \"Empty\"; // Fill empty slots\n",
    "                }\n",
    "            }\n",
    "        }\n",
    "    }\n",
    "\n",
    "    // Method to display the wardrobe and clothing grid\n",
    "    public void displayWardrobe() {\n",
    "        System.out.println(\"Wardrobe Contents:\");\n",
    "        for (Clothing item : wardrobe) {\n",
    "            item.display();\n",
    "            System.out.println();\n",
    "        }\n",
    "\n",
    "        // Display clothing grid\n",
    "        System.out.println(\"Clothing Grid:\");\n",
    "        for (int i = 0; i < clothingGrid.length; i++) {\n",
    "            for (int j = 0; j < clothingGrid[i].length; j++) {\n",
    "                System.out.print(clothingGrid[i][j] + \"\\t\");\n",
    "            }\n",
    "            System.out.println();\n",
    "        }\n",
    "    }\n",
    "\n",
    "\n",
    "      \n",
    "\n",
    "}\n",
    "ClothingManager manager = new ClothingManager();\n",
    "        \n",
    "// Adding one Shirt and one Pants (demonstrating all topics)\n",
    "manager.addClothing(new Shirt(\"Red\", \"M\")); // Using Objects\n",
    "manager.addClothing(new Pants(\"Blue\", 32)); // Using Objects\n",
    "\n",
    "// Display wardrobe after adding items\n",
    "System.out.println(\"After adding clothing items:\");\n",
    "manager.displayWardrobe(); // Display wardrobe\n"
   ]
  },
  {
   "cell_type": "markdown",
   "metadata": {},
   "source": [
    "# Highlight"
   ]
  },
  {
   "cell_type": "markdown",
   "metadata": {},
   "source": [
    "![Screenshot 9](https://github.com/user-attachments/assets/f9bea922-e253-4482-9131-74f6f411edd2)\n",
    "- I remember going through my content and thinking about how I would zone out if I had to listen to code the whole time. I thought of using playing cards to visualize the searching and sorting algorithms. This made is easier and more interactive to learn the content."
   ]
  },
  {
   "cell_type": "markdown",
   "metadata": {},
   "source": [
    "# Learning"
   ]
  },
  {
   "cell_type": "markdown",
   "metadata": {},
   "source": [
    "### Sprint 2 Objectives Highlight\n",
    "- ![Screenshot 2024-10-09 at 8 20 40 PM](https://github.com/user-attachments/assets/1751c783-03e5-46bd-a1c0-051c6a74a071)\\\n",
    "    - ![Screenshot 1](https://github.com/user-attachments/assets/271e74a5-919c-461c-affb-120a6ba6f2d0) \n",
    "    - ![Screenshot 2](https://github.com/user-attachments/assets/06517b49-4ab6-4678-8ed3-4d003bfb0d85)\n",
    "\n",
    "### Upon reviewing feedback, I saw that I should have added a popcorn hack and didn't have enough so I added one:\n",
    "\n",
    "### Adding a commit\n",
    "- ![Screenshot 2024-10-09 at 8 19 55 PM](https://github.com/user-attachments/assets/a330e000-4193-4eea-95af-987617424f11)\n",
    "    - [Commit Popcorn Hack](https://github.com/AidanLau10/unit7_2025/pull/14/commits/0dcfe03008309364af6a65a68413047b8b3342e9)"
   ]
  },
  {
   "cell_type": "markdown",
   "metadata": {},
   "source": [
    "# Personal Growth       \n",
    "\n",
    "> Time Management\n",
    "- Last year, our homework was lenient and due the next week. However, this year our homework has been due the next day. I definitely have managed my time better because of this tight schedule.\n",
    "    - ![Homework Due Dates](https://github.com/user-attachments/assets/12e2f447-93e7-44d1-a29c-b1af6443dd54)\n",
    "\n",
    "\n",
    "> Teamwork\n",
    "- I find computer science projects to be very team-oriented and rarely ever solo. Although my group has had our ups and downs, I appreciate how we have kept fast and constant communication and carried our weight/equity. I definitely have learned and still learning how to communicate efficiently and well. \n",
    "    - ![Screenshot 2024-10-10 at 9 19 43 PM](https://github.com/user-attachments/assets/200a315c-16ff-416f-b74c-25f0ecab7db5)\n",
    "\n",
    "> Teaching\n",
    "- This is my second/third time doing a team teach and I find teaching code to be different than just reading off a presentation because its very easy for people to get confused and not learn anything. Teaching has allowed me put myself in the audience's shoes and teach in the most engaging way. For example, I thought it would be engaging to add visualizations for the long code:\n",
    "    - ![Playing Cards](https://github.com/user-attachments/assets/f9bea922-e253-4482-9131-74f6f411edd2)"
   ]
  }
 ],
 "metadata": {
  "kernelspec": {
   "display_name": "java (IJava/j!)",
   "language": "java",
   "name": "jbang-ijava"
  },
  "language_info": {
   "codemirror_mode": "java",
   "file_extension": ".jshell",
   "mimetype": "text/x-java-source",
   "name": "java",
   "pygments_lexer": "java",
   "version": "17.0.12+0"
  }
 },
 "nbformat": 4,
 "nbformat_minor": 2
}
