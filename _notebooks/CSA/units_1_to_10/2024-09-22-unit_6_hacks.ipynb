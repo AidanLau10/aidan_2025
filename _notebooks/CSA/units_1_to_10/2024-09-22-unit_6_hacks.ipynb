{
 "cells": [
  {
   "cell_type": "markdown",
   "metadata": {},
   "source": [
    "---\n",
    "layout: post\n",
    "toc: true\n",
    "title: Unit 6 - Arrays Hacks\n",
    "description: Arrays Hacks\n",
    "categories: [Unit Homework]\n",
    "courses: { csa: {week: 6} }\n",
    "type: ccc\n",
    "permalink: /unit6lesson\n",
    "---"
   ]
  },
  {
   "cell_type": "markdown",
   "metadata": {},
   "source": [
    "# 6.1 Array Creation and Access"
   ]
  },
  {
   "cell_type": "markdown",
   "metadata": {},
   "source": [
    "## Popcorn Hack 1(Time 0.5 minute)\n",
    "\n",
    "Create an array that represents numerous car brands(Audi, toyota,etc. )"
   ]
  },
  {
   "cell_type": "code",
   "execution_count": 34,
   "metadata": {},
   "outputs": [
    {
     "name": "stdout",
     "output_type": "stream",
     "text": [
      "[Audi, Toyota, Nissan, Lexus, Honda]\n"
     ]
    }
   ],
   "source": [
    "import java.util.Arrays;\n",
    "\n",
    "String[] carBrands = {\"Audi\", \"Toyota\", \"Nissan\", \"Lexus\", \"Honda\"};\n",
    "System.out.println(Arrays.toString(carBrands));"
   ]
  },
  {
   "cell_type": "markdown",
   "metadata": {},
   "source": [
    "## Popcorn Hack #2(Time 1.5 Minutes)\n",
    "\n",
    "1. Make an array of chars, representing people’s grades\n",
    "2. Try to adjust the letter grade of at least 3 people"
   ]
  },
  {
   "cell_type": "code",
   "execution_count": 35,
   "metadata": {},
   "outputs": [
    {
     "name": "stdout",
     "output_type": "stream",
     "text": [
      "Original Grades:\n",
      "Person 1: B\n",
      "Person 2: C\n",
      "Person 3: A\n",
      "Person 4: D\n",
      "Person 5: F\n",
      "Person 6: B\n",
      "\n",
      "Adjusted Grades:\n",
      "Person 1: B\n",
      "Person 2: B\n",
      "Person 3: A\n",
      "Person 4: C\n",
      "Person 5: D\n",
      "Person 6: B\n"
     ]
    }
   ],
   "source": [
    "public class AdjustGrades {\n",
    "    public static void main(String[] args) {        \n",
    "        char[] grades = {'B', 'C', 'A', 'D', 'F', 'B'};\n",
    "        \n",
    "        System.out.println(\"Original Grades:\");\n",
    "        for (int i = 0; i < grades.length; i++) {\n",
    "            System.out.println(\"Person \" + (i+1) + \": \" + grades[i]);\n",
    "        }\n",
    "\n",
    "        grades[1] = 'B'; \n",
    "        grades[3] = 'C'; \n",
    "        grades[4] = 'D'; \n",
    "\n",
    "        // print new line with adjusted grades\n",
    "        System.out.println(\"\\nAdjusted Grades:\");\n",
    "        for (int i = 0; i < grades.length; i++) {\n",
    "            System.out.println(\"Person \" + (i+1) + \": \" + grades[i]);\n",
    "        }\n",
    "    }\n",
    "}\n",
    "\n",
    "AdjustGrades.main(null);\n"
   ]
  },
  {
   "cell_type": "markdown",
   "metadata": {},
   "source": [
    "# 6.2 - Traversing Array (1D)"
   ]
  },
  {
   "cell_type": "markdown",
   "metadata": {},
   "source": [
    "## Popcorn hack question\n",
    "\n",
    "Which part of the following code would I want to change if I wanted to access all odd indices of the list.\n",
    "\n",
    "- ANSWER: You would change the starting index to 1 instead of 0 so each subsequent number is odd"
   ]
  },
  {
   "cell_type": "code",
   "execution_count": 36,
   "metadata": {},
   "outputs": [
    {
     "name": "stdout",
     "output_type": "stream",
     "text": [
      "Odd Index\n",
      "1\n",
      "3\n",
      "5\n"
     ]
    }
   ],
   "source": [
    "// Odd\n",
    "int[] list = {0, 1, 2, 3, 4, 5};\n",
    "System.out.println(\"Odd Index\");\n",
    "for(int index = 1; index < list.length; index+=2){\n",
    "    System.out.println(list[index]);\n",
    "}"
   ]
  },
  {
   "cell_type": "code",
   "execution_count": 37,
   "metadata": {},
   "outputs": [
    {
     "name": "stdout",
     "output_type": "stream",
     "text": [
      "New index: 5\n"
     ]
    }
   ],
   "source": [
    "int [] list = new int[5];\n",
    "int index = 0; \n",
    "\n",
    "while (index < list.length) \n",
    "{\n",
    "    // Do something\n",
    "    index ++; \n",
    "}\n",
    "\n",
    "System.out.println(\"New index: \" + index);"
   ]
  },
  {
   "cell_type": "markdown",
   "metadata": {},
   "source": [
    "## Popcorn hack question:\n",
    "\n",
    "This while loop and the for loop we used earlier accomplish the same task. The main difference is that after the loop is completed, the variable ‘index’ in the while loop will still exist. The variable ‘i’ in the for loop will not. Why?\n",
    "\n",
    "ANSWER: Look at the for loop code: the index variable is declared inside the for statement. Now look at the while statement: the index variable is declared in line 2 outside the while statement. This means the variable will always exist for the while loop while the for loop will only exist WITHIN the loop."
   ]
  },
  {
   "cell_type": "markdown",
   "metadata": {},
   "source": [
    "## Popcorn Hack:\n",
    "Create/complete the code in order to return the average grade of all grades in the list of grades."
   ]
  },
  {
   "cell_type": "code",
   "execution_count": 38,
   "metadata": {},
   "outputs": [
    {
     "name": "stdout",
     "output_type": "stream",
     "text": [
      "The average of the grades is: 63.666666666666664\n",
      "Man, you guys need to study more\n",
      "\n",
      "Updating grades with extra points...\n",
      "The updated average of the grades is: 68.66666666666667\n",
      "Updated grades: 85 55 75 25 85 87 \n",
      "\n",
      "Updating grades with extra points...\n",
      "The updated average of the grades is: 73.66666666666667\n",
      "Updated grades: 90 60 80 30 90 92 \n",
      "The average grade is FINALLY above 70.\n"
     ]
    }
   ],
   "source": [
    "public class GradeAverage {\n",
    "    public static void main(String[] args) {\n",
    "        int[] grades = {80, 50, 70, 20, 80, 82};\n",
    "        int sum = 0;\n",
    "        double average;\n",
    "\n",
    "        // calculate average grade\n",
    "        for (int i = 0; i < grades.length; i++) {\n",
    "            sum += grades[i];\n",
    "        }\n",
    "        average = (double) sum / grades.length;\n",
    "        System.out.println(\"The average of the grades is: \" + average);\n",
    "\n",
    "\n",
    "\n",
    "        // increases each grade by 5 points if average is below 70\n",
    "        if (average < 70) {\n",
    "            System.out.println(\"Man, you guys need to study more\");\n",
    "\n",
    "            // while statement because it will keep updating the grades until it is above 70\n",
    "            while (average < 70) {\n",
    "                System.out.println(\"\\nUpdating grades with extra points...\");\n",
    "                // have to set sum to 0 in order to recalculate average\n",
    "                sum = 0; \n",
    "\n",
    "                // increase each grade by 5\n",
    "                for (int i = 0; i < grades.length; i++) {\n",
    "                    grades[i] += 5; \n",
    "                    sum += grades[i];\n",
    "                }\n",
    "\n",
    "                average = (double) sum / grades.length;\n",
    "\n",
    "                // print updated average and each grade\n",
    "                System.out.println(\"The updated average of the grades is: \" + average);\n",
    "                System.out.print(\"Updated grades: \");\n",
    "                for (int grade : grades) {\n",
    "                    System.out.print(grade + \" \");\n",
    "                }\n",
    "                System.out.println();\n",
    "            }\n",
    "\n",
    "            System.out.println(\"The average grade is FINALLY above 70.\");\n",
    "        }\n",
    "    }\n",
    "}\n",
    "\n",
    "GradeAverage.main(null);\n"
   ]
  },
  {
   "cell_type": "markdown",
   "metadata": {},
   "source": [
    "# 6.3 Enhanced For Loop for Arrays"
   ]
  },
  {
   "cell_type": "markdown",
   "metadata": {},
   "source": [
    "## Popcorn Hack: Rewrite For Loop with For Each Loop\n",
    "\n",
    "You are working as an intern for a car sales company at their IT department. Your new task your boss gave you is to post the prices and names of the newest cars to be sold The previous IT developer couldnt get their for loop to work. Could you fix the issue?\n",
    "\n",
    "Given the following code, rewrite the script to use a for each loop instead of the for loop and fix the problem"
   ]
  },
  {
   "cell_type": "code",
   "execution_count": 39,
   "metadata": {},
   "outputs": [
    {
     "name": "stdout",
     "output_type": "stream",
     "text": [
      "Car Name: CSAwesomeCar\n",
      "Price: 500\n",
      "\n",
      "\n",
      "Car Name: ArrayceCar\n",
      "Price: 5000\n",
      "\n",
      "\n",
      "Car Name: MortMobile\n",
      "Price: 9999\n",
      "\n",
      "\n"
     ]
    }
   ],
   "source": [
    "import java.util.HashMap;\n",
    "import java.util.Map;\n",
    "\n",
    "Map<String, Integer> carMap = new HashMap<String, Integer>();\n",
    "\n",
    "carMap.put(\"MortMobile\", 9999);\n",
    "carMap.put(\"CSAwesomeCar\", 500);\n",
    "carMap.put(\"ArrayceCar\", 5000);\n",
    "\n",
    "for (Map.Entry<String, Integer> entry: carMap.entrySet()) {\n",
    "  System.out.println(\"Car Name: \" + entry.getKey());\n",
    "  System.out.println(\"Price: \" + entry.getValue());\n",
    "  System.out.println(\"\\n\");\n",
    "}"
   ]
  },
  {
   "cell_type": "markdown",
   "metadata": {},
   "source": [
    "# Final Hack\n",
    "\n",
    "Finish the following code with a for each and normal for loop"
   ]
  },
  {
   "cell_type": "code",
   "execution_count": 40,
   "metadata": {},
   "outputs": [
    {
     "name": "stdout",
     "output_type": "stream",
     "text": [
      "1\n",
      "3\n",
      "5\n",
      "2000\n",
      "\n",
      "\n",
      "1\n",
      "3\n",
      "5\n",
      "2000\n"
     ]
    }
   ],
   "source": [
    "int[] nums = {1,2,3,4,5,6,2000};\n",
    "\n",
    "// normal loop\n",
    "for (int i = 0; i < nums.length; i++) {\n",
    "    if (i % 2 == 0) {\n",
    "        System.out.println(nums[i]);\n",
    "    }\n",
    "}\n",
    "\n",
    "System.out.println(\"\\n\");\n",
    "\n",
    "// for each loop\n",
    "int index = 0;\n",
    "for (int num : nums) {\n",
    "    if (index % 2 == 0) {\n",
    "        System.out.println(num);\n",
    "    }\n",
    "    index++;\n",
    "}"
   ]
  },
  {
   "cell_type": "markdown",
   "metadata": {},
   "source": [
    "# 6.4 Developing Algorithms Using Arrays"
   ]
  },
  {
   "cell_type": "markdown",
   "metadata": {
    "vscode": {
     "languageId": "java"
    }
   },
   "source": [
    "## Popcorn Hack\n",
    "Implement a function to find the minimum of the EVEN INDEXED elements in array of integers."
   ]
  },
  {
   "cell_type": "code",
   "execution_count": 41,
   "metadata": {},
   "outputs": [
    {
     "name": "stdout",
     "output_type": "stream",
     "text": [
      "3.0\n"
     ]
    }
   ],
   "source": [
    "private double EvenIndexMin(int [] values) {\n",
    "    if (values.length == 0) {\n",
    "        throw new IllegalArgumentException(\"Array is empty\");\n",
    "    }\n",
    "\n",
    "    // want to set to maximum possible value because:\n",
    "    // every value in the list is less than the max possible value but after the first iteration the new min is the each subsequent smaller value after the first\n",
    "    double min = Double.MAX_VALUE;\n",
    "\n",
    "    // iterate over every even indexed number(i+=2)\n",
    "    for (int i = 0; i < values.length; i+=2) {\n",
    "        if (values[i] < min) {\n",
    "            min = values[i];\n",
    "        }\n",
    "    }\n",
    "    return min;\n",
    "}\n",
    "\n",
    "int[] nums = {27, 91, 3, 56, 72, 45, 19, 85, 38, 60};\n",
    "// Even indexed numbers: 27, 3, 72, 19, 38. Should print 3\n",
    "System.out.println(EvenIndexMin(nums)); "
   ]
  },
  {
   "cell_type": "markdown",
   "metadata": {},
   "source": [
    "# Challenge Hack: \n",
    "\n",
    "- Create a function that iterates through every X items and shifts only those elements Y shift left.\n",
    "\n",
    "Example: ({1, 2, 3, 4, 5, 6}, Y = 1, X = 2) Output: {5, 2, 1, 4, 3, 6}\n",
    "\n",
    "Example: ({1, 2, 3, 4, 5, 6, 7, 8, 9, 10}, Y = 2, X = 3) Output: {10, 2, 3, 1, 5, 6, 4, 8, 9, 7}\n",
    "\n"
   ]
  },
  {
   "cell_type": "code",
   "execution_count": 42,
   "metadata": {},
   "outputs": [
    {
     "name": "stdout",
     "output_type": "stream",
     "text": [
      "3\n",
      "4\n",
      "1\n",
      "2\n",
      "7\n",
      "8\n",
      "5\n",
      "6\n",
      "11\n",
      "12\n",
      "9\n",
      "10\n",
      "15\n",
      "16\n",
      "13\n",
      "14\n",
      "19\n",
      "20\n",
      "17\n",
      "18\n"
     ]
    }
   ],
   "source": [
    "int [] numbers = {1,2,3,4,5,6,7,8,9,10,11,12,13,14,15,16,17,18,19,20};\n",
    "\n",
    "int shift = 2;\n",
    "int space = 4;\n",
    "\n",
    "/* function */\n",
    "private int [] shiftLeft(int [] values, int shift, int space) {\n",
    "    int[] shifted = values.clone(); // Clone the original array to avoid modifying it directly\n",
    "\n",
    "    for (int i = 0; i < values.length; i += space) {\n",
    "        int[] temp = new int[space];\n",
    "        for (int j = 0; j < space; j++) {\n",
    "            temp[j] = values[(i + j) % values.length];\n",
    "        }\n",
    "        for (int j = 0; j < space; j++) {\n",
    "            shifted[(i + j) % values.length] = temp[(j + shift) % space];\n",
    "        }\n",
    "    }\n",
    "    return shifted;\n",
    "}\n",
    "\n",
    "for ( int value : shiftLeft(numbers, shift, space)) {\n",
    "    System.out.println(value);\n",
    "}"
   ]
  },
  {
   "cell_type": "code",
   "execution_count": 43,
   "metadata": {},
   "outputs": [
    {
     "name": "stdout",
     "output_type": "stream",
     "text": [
      "[3, 4, 1, 2, 7, 8, 5, 6, 11, 12, 9, 10, 15, 16, 13, 14, 19, 20, 17, 18]\n"
     ]
    }
   ],
   "source": [
    "int[] numbers = {1, 2, 3, 4, 5, 6, 7, 8, 9, 10, 11, 12, 13, 14, 15, 16, 17, 18, 19, 20};\n",
    "\n",
    "int shift = 2;\n",
    "int space = 4;\n",
    "\n",
    "/* function */\n",
    "private int[] shiftLeft(int[] values, int shift, int space) {\n",
    "    int[] shifted = values.clone(); \n",
    "\n",
    "    for (int i = 0; i < values.length; i += space) {\n",
    "        int[] temp = new int[space];\n",
    "        for (int j = 0; j < space; j++) {\n",
    "            temp[j] = values[(i + j) % values.length];\n",
    "        }\n",
    "        for (int j = 0; j < space; j++) {\n",
    "            shifted[(i + j) % values.length] = temp[(j + shift) % space];\n",
    "        }\n",
    "    }\n",
    "    return shifted;\n",
    "}\n",
    "\n",
    "\n",
    "int[] result = shiftLeft(numbers, shift, space);\n",
    "System.out.print(\"[\");\n",
    "for (int i = 0; i < result.length; i++) {\n",
    "    if (i != result.length - 1) {\n",
    "        System.out.print(result[i] + \", \");\n",
    "    } else {\n",
    "        System.out.print(result[i]);\n",
    "    }\n",
    "}\n",
    "System.out.println(\"]\");\n"
   ]
  }
 ],
 "metadata": {
  "kernelspec": {
   "display_name": "java (IJava/j!)",
   "language": "java",
   "name": "jbang-ijava"
  },
  "language_info": {
   "codemirror_mode": "java",
   "file_extension": ".jshell",
   "mimetype": "text/x-java-source",
   "name": "java",
   "pygments_lexer": "java",
   "version": "17.0.12+0"
  }
 },
 "nbformat": 4,
 "nbformat_minor": 2
}
