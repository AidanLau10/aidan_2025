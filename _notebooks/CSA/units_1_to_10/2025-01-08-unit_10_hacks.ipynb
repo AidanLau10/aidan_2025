{
 "cells": [
  {
   "cell_type": "markdown",
   "metadata": {},
   "source": [
    "---\n",
    "layout: post\n",
    "toc: true\n",
    "title: Unit 10 Recursion Homework\n",
    "description: Recursion\n",
    "categories: [AP CSA]\n",
    "courses: { csa: {week: 10} }\n",
    "type: ccc\n",
    "permalink: /unit10hacks\n",
    "---"
   ]
  },
  {
   "cell_type": "markdown",
   "metadata": {},
   "source": [
    "# Part A: Count Ways to Climb Stairs"
   ]
  },
  {
   "cell_type": "code",
   "execution_count": 6,
   "metadata": {
    "vscode": {
     "languageId": "java"
    }
   },
   "outputs": [
    {
     "data": {
      "text/plain": [
       "5"
      ]
     },
     "execution_count": 6,
     "metadata": {},
     "output_type": "execute_result"
    }
   ],
   "source": [
    "public int countWays(int n) {\n",
    "    // Base cases\n",
    "    if (n == 0) {\n",
    "        return 1;\n",
    "    }\n",
    "    if (n < 0) {\n",
    "        return 0;\n",
    "    }\n",
    "\n",
    "    return countWays(n - 1) + countWays(n - 2);\n",
    "}\n",
    "\n",
    "countWays(4);"
   ]
  },
  {
   "cell_type": "markdown",
   "metadata": {},
   "source": [
    "# Part B: Trace Recursive Calls\n",
    "\n",
    "1. Initial Call\n",
    "- countWays(3) → countWays(3-1) + countWays(3-2)\n",
    "2. Next Call\n",
    "- countWays(2) → countWays(2-1) + countWays(2-2)\n",
    "3. Base Case\n",
    "- countWays(1) → countWays(0) + countWays(-1) \n",
    "- Since n == 0 and n < 0, return 0 + 1\n",
    "\n",
    "Unwinding Stack:\n",
    "countWays(1) → 0 + 1 = 1\n",
    "countWays(2) → 1 + 1 = 2\n",
    "countWays(3) → 2 + 1 = 3\n",
    "\n"
   ]
  },
  {
   "cell_type": "markdown",
   "metadata": {},
   "source": [
    "# Part C: Modify for Variable Steps"
   ]
  },
  {
   "cell_type": "code",
   "execution_count": 7,
   "metadata": {
    "vscode": {
     "languageId": "java"
    }
   },
   "outputs": [
    {
     "name": "stdout",
     "output_type": "stream",
     "text": [
      "5\n"
     ]
    }
   ],
   "source": [
    "public int countWaysVariableSteps(int n, int[] steps) {\n",
    "    if (n == 0) {\n",
    "        return 1;\n",
    "    }\n",
    "\n",
    "    if (n < 0) {\n",
    "        return 0;\n",
    "    }\n",
    "\n",
    "    int totalWays = 0;\n",
    "    for (int step : steps) {\n",
    "        totalWays += countWaysVariableSteps(n - step, steps);\n",
    "    }\n",
    "    return totalWays;\n",
    "}\n",
    "\n",
    "int[] steps = {1, 3, 5};\n",
    "System.out.println(countWaysVariableSteps(5, steps));\n",
    "\n",
    "\n",
    "\n"
   ]
  },
  {
   "cell_type": "markdown",
   "metadata": {},
   "source": [
    "# Multiple Choice\n"
   ]
  }
 ],
 "metadata": {
  "kernelspec": {
   "display_name": "java (IJava/j!)",
   "language": "java",
   "name": "jbang-ijava"
  },
  "language_info": {
   "codemirror_mode": "java",
   "file_extension": ".jshell",
   "mimetype": "text/x-java-source",
   "name": "Java",
   "pygments_lexer": "java",
   "version": "17.0.12+0"
  }
 },
 "nbformat": 4,
 "nbformat_minor": 2
}
