{
 "cells": [
  {
   "cell_type": "markdown",
   "metadata": {},
   "source": [
    "---\n",
    "layout: post\n",
    "toc: true\n",
    "title: Unit 10 Recursion Homework\n",
    "description: Recursion\n",
    "categories: [AP CSA]\n",
    "courses: { csa: {week: 10} }\n",
    "type: ccc\n",
    "permalink: /unit10hacks\n",
    "---"
   ]
  },
  {
   "cell_type": "markdown",
   "metadata": {},
   "source": [
    "# Part A: Count Ways to Climb Stairs"
   ]
  },
  {
   "cell_type": "code",
   "execution_count": 6,
   "metadata": {
    "vscode": {
     "languageId": "java"
    }
   },
   "outputs": [
    {
     "data": {
      "text/plain": [
       "5"
      ]
     },
     "execution_count": 6,
     "metadata": {},
     "output_type": "execute_result"
    }
   ],
   "source": [
    "public int countWays(int n) {\n",
    "    // Base cases\n",
    "    if (n == 0) {\n",
    "        return 1;\n",
    "    }\n",
    "    if (n < 0) {\n",
    "        return 0;\n",
    "    }\n",
    "\n",
    "    return countWays(n - 1) + countWays(n - 2);\n",
    "}\n",
    "\n",
    "countWays(4);"
   ]
  },
  {
   "cell_type": "markdown",
   "metadata": {},
   "source": [
    "# Part B: Trace Recursive Calls\n",
    "\n",
    "1. Initial Call\n",
    "- countWays(3) → countWays(3-1) + countWays(3-2)\n",
    "2. Next Call\n",
    "- countWays(2) → countWays(2-1) + countWays(2-2)\n",
    "3. Base Case\n",
    "- countWays(1) → countWays(0) + countWays(-1) \n",
    "- Since n == 0 and n < 0, return 0 + 1\n",
    "\n",
    "Unwinding Stack:\n",
    "countWays(1) → 0 + 1 = 1\n",
    "countWays(2) → 1 + 1 = 2\n",
    "countWays(3) → 2 + 1 = 3\n",
    "\n"
   ]
  },
  {
   "cell_type": "markdown",
   "metadata": {},
   "source": [
    "# Part C: Modify for Variable Steps"
   ]
  },
  {
   "cell_type": "code",
   "execution_count": 7,
   "metadata": {
    "vscode": {
     "languageId": "java"
    }
   },
   "outputs": [
    {
     "name": "stdout",
     "output_type": "stream",
     "text": [
      "5\n"
     ]
    }
   ],
   "source": [
    "public int countWaysVariableSteps(int n, int[] steps) {\n",
    "    if (n == 0) {\n",
    "        return 1;\n",
    "    }\n",
    "\n",
    "    if (n < 0) {\n",
    "        return 0;\n",
    "    }\n",
    "\n",
    "    int totalWays = 0;\n",
    "    for (int step : steps) {\n",
    "        totalWays += countWaysVariableSteps(n - step, steps);\n",
    "    }\n",
    "    return totalWays;\n",
    "}\n",
    "\n",
    "int[] steps = {1, 3, 5};\n",
    "System.out.println(countWaysVariableSteps(5, steps));\n",
    "\n",
    "\n",
    "\n"
   ]
  },
  {
   "cell_type": "markdown",
   "metadata": {},
   "source": [
    "# Multiple Choice\n"
   ]
  },
  {
   "cell_type": "markdown",
   "metadata": {},
   "source": [
    "## Number 1\n",
    "> D. 248832\n",
    "<img width=\"506\" alt=\"Screenshot 2025-01-09 at 9 36 57 AM\" src=\"https://github.com/user-attachments/assets/811adc18-6289-4ea3-8404-e0c4a25b962b\" />\n",
    "\n"
   ]
  },
  {
   "cell_type": "markdown",
   "metadata": {},
   "source": [
    "## Number 2\n",
    "> A. tHISISMYFAVORITEyAYFORPROGRAMMING, because the if statements check if the current character is uppercase or lowercase and then switches it. If its not a character at all like a space or colon or exclamation mark, it will just substring and remove it. "
   ]
  },
  {
   "cell_type": "markdown",
   "metadata": {},
   "source": [
    "## Number 3\n",
    "> B, because if there is no base case the recursive call with infinitely call itself. A base case is needed to stop the recursion."
   ]
  }
 ],
 "metadata": {
  "kernelspec": {
   "display_name": "java (IJava/j!)",
   "language": "java",
   "name": "jbang-ijava"
  },
  "language_info": {
   "codemirror_mode": "java",
   "file_extension": ".jshell",
   "mimetype": "text/x-java-source",
   "name": "Java",
   "pygments_lexer": "java",
   "version": "17.0.12+0"
  }
 },
 "nbformat": 4,
 "nbformat_minor": 2
}
