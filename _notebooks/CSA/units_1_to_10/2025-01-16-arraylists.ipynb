{
 "cells": [
  {
   "cell_type": "markdown",
   "metadata": {},
   "source": [
    "---\n",
    "layout: post\n",
    "toc: true\n",
    "title: Arrays/ArrayLists Homework \n",
    "categories: [AP CSA]\n",
    "courses: { csa: {week: 10} }\n",
    "type: ccc\n",
    "permalink: /arraylists\n",
    "---"
   ]
  },
  {
   "cell_type": "code",
   "execution_count": null,
   "metadata": {
    "vscode": {
     "languageId": "java"
    }
   },
   "outputs": [],
   "source": [
    "public class WeatherData {\n",
    "    public void cleanData(double lower, double upper) {\n",
    "        for (double temp: temperatures) {\n",
    "            if (temp < lower || temp > upper) {\n",
    "                temperatures.remove(temp);\n",
    "            }\n",
    "        }\n",
    "    }\n",
    "\n",
    "    public int longestHeatWave(double threshold) {\n",
    "        \n",
    "    }\n",
    "}"
   ]
  }
 ],
 "metadata": {
  "language_info": {
   "name": "python"
  }
 },
 "nbformat": 4,
 "nbformat_minor": 2
}
