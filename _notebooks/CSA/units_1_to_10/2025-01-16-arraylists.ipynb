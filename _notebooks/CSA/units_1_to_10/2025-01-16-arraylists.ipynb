{
 "cells": [
  {
   "cell_type": "markdown",
   "metadata": {},
   "source": [
    "---\n",
    "layout: post\n",
    "toc: true\n",
    "title: Arrays/ArrayLists Homework \n",
    "categories: [MCQ/FRQ]\n",
    "courses: { csa: {week: 10} }\n",
    "type: ccc\n",
    "permalink: /arraylists\n",
    "---"
   ]
  },
  {
   "cell_type": "markdown",
   "metadata": {},
   "source": [
    "# First try attempt"
   ]
  },
  {
   "cell_type": "code",
   "execution_count": null,
   "metadata": {
    "vscode": {
     "languageId": "java"
    }
   },
   "outputs": [],
   "source": [
    "public class WeatherData {\n",
    "    public void cleanData(double lower, double upper) {\n",
    "        // check every temp\n",
    "        for (double temp: temperatures) {\n",
    "            // if temp exceeds lower and upper bound, remove\n",
    "            if (temp < lower || temp > upper) {\n",
    "                temperatures.remove(temp);\n",
    "            }\n",
    "        }\n",
    "    }\n",
    "\n",
    "    public int longestHeatWave(double threshold) {\n",
    "        // create these to keep track of lengths\n",
    "        int currentLength;\n",
    "        int longestLength;\n",
    "\n",
    "        // check every temp\n",
    "        for (double temp: temperatures) {\n",
    "            // keep track of temp and threshold\n",
    "            if (temp > threshold) {\n",
    "                currentLength++;\n",
    "                longestLength++;\n",
    "            } else {\n",
    "                currentLength = 0;\n",
    "                longestLength = 0;\n",
    "            }\n",
    "        }\n",
    "\n",
    "        return longestLength;\n",
    "    }\n",
    "}"
   ]
  },
  {
   "cell_type": "markdown",
   "metadata": {},
   "source": [
    "# Correction\n",
    "\n",
    "1. Reverse iteration to prevent index shifting issues\n",
    "- ![Image](https://github.com/user-attachments/assets/73aca3d9-b936-4c1d-97c1-e7c9a5b91454)\n"
   ]
  },
  {
   "cell_type": "code",
   "execution_count": null,
   "metadata": {
    "vscode": {
     "languageId": "java"
    }
   },
   "outputs": [],
   "source": [
    "public class WeatherData {\n",
    "    public void cleanData(double lower, double upper) {\n",
    "        // reverse iteration to prevent \n",
    "        for (int i = temperatures.size() - 1; i >=0; i--) {\n",
    "            // if temp exceeds lower and upper bound, remove\n",
    "            if (temperatures.get(i) < lower || temperatures.get(i) > upper) {\n",
    "                temperatures.remove(i);\n",
    "            }\n",
    "        }\n",
    "    }\n",
    "\n",
    "    public int longestHeatWave(double threshold) {\n",
    "        // create these to keep track of lengths\n",
    "        int currentLength;\n",
    "        int longestLength;\n",
    "\n",
    "        // check every temp\n",
    "        for (double temp: temperatures) {\n",
    "            // keep track of temp and threshold\n",
    "            if (temp > threshold) {\n",
    "                currentLength++;\n",
    "                // added if statement to update longest length\n",
    "                // prevents longest length from being reset to 0 every time\n",
    "                if (currentLength > longestLength) {\n",
    "                    longestLength = currentLength; \n",
    "                }\n",
    "            } else {\n",
    "                currentLength = 0;\n",
    "            }\n",
    "        }\n",
    "\n",
    "        return longestLength;\n",
    "    }\n",
    "}"
   ]
  }
 ],
 "metadata": {
  "language_info": {
   "name": "python"
  }
 },
 "nbformat": 4,
 "nbformat_minor": 2
}
