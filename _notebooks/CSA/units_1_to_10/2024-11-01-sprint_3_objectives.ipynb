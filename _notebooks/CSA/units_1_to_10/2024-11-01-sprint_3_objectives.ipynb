{
 "cells": [
  {
   "cell_type": "markdown",
   "metadata": {},
   "source": [
    "---\n",
    "layout: post\n",
    "toc: true\n",
    "title: Sprint 3 Objectives\n",
    "categories: [AP CSA]\n",
    "courses: { csa: {week: 8} }\n",
    "type: ccc\n",
    "permalink: /sprint3objectives\n",
    "---"
   ]
  },
  {
   "cell_type": "markdown",
   "metadata": {
    "vscode": {
     "languageId": "plaintext"
    }
   },
   "source": [
    "# Sprint 1, 2, and 3 - Objectives\n",
    "\n",
    "> These are the main takeaways from Sprint 1, 2, and 3\n",
    "\n",
    "# Agile Development methodology(Working within a team and having goals and assignments)\n",
    "- After we got our first project idea, I went up to you and wanted to clarify what features you wanted and the goals for the final product. More recently, our collective groups have posted indiviudal reviews on what tasks we need to get done\n",
    "- ![Screenshot 2024-10-31 at 9 55 05 PM](https://github.com/user-attachments/assets/1261b8ae-fe8a-4a8a-94cb-724155bc0966)\n",
    "- ![Screenshot 2024-10-31 at 9 58 34 PM](https://github.com/user-attachments/assets/f4c285fc-6261-4b61-87b9-212f44971877)\n",
    "\n",
    "# Indicators and Analytics(proof of work)\n",
    "- In terms of organization, I've been committing inside of our 4 group team repo as there can be initialization conflicts with the larger group backend. Ive made sure to commit to my branch and then pull into the main. \n",
    "- ![Screenshot 2024-10-31 at 9 59 45 PM](https://github.com/user-attachments/assets/f019f022-a67e-450e-ac68-2d4729a31516)\n",
    "- ![Screenshot 2024-10-31 at 10 00 43 PM](https://github.com/user-attachments/assets/87f8e5f2-895e-4b73-9907-b07d6ee464ce)\n",
    "\n",
    "\n",
    "# Issues\n",
    "> Data Type\n",
    "- When initializing the data for my question table, the spring boot application would run but when I checked sqlite.db, I couldn't see any entrees for question. I found out that the questionFound variable was singular but in my comparison I was checking \"questionFound.size() == 0\". This is only applicable for a list of objects but I had a singular object. I changed it to \"questionFound == null\" and it worked. \n",
    "- ![Screenshot 2024-10-31 at 10 12 51 PM](https://github.com/user-attachments/assets/8e7bd4ad-3c63-4434-9a1e-1836a55e0d02)\n",
    "> ChatGPT\n",
    "- When I reviewed your existing code, I tried testing it by implementing the API key we got. However, I ran into issues. See below\n",
    "\n",
    "- ![Screenshot 2024-10-31 at 10 37 34 PM](https://github.com/user-attachments/assets/41607a1c-8145-4d72-b166-3cc045041341)\n",
    "\n",
    "\n",
    "- I even tried debugging to find the root cause and I found that during the HttpPost request, it wouldn't properly send a request. Ironically, I asked ChatGPT and it gave me a new url to test and it worked using ChatGPT's url. \n",
    "\n",
    "- ![Screenshot 2024-10-31 at 10 32 43 PM](https://github.com/user-attachments/assets/c8f2950e-8427-4ca8-9c78-c2560208acb2)\n",
    "\n",
    "- I implemented the working url into new code and it successfully returns a response. I still need to work on the rubric though. \n",
    "- ![Screenshot 2024-10-31 at 10 37 34 PM](https://github.com/user-attachments/assets/41607a1c-8145-4d72-b166-3cc045041341)\n",
    "- ![Screenshot 2024-10-31 at 10 47 41 PM](https://github.com/user-attachments/assets/0d41f574-d5ea-4f07-ab78-695c67395e50)\n",
    "\n",
    "> .env\n",
    "- When working on the ChatGPT request, I had an error where I couldn't commit and it would say \"Can't push refs to remote. Try running \"Pull\" first to integrate your changes.\" I solved it by moving all the files to a backup repo and then tried committing my changes one at a time. I found out when I got to committing .env, it would give me an error. I figured out that it was because I stored secret keys that I don't want exposing to the internet so I added it to .gitignore and it allowed me to commit.\n",
    "- ![image](https://github.com/user-attachments/assets/d7bc3093-133f-4af3-a8e6-cc810fe3f6eb)\n",
    "- ![image](https://github.com/user-attachments/assets/daa31353-4aad-4449-9cbe-0176f97b4195)\n",
    "\n",
    "# Planning\n",
    "- When planning for the project, we decided to jot our ideas down in an [issue](https://github.com/AidanLau10/rpgSpring_2025/issues/1)] and then designate features on a [Figma board](https://www.figma.com/board/Ay7vHPuUeh4tO0ccoMa9fn/Sprint-PBL?node-id=0-1&node-type=canvas&t=zyzPazCEqojeMCAe-0)\n",
    "- ![Screenshot 2024-10-31 at 9 53 47 PM](https://github.com/user-attachments/assets/bd620a62-dbf7-4408-bde9-695355705469)\n",
    "- ![Screenshot 2024-10-31 at 9 54 17 PM](https://github.com/user-attachments/assets/7c792fbe-0405-458f-a2c2-a3239d86b3fe)\n",
    "\n",
    "# Project Contributions\n",
    "> Project Overview\n",
    "- Player answers popcorn hacks and receives badges, points, and a ChatGPT score\n",
    "\n",
    "- For backend, I defined the Player, Question, Answer, and Badge classes/tables, their respective JpaRepositories and then ApiControllers.\n",
    "- ![Screenshot 2024-10-31 at 10 21 03 PM](https://github.com/user-attachments/assets/c08729d2-b71b-48d0-a3e0-53a8ce21dab5)\n",
    "- ![Screenshot 2024-10-31 at 10 24 02 PM](https://github.com/user-attachments/assets/5fedf25c-9d6e-4e83-92bd-0f58b313c91d)\n",
    "\n",
    "- Collaborated with Saathvik to submit an answer and store the player who submitted it and send a request to ChatGPT to score it\n",
    "- ![Screenshot 2024-10-31 at 10 25 56 PM](https://github.com/user-attachments/assets/ec9dfc31-3d89-4f4c-b920-636f661b7ed6)\n",
    "\n",
    "\n"
   ]
  }
 ],
 "metadata": {
  "kernelspec": {
   "display_name": "java (IJava/j!)",
   "language": "java",
   "name": "jbang-ijava"
  },
  "language_info": {
   "codemirror_mode": "java",
   "file_extension": ".jshell",
   "mimetype": "text/x-java-source",
   "name": "java",
   "pygments_lexer": "java",
   "version": "17.0.12+0"
  }
 },
 "nbformat": 4,
 "nbformat_minor": 2
}
