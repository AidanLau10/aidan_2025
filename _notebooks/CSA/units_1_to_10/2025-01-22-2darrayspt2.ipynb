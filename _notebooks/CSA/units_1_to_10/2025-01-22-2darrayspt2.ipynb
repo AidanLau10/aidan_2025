{
 "cells": [
  {
   "cell_type": "markdown",
   "metadata": {},
   "source": [
    "---\n",
    "layout: post\n",
    "toc: true\n",
    "title: 2D Arrays Part 2 - Homework\n",
    "categories: [MCQ/FRQ]\n",
    "courses: { csa: {week: 10} }\n",
    "type: ccc\n",
    "permalink: /2darrayspt2\n",
    "---"
   ]
  },
  {
   "cell_type": "markdown",
   "metadata": {},
   "source": [
    "# Original Attempt"
   ]
  },
  {
   "cell_type": "code",
   "execution_count": null,
   "metadata": {
    "vscode": {
     "languageId": "java"
    }
   },
   "outputs": [],
   "source": [
    "public class Data {\n",
    "    public static final int MAX;\n",
    "    private int[][] grid;\n",
    "\n",
    "    public void repopulate() {\n",
    "        for (int i = 0; i < grid.length; i++) {\n",
    "            for (int j = 0; j < grid[0].length; j++) {\n",
    "                int newValue = Math.random(1, MAX);\n",
    "                while ((newValue % 10 == 0) && (newValue % 100 !== 0)) {\n",
    "                    int newValue = Math.random(1, MAX);\n",
    "                }\n",
    "                \n",
    "                grid[i][j] = newValue;\n",
    "                \n",
    "            }\n",
    "        }\n",
    "    }\n",
    "\n",
    "    public int countIncreasingCols() {\n",
    "        // i want to check a column which means checking every row in one column\n",
    "        // i want to loop through every column and loop through every column's rows.\n",
    "        // i want to keep track of the # of increasing cols and return it\n",
    "\n",
    "        int increasingCols = 0;\n",
    "\n",
    "        // outer loop goes through every column\n",
    "        for (int cols = 0; cols < grid[0].length; cols++) {\n",
    "            // rows starts at 1 cuz we need to check prev row\n",
    "            for (int rows = 1; rows < grid.length; rows++) {\n",
    "                if (grid[rows][cols] > grid[rows - 1][cols]) {\n",
    "                    increasingCols++;\n",
    "                } else {\n",
    "                    break;\n",
    "                }\n",
    "            }\n",
    "\n",
    "        }\n",
    "\n",
    "        return increasingCols;\n",
    "    }\n",
    "\n",
    "\n",
    "}"
   ]
  },
  {
   "cell_type": "markdown",
   "metadata": {},
   "source": [
    "# Correct Attempt"
   ]
  },
  {
   "cell_type": "code",
   "execution_count": null,
   "metadata": {
    "vscode": {
     "languageId": "java"
    }
   },
   "outputs": [],
   "source": [
    "public class Data {\n",
    "    public static final int MAX;\n",
    "    private int[][] grid;\n",
    "\n",
    "    public void repopulate() {\n",
    "        for (int i = 0; i < grid.length; i++) {\n",
    "            for (int j = 0; j < grid[0].length; j++) {\n",
    "                int newValue = (int) (Math.random() * MAX) + 1;\n",
    "\n",
    "                while ((newValue % 10 != 0) || (newValue % 100 == 0)) {\n",
    "                    newValue = (int) (Math.random() * MAX) + 1;\n",
    "\n",
    "                }\n",
    "                \n",
    "                grid[i][j] = newValue;\n",
    "                \n",
    "            }\n",
    "        }\n",
    "    }\n",
    "\n",
    "    public int countIncreasingCols() {\n",
    "        // i want to check a column which means checking every row in one column\n",
    "        // i want to loop through every column and loop through every column's rows.\n",
    "        // i want to keep track of the # of increasing cols and return it\n",
    "\n",
    "        int increasingCols = 0;\n",
    "\n",
    "        // outer loop goes through every column\n",
    "        for (int cols = 0; cols < grid[0].length; cols++) { \n",
    "            // reset flag after each column\n",
    "            boolean increasing = true;\n",
    "            // rows starts at 1 cuz we need to check prev row\n",
    "            for (int rows = 1; rows < grid.length; rows++) {\n",
    "                if (grid[rows][cols] < grid[rows - 1][cols]) {\n",
    "                    increasing = false;\n",
    "                } \n",
    "            }\n",
    "            if (increasing == true) {\n",
    "                increasingCols++;\n",
    "            }\n",
    "\n",
    "        }\n",
    "\n",
    "        return increasingCols;\n",
    "    }\n",
    "\n",
    "\n",
    "}"
   ]
  }
 ],
 "metadata": {
  "language_info": {
   "name": "python"
  }
 },
 "nbformat": 4,
 "nbformat_minor": 2
}
