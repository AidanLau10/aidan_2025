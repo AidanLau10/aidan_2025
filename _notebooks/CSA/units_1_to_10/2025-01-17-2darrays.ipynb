{
 "cells": [
  {
   "cell_type": "markdown",
   "metadata": {},
   "source": [
    "---\n",
    "layout: post\n",
    "toc: true\n",
    "title: 2D Arrays - Homework\n",
    "categories: [MCQ/FRQ]\n",
    "courses: { csa: {week: 10} }\n",
    "type: ccc\n",
    "permalink: /2darrays\n",
    "---"
   ]
  },
  {
   "cell_type": "markdown",
   "metadata": {},
   "source": [
    "# Original Attempt"
   ]
  },
  {
   "cell_type": "code",
   "execution_count": null,
   "metadata": {
    "vscode": {
     "languageId": "java"
    }
   },
   "outputs": [],
   "source": [
    "public class ArrayResizer {\n",
    "    public static boolean isNonZeroRow(int[][] array2D, int r) {\n",
    "        // only checking one row. but checking all its columns\n",
    "        \n",
    "        // regular iteration of a 2darray. but we already have row so outer loop not needed\n",
    "        /* \n",
    "        for (int i = 0; i < array2D.length; i++) {\n",
    "            for (int j = 0; j < array2D[i].length; j++) {\n",
    "\n",
    "            }\n",
    "        }\n",
    "        */\n",
    "\n",
    "        // only checking columns\n",
    "        for (int j = 0; j < array2D[r].length; j++) {\n",
    "            if (array2D[r][j] == 0) {\n",
    "                return false;\n",
    "            } \n",
    "        }\n",
    "        return true;\n",
    "\n",
    "\n",
    "    }\n",
    "\n",
    "    public static int[][] resize(int[][] array2D) {\n",
    "        int rows = array2D.length;\n",
    "        int cols = array2D[0].length;\n",
    "\n",
    "        // have to create a new 2D array with nonzero rows\n",
    "        int nonZeroRows = numNonZeroRows(array2D);\n",
    "        int[][] nonZeroArray = new int[nonZeroRows][cols];\n",
    "\n",
    "        for (int i = 0; i < rows; i++) {\n",
    "            if (isNonZeroRow(array2D, i)) {\n",
    "                for (int j = 0; j < cols; j++) {\n",
    "                    nonZeroArray[i][j] == array2D[i][j];\n",
    "                }\n",
    "            }\n",
    "        }\n",
    "        return nonZeroArray;\n",
    "    }\n",
    "}"
   ]
  },
  {
   "cell_type": "markdown",
   "metadata": {},
   "source": [
    "# Correct Attempt"
   ]
  },
  {
   "cell_type": "code",
   "execution_count": null,
   "metadata": {
    "vscode": {
     "languageId": "java"
    }
   },
   "outputs": [],
   "source": [
    "public class ArrayResizer {\n",
    "    public static boolean isNonZeroRow(int[][] array2D, int r) {\n",
    "        // only checking one row. but checking all its columns\n",
    "        \n",
    "        // regular iteration of a 2darray. but we already have row so outer loop not needed\n",
    "        /* \n",
    "        for (int i = 0; i < array2D.length; i++) {\n",
    "            for (int j = 0; j < array2D[i].length; j++) {\n",
    "\n",
    "            }\n",
    "        }\n",
    "        */\n",
    "\n",
    "        // only checking columns\n",
    "        for (int j = 0; j < array2D[r].length; j++) {\n",
    "            if (array2D[r][j] == 0) {\n",
    "                return false;\n",
    "            } \n",
    "        }\n",
    "        return true;\n",
    "\n",
    "\n",
    "    }\n",
    "\n",
    "    public static int[][] resize(int[][] array2D) {\n",
    "        int rows = array2D.length;\n",
    "        int cols = array2D[0].length;\n",
    "        \n",
    "        \n",
    "        int currentRow = 0;\n",
    "        // have to create a new 2D array with nonzero rows\n",
    "        int nonZeroRows = numNonZeroRows(array2D);\n",
    "        int[][] nonZeroArray = new int[nonZeroRows][cols];\n",
    "\n",
    "        // loop through every row in array2D\n",
    "        for (int i = 0; i < rows; i++) {\n",
    "            // check if current row is a nonzero row\n",
    "            if (isNonZeroRow(array2D, i)) {\n",
    "                // since its a nonzero row, we want to copy each value to new array\n",
    "                // loop through every column\n",
    "                for (int j = 0; j < cols; j++) {\n",
    "                    // nonZeroArray has diff num of rows than array2D\n",
    "                    // keep a diff tracker of num of rows for nonZeroArray\n",
    "                    nonZeroArray[currentRow][j] = array2D[i][j];\n",
    "                }\n",
    "                // after copying the values from array2d to nonZeroArray, add new row to nonzeroarray\n",
    "                currentRow++;\n",
    "            }\n",
    "        }\n",
    "        return nonZeroArray;\n",
    "    }\n",
    "}"
   ]
  }
 ],
 "metadata": {
  "language_info": {
   "name": "python"
  }
 },
 "nbformat": 4,
 "nbformat_minor": 2
}
