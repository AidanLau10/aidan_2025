{
 "cells": [
  {
   "cell_type": "markdown",
   "metadata": {},
   "source": [
    "---\n",
    "layout: post\n",
    "toc: true\n",
    "title: Unit 3 Boolean - Hacks and Homework\n",
    "description: Arrays Hacks\n",
    "categories: [Unit Homework]\n",
    "courses: { csa: {week: 6} }\n",
    "type: ccc\n",
    "permalink: /unit3hacks\n",
    "---"
   ]
  },
  {
   "cell_type": "markdown",
   "metadata": {},
   "source": [
    "# 3.1 Boolean Expressions"
   ]
  },
  {
   "cell_type": "markdown",
   "metadata": {},
   "source": [
    "### Hack\n",
    "\n",
    "int myAge = 15;\n",
    "int otherAge = 45; \n",
    "using these integers, determine weather the following statements are True or False\n",
    "\n",
    "1. True\n",
    "2. True\n",
    "3. True\n",
    "4. False\n",
    "5. False\n",
    "6. True"
   ]
  },
  {
   "cell_type": "markdown",
   "metadata": {
    "vscode": {
     "languageId": "plaintext"
    }
   },
   "source": [
    "### Popcorn Hack\n",
    "whats wrong with this code? (below)\n",
    "\n",
    "- Strings need to have quotes(\"\") around them\n",
    "- Strings should be compared using the operator .equalsTo not == \n",
    "- It wont break the code but it looks weird to put a space before the semicolon in the last line"
   ]
  },
  {
   "cell_type": "code",
   "execution_count": null,
   "metadata": {},
   "outputs": [],
   "source": [
    "String myName = Alisha;\n",
    "\n",
    "myName != Anika;\n",
    "myName == Alisha ;"
   ]
  },
  {
   "cell_type": "markdown",
   "metadata": {},
   "source": [
    "### Homework Question\n",
    "\n",
    "- The precondition for num is that the number of digits is between one and six"
   ]
  },
  {
   "cell_type": "markdown",
   "metadata": {},
   "source": [
    "# 3.2 If Statements and Control Flow"
   ]
  },
  {
   "cell_type": "markdown",
   "metadata": {},
   "source": [
    "### Popcorn Hack"
   ]
  },
  {
   "cell_type": "code",
   "execution_count": 1,
   "metadata": {},
   "outputs": [],
   "source": [
    "public static void main(String[] args) {\n",
    "    int myAge = 9;\n",
    "    System.out.println(\"Current age: \" + myAge);\n",
    "    \n",
    "    if (myAge <= 16) {\n",
    "        System.out.println(\"You can start learning to drive!\");\n",
    "    }\n",
    "\n",
    "    System.out.println(\"On your next birthday, you will be \" + (myAge + 1) + \" years old!\");\n",
    "}"
   ]
  },
  {
   "cell_type": "markdown",
   "metadata": {},
   "source": [
    "# 3.3 If Else Statements"
   ]
  },
  {
   "cell_type": "markdown",
   "metadata": {
    "vscode": {
     "languageId": "java"
    }
   },
   "source": [
    "### Popcorn Hack"
   ]
  },
  {
   "cell_type": "code",
   "execution_count": 3,
   "metadata": {},
   "outputs": [
    {
     "name": "stdout",
     "output_type": "stream",
     "text": [
      "You are a star student!\n"
     ]
    }
   ],
   "source": [
    "int grade = 97;\n",
    "\n",
    "if (grade > 90) {\n",
    "    System.out.println(\"You are a star student!\");\n",
    "} else {\n",
    "    System.out.println(\"You are an ok student.\");\n",
    "}"
   ]
  },
  {
   "cell_type": "markdown",
   "metadata": {
    "vscode": {
     "languageId": "java"
    }
   },
   "source": [
    "# 3.4 Else If Statements\n",
    "\n",
    "1. If you're 19, it will print out \"You can register to vote\" and \"You are old enough for a license to drive\"\n",
    "2. If you're 14(not 13 as explained during lesson), it will print out \"You are 14\""
   ]
  },
  {
   "cell_type": "code",
   "execution_count": 2,
   "metadata": {},
   "outputs": [
    {
     "name": "stdout",
     "output_type": "stream",
     "text": [
      "Great grade!\n"
     ]
    }
   ],
   "source": [
    "int grade = 97;\n",
    "if (grade >= 90) {\n",
    "    System.out.println(\"Great grade!\");\n",
    "} else if (grade >= 80) {\n",
    "    System.out.println(\"Eh your grade is alright\");\n",
    "} else if (grade >= 70) {\n",
    "    System.out.println(\"Nice effort!\");\n",
    "} else if (grade >= 60) {\n",
    "    System.out.println(\"Not very good grade\");\n",
    "} else {\n",
    "    System.out.println(\"Pretty bad grade\");\n",
    "}"
   ]
  },
  {
   "cell_type": "markdown",
   "metadata": {},
   "source": [
    "# 3.5 Compound Boolean Expressions"
   ]
  },
  {
   "cell_type": "markdown",
   "metadata": {},
   "source": [
    "### Popcorn hack\n",
    "- explain the purpose of this algorithm, and what each if condition is used for\n",
    "- what would be output if input is \n",
    "    - age 20\n",
    "    - anual income 1500\n",
    "    - student status: yes\n",
    "\n",
    "> Purpose: The purpose of this algorithm is to gives different membership's and discounts based on the user's age, income, and student status. Each if condition checks if the user has certain criteria for a certain membership  \n",
    "\n",
    "> If the input is age = 20, annual income = 1500, and student status = yes, it will output \"You are eligible for a Student Discount\""
   ]
  },
  {
   "cell_type": "markdown",
   "metadata": {},
   "source": [
    "### Popcorn Hack #2\n",
    "- Write a program that checks if a person can get a discount based on their age and student status. You can define your own discount criteria! Use compound conditionals to determine the output."
   ]
  },
  {
   "cell_type": "code",
   "execution_count": 5,
   "metadata": {},
   "outputs": [],
   "source": [
    "import java.util.Scanner;\n",
    "\n",
    "public class DiscountChecker {\n",
    "    public static void main(String[] args) {\n",
    "        Scanner scanner = new Scanner(System.in);\n",
    "\n",
    "        System.out.print(\"Enter your age: \");\n",
    "        int age = scanner.nextInt();  \n",
    "        scanner.nextLine();  \n",
    "        System.out.print(\"Are you a student? (yes/no): \");\n",
    "        String studentInput = scanner.nextLine().toLowerCase();  \n",
    "        boolean isStudent = studentInput.equals(\"yes\");\n",
    "\n",
    "        if (age < 18) {\n",
    "            System.out.println(\"You are eligible for a Youth Discount.\");\n",
    "        } else if (age >= 65) {\n",
    "            System.out.println(\"You are eligible for a Senior Discount.\");\n",
    "        } else if (isStudent) {\n",
    "            System.out.println(\"You are eligible for a Student Discount.\");\n",
    "        } else {\n",
    "            System.out.println(\"You are not eligible for any discounts.\");\n",
    "        }\n",
    "\n",
    "        scanner.close();\n",
    "    }\n",
    "}\n"
   ]
  },
  {
   "cell_type": "markdown",
   "metadata": {
    "vscode": {
     "languageId": "java"
    }
   },
   "source": [
    "# 3.6 Equivalent Boolean Expressions"
   ]
  },
  {
   "cell_type": "markdown",
   "metadata": {},
   "source": [
    "1. **What is `!(x == 0)` equivalent to?**\n",
    "   - Apply De Morgan's Law to find an equivalent expression.\n",
    "\n",
    "> In class, we found that its equal to x != 0 \n",
    "\n",
    "2. **Negate the expression `(x < -5 || x > 10)`.**\n",
    "   - Use De Morgan's Law to rewrite this expression in a different form.\n",
    "\n",
    "> In class, we found that its equal to !(x > -5 && x < 10)"
   ]
  },
  {
   "cell_type": "markdown",
   "metadata": {
    "vscode": {
     "languageId": "java"
    }
   },
   "source": [
    "# 3.7 Comparing Objects"
   ]
  },
  {
   "cell_type": "markdown",
   "metadata": {
    "vscode": {
     "languageId": "java"
    }
   },
   "source": [
    "### Popcorn Hack\n",
    "Would the sharons house and my house be the same?\n",
    "\n",
    "> Sharon's house and my house would be the same because both have green colored and 150 sized houses."
   ]
  },
  {
   "cell_type": "code",
   "execution_count": null,
   "metadata": {},
   "outputs": [],
   "source": [
    "class House {\n",
    "    private String color;\n",
    "    private int size;\n",
    "\n",
    "    public House(String color, int size) {\n",
    "        this.color = color;\n",
    "        this.size = size;\n",
    "    }\n",
    "\n",
    "    // Override equals method to compare House objects by content\n",
    "    @Override\n",
    "    public boolean equals(Object obj) {\n",
    "        if (this == obj) return true;  // Check if same object reference\n",
    "        if (obj == null || getClass() != obj.getClass()) return false;  // Check if same class\n",
    "        House house = (House) obj;\n",
    "        return size == house.size && color.equals(house.color);  // Compare attributes\n",
    "    }\n",
    "}\n",
    "\n",
    "public class Main {\n",
    "    public static void main(String[] args) {\n",
    "        House myHouse = new House(\"green\", 150);\n",
    "        House anikasHouse = new House(\"green\", 150);\n",
    "        House sharonsHouse = new House(\"green\", 150);\n",
    "\n",
    "        // Correct comparison using equals()\n",
    "        System.out.println(myHouse.equals(sharonsHouse));  // This should return true\n",
    "    }\n",
    "}\n"
   ]
  },
  {
   "cell_type": "markdown",
   "metadata": {
    "vscode": {
     "languageId": "java"
    }
   },
   "source": [
    "# Homework "
   ]
  },
  {
   "cell_type": "code",
   "execution_count": 6,
   "metadata": {},
   "outputs": [],
   "source": [
    "import java.util.Scanner;\n",
    "\n",
    "public class PrimeClubMembership {\n",
    "    public static void main(String[] args) {\n",
    "        Scanner scanner = new Scanner(System.in);\n",
    "\n",
    "        int age = -1;\n",
    "        while (age < 0) {\n",
    "            System.out.print(\"Enter your age (positive integer): \");\n",
    "            age = scanner.nextInt();\n",
    "            if (age < 0) {\n",
    "                System.out.println(\"Age must be a positive integer.\");\n",
    "            }\n",
    "        }\n",
    "\n",
    "        double income = -1.0;\n",
    "        while (income < 0) {\n",
    "            System.out.print(\"Enter your annual income (positive number): \");\n",
    "            income = scanner.nextDouble();\n",
    "            if (income < 0) {\n",
    "                System.out.println(\"Annual income must be a positive number.\");\n",
    "            }\n",
    "        }\n",
    "        \n",
    "        scanner.nextLine();\n",
    "\n",
    "        boolean isStudent = false;\n",
    "        String studentStatus = \"\";\n",
    "        while (!studentStatus.equals(\"yes\") && !studentStatus.equals(\"no\")) {\n",
    "            System.out.print(\"Are you a student? (yes/no): \");\n",
    "            studentStatus = scanner.nextLine().trim().toLowerCase();\n",
    "            if (!studentStatus.equals(\"yes\") && !studentStatus.equals(\"no\")) {\n",
    "                System.out.println(\"Please enter 'yes' or 'no'.\");\n",
    "            }\n",
    "        }\n",
    "        isStudent = studentStatus.equals(\"yes\");\n",
    "\n",
    "        String employmentType = \"\";\n",
    "        while (!employmentType.equals(\"full-time\") && !employmentType.equals(\"part-time\") && !employmentType.equals(\"unemployed\")) {\n",
    "            System.out.print(\"Enter your employment type (full-time, part-time, unemployed): \");\n",
    "            employmentType = scanner.nextLine().trim().toLowerCase();\n",
    "            if (!employmentType.equals(\"full-time\") && !employmentType.equals(\"part-time\") && !employmentType.equals(\"unemployed\")) {\n",
    "                System.out.println(\"Please enter 'full-time', 'part-time', or 'unemployed'.\");\n",
    "            }\n",
    "        }\n",
    "\n",
    "        boolean isBasic = age >= 18 && income >= 20000;\n",
    "        boolean isPremium = age >= 25 && income >= 50000;\n",
    "        boolean isSenior = age >= 65;\n",
    "        boolean hasStudentDiscount = isStudent;\n",
    "\n",
    "        System.out.println(\"\\nMembership Qualifications:\");\n",
    "        if (isPremium) {\n",
    "            System.out.println(\"You qualify for Premium Membership.\");\n",
    "        }\n",
    "        if (isBasic && !isPremium) {\n",
    "            System.out.println(\"You qualify for Basic Membership.\");\n",
    "        }\n",
    "        if (hasStudentDiscount) {\n",
    "            System.out.println(\"You qualify for a Student Discount.\");\n",
    "        }\n",
    "        if (isSenior) {\n",
    "            System.out.println(\"You qualify for a Senior Discount.\");\n",
    "        }\n",
    "        if (!isBasic && !isPremium && !hasStudentDiscount && !isSenior) {\n",
    "            System.out.println(\"You do not qualify for any memberships or discounts.\");\n",
    "        }\n",
    "\n",
    "        System.out.println(\"\\nBest Membership Recommendation:\");\n",
    "        if (isPremium) {\n",
    "            System.out.println(\"We recommend the Premium Membership.\");\n",
    "        } else if (isSenior) {\n",
    "            System.out.println(\"We recommend the Senior Discount.\");\n",
    "        } else if (hasStudentDiscount) {\n",
    "            System.out.println(\"We recommend the Student Discount.\");\n",
    "        } else if (isBasic) {\n",
    "            System.out.println(\"We recommend the Basic Membership.\");\n",
    "        } else {\n",
    "            System.out.println(\"Unfortunately, you do not qualify for any memberships or discounts.\");\n",
    "        }\n",
    "\n",
    "        scanner.close();\n",
    "    }\n",
    "}\n"
   ]
  }
 ],
 "metadata": {
  "kernelspec": {
   "display_name": "java (IJava/j!)",
   "language": "java",
   "name": "jbang-ijava"
  },
  "language_info": {
   "codemirror_mode": "java",
   "file_extension": ".jshell",
   "mimetype": "text/x-java-source",
   "name": "java",
   "pygments_lexer": "java",
   "version": "17.0.12+0"
  }
 },
 "nbformat": 4,
 "nbformat_minor": 2
}
