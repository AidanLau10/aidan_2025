{
 "cells": [
  {
   "cell_type": "markdown",
   "metadata": {},
   "source": [
    "---\n",
    "layout: post\n",
    "toc: true\n",
    "title: Student Panel Blog \n",
    "categories: [AP CSA]\n",
    "courses: { csa: {week: 10} }\n",
    "type: ccc\n",
    "permalink: /studentpanel\n",
    "---"
   ]
  },
  {
   "cell_type": "markdown",
   "metadata": {},
   "source": [
    "# Takweaways\n",
    "\n",
    "## Important Skills\n",
    "- Important to stay open to feedback. Whether it’s constructive criticism or helpful suggestions, being willing to listen, reflect, and then work with my team to improve a project is vital.\n",
    "- Projects aren’t just technical—they often have social or ethical aspect too. For example, working on something like facial recognition isn’t just about the coding but also understanding the ethical implications.\n",
    "- Michael said to use GitBooks to help manage documentation \n",
    "- Another thing that stood out is how often flowcharts come into play. They’re such a simple yet powerful tool for organizing and communicating ideas. \n",
    "- Clubs often implement agile methodology and often utilize documentation and issue tracking. \n",
    "- Clear and direct communication is key. Summarize what I’m working on effectively to keep everyone on the same page.\n",
    "\n",
    "## Application\n",
    "- Look through the catalogs and courses offered at the school or internship\n",
    "- Talk about something unique the internship or the college offers that you are interested in \n",
    "    - This allows me to not just say I’m interested in a place but to show exactly how I could contribute and make an impact. \n",
    "    - Highlighting something unique about the school or internship shows I’ve put in the effort and helps me stand out.\n",
    "\n",
    "## Mindset\n",
    "- Turn ideas into code. It’s not enough to just have a cool idea; I need to figure out how to break it down and actually implement it. This way, I’m not only more confident going into college but also better prepared for projects and internships.\n",
    "- Find things I’m truly passionate about, like specific clubs or organizations. They’re not just great for personal growth but also for building a network. The connections I make now could open doors in the future\n",
    "\n",
    "## Activities\n",
    "- Exploring new activities is big. \n",
    "    - CyberPatriot teaches teamwork, hacking, and even the ethical aspects of cybersecurity. It’s competitive but also collaborative, which makes it a great learning experience.\n",
    "    ![image](https://github.com/user-attachments/assets/9683042c-0f91-4383-b4e2-fc20ea717a60)\n",
    "\n",
    "    - I can get research experience by cold-emailing professors at places like UCSD. Being proactive can lead to amazing opportunities. The key is to always be open to exploring new opportunities, even if they’re outside my comfort zone.\n",
    "\n",
    "## Tips/To Do\n",
    "- Make a portfolio of projects. A one-page resume isn’t always enough to showcase everything I’ve done. A portfolio is a way to go deeper and show off what I’ve built.\n",
    "![image](https://github.com/user-attachments/assets/811b57ad-897b-46b1-8fdf-7b66e6bc71c1)\n",
    "- First summer of freshman year is crucial. Even if the internship isn’t directly related to my major, just getting any kind of experience can set the stage for more focused opportunities later. It’s all about building momentum and taking that first step. After that, I can find an internship specific to my major\n",
    "\n",
    "> All in all\n",
    "- Within school and even outside, I should be exploring new opportunities and chances to network such as joining clubs I'm passionate about or even joining competitions.\n",
    "- While working in a team, it is important to COMMUNICATE with my team(flowcharts can help). But really just document with GitBooks or issues. Be direct and clear so everyone knows what they're supposed to do. \n",
    "\n"
   ]
  },
  {
   "cell_type": "markdown",
   "metadata": {},
   "source": [
    "# Picture!\n",
    "- ![IMG_1265](https://github.com/user-attachments/assets/713f64f2-0b32-4a79-be29-777b006a18b0)\n"
   ]
  }
 ],
 "metadata": {
  "language_info": {
   "name": "python"
  }
 },
 "nbformat": 4,
 "nbformat_minor": 2
}
