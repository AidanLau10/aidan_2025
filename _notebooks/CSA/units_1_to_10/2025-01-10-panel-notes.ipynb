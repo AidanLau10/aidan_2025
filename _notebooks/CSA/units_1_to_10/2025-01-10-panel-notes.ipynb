{
 "cells": [
  {
   "cell_type": "markdown",
   "metadata": {},
   "source": [
    "---\n",
    "layout: post\n",
    "toc: true\n",
    "title: Student Panel Blog \n",
    "categories: [AP CSA]\n",
    "courses: { csa: {week: 10} }\n",
    "type: ccc\n",
    "permalink: /studentpanel\n",
    "---"
   ]
  },
  {
   "cell_type": "markdown",
   "metadata": {},
   "source": [
    "# Picture!\n",
    "- "
   ]
  }
 ],
 "metadata": {
  "language_info": {
   "name": "python"
  }
 },
 "nbformat": 4,
 "nbformat_minor": 2
}
