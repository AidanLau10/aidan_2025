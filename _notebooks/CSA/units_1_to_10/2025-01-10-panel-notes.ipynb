{
 "cells": [
  {
   "cell_type": "markdown",
   "metadata": {},
   "source": [
    "---\n",
    "layout: post\n",
    "toc: true\n",
    "title: Student Panel Takeaways \n",
    "categories: [Reviews]\n",
    "courses: { csa: {week: 10} }\n",
    "type: ccc\n",
    "permalink: /studentpanel\n",
    "---"
   ]
  },
  {
   "cell_type": "markdown",
   "metadata": {},
   "source": [
    "* Here are my takeaways from the student panel with college students from Columbia, SDSU, and Purdue! (1/8/25)\n",
    "---\n",
    "\n",
    "## **Important Skills**\n",
    "- **Stay open to feedback**: Whether it’s constructive criticism or helpful suggestions, being willing to listen, reflect, and work with my team to improve a project is vital.  \n",
    "    - - **Clear and direct communication**: Summarizing what I’m working on keeps everyone **on the same page** and improves teamwork.\n",
    "- **Beyond technical work**: Projects often have a **social or ethical aspect** too. For example, working on something like facial recognition isn’t just about the coding but also understanding the **ethical implications**.  \n",
    "- **Documentation tools**: Michael suggested using **GitBooks** to manage documentation effectively.  \n",
    "![image](https://github.com/user-attachments/assets/b038a623-8c7a-4d91-83a7-1ee8177c9f8f)\n",
    "- **Flowcharts are key**: They’re a simple yet powerful tool for **organizing and communicating ideas**.  \n",
    "![Screenshot 2025-01-11 at 1 49 21 PM](https://github.com/user-attachments/assets/7b37547c-bc64-447e-a5be-89cd53d15428)\n",
    "- **Agile methodology**: Clubs often implement **agile methodology**, utilizing **documentation** and **issue tracking** to manage projects.  \n",
    "![image](https://github.com/user-attachments/assets/5984a711-f929-4136-a2e6-4e7c2bdb44ec)\n",
    "\n",
    "---\n",
    "\n",
    "## **Mindset**\n",
    "- **Turn ideas into code**: It’s not enough to have a cool idea—I need to figure out how to **break it down** and actually **implement it**.  \n",
    "- **Passion and networking**: Find things I’m **truly passionate about**, like specific clubs or organizations.  \n",
    "  - They’re great for **personal growth** and **building a network**.  \n",
    "  - The connections I make now could open doors in the future.\n",
    "\n",
    "\n",
    "---\n",
    "\n",
    "## **Activities**\n",
    "- **Explore new activities**:  \n",
    "  - **CyberPatriot**: Teaches **teamwork**, **hacking**, and **ethical cybersecurity**. It’s competitive but also collaborative, making it a great learning experience.  \n",
    "    ![CyberPatriot Image](https://github.com/user-attachments/assets/9683042c-0f91-4383-b4e2-fc20ea717a60)  \n",
    "\n",
    "  - **Research experience**:  \n",
    "    - Proactively **cold-email professors** at places like UCSD.  \n",
    "    - Being proactive can lead to amazing opportunities.  \n",
    "    - The key is to always be **open to exploring new opportunities**, even outside my comfort zone.\n",
    "\n",
    "---\n",
    "\n",
    "## **College-Related**\n",
    "- **Explore catalogs and courses**: Look through the catalogs and courses offered at the school or internship.  \n",
    "- **Highlight unique opportunities**:  \n",
    "  - Talk about **unique offerings** that interest me.  \n",
    "  - Show **how I could contribute** and make an impact, demonstrating genuine interest and effort.  \n",
    "  - This approach helps me **stand out** by emphasizing preparation and passion.\n",
    "\n",
    "---\n",
    "\n",
    "## **Tips / To-Do**\n",
    "- **Create a portfolio**:  \n",
    "  - A one-page resume isn’t always enough to showcase everything I’ve done.  \n",
    "  - A portfolio allows me to **go deeper** and **showcase my projects**.  \n",
    "  ![Portfolio Example](https://github.com/user-attachments/assets/811b57ad-897b-46b1-8fdf-7b66e6bc71c1)  \n",
    "\n",
    "- **Utilize summers effectively**:  \n",
    "  - **First summer of freshman year**:  \n",
    "    - Even if the internship isn’t directly related to my major, getting **any kind of experience** can set the stage for more focused opportunities later.  \n",
    "    - It’s all about building **momentum** and taking that **first step**.  \n",
    "\n",
    "---\n",
    "\n",
    "## **Summary**\n",
    "- Explore new opportunities and network:  \n",
    "  - Join clubs or competitions that align with my passions.  \n",
    "- Collaborate effectively in teams:  \n",
    "  - **COMMUNICATE clearly** and document tasks with tools like **GitBooks** or **issue trackers**.  \n",
    "  - Use **flowcharts** to ensure everyone knows their responsibilities.\n",
    "\n",
    "---\n"
   ]
  },
  {
   "cell_type": "markdown",
   "metadata": {},
   "source": [
    "# Picture!\n",
    "- ![IMG_1265](https://github.com/user-attachments/assets/713f64f2-0b32-4a79-be29-777b006a18b0)\n"
   ]
  }
 ],
 "metadata": {
  "language_info": {
   "name": "python"
  }
 },
 "nbformat": 4,
 "nbformat_minor": 2
}
