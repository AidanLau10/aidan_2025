{
 "cells": [
  {
   "cell_type": "markdown",
   "metadata": {},
   "source": [
    "---\n",
    "layout: post\n",
    "toc: true\n",
    "title: Unit 8 2D Arrays Homework\n",
    "description: Arrays Hacks\n",
    "categories: [Unit Homework]\n",
    "courses: { csa: {week: 6} }\n",
    "type: ccc\n",
    "permalink: /unit3hacks\n",
    "---"
   ]
  },
  {
   "cell_type": "markdown",
   "metadata": {},
   "source": [
    "# Warm Up\n",
    "\n",
    "- What are 2D arrays?\n",
    "> 2D Arrays are a data structure in java that has another dimension. For example, 1D arrays have 1 dimension(a row) while 2D arrays have 2 dimensions(a row and column)\n",
    "\n",
    "- How are 2D arrays organized?\n",
    "> Like the previous question, 2D arrays are organized with rows and columns. When you access an element in 1D arrays, you use array[0]. Doing this in 2D arrays(array[0]) will access a row or column. To access a specific element at a row or column, use array[3][2]\n",
    "\n",
    "\n",
    "- What are some real-world examples of 2D arrays?\n",
    "> 2D arrays can be used when playing chess. A row and column specifies the piece at the specific index. Images in general are 2D arrays: a row and column specifies a specific pixel with a color. "
   ]
  },
  {
   "cell_type": "markdown",
   "metadata": {},
   "source": [
    "# Popcorn Hack 1 (Part 1):\n",
    "- Intialize a 2D array of the people in your group grouped based on pairs with 3 different methods\n",
    "- ex Array: [[Anusha, Vibha],[Avanthika, Matthew]]\n",
    "\n",
    "### 1) All in one"
   ]
  },
  {
   "cell_type": "code",
   "execution_count": 1,
   "metadata": {},
   "outputs": [],
   "source": [
    "String[][] group = {\n",
    "    {\"Aidan\", \"Tanav\"},\n",
    "    {\"Sri\", \"Saathvik\"}\n",
    "};"
   ]
  },
  {
   "cell_type": "markdown",
   "metadata": {},
   "source": [
    "### 2) Empty array and manual input with indexes"
   ]
  },
  {
   "cell_type": "code",
   "execution_count": 28,
   "metadata": {},
   "outputs": [
    {
     "data": {
      "text/plain": [
       "Saathvik"
      ]
     },
     "execution_count": 28,
     "metadata": {},
     "output_type": "execute_result"
    }
   ],
   "source": [
    "String[][] group = new String[2][2];\n",
    "\n",
    "group[0][0] = \"Aidan\";\n",
    "group[0][1] = \"Tanav\";\n",
    "group[1][0] = \"Sri\";\n",
    "group[1][1] = \"Saathvik\";"
   ]
  },
  {
   "cell_type": "markdown",
   "metadata": {},
   "source": [
    "### 3) Nested For-Loop"
   ]
  },
  {
   "cell_type": "code",
   "execution_count": null,
   "metadata": {},
   "outputs": [],
   "source": [
    "String[] nestedGroup = {\"Aidan\", \"Tanav\", \"Sri\", \"Saathvik\"};\n",
    "String[][] group = new String[2][2]; \n",
    "\n",
    "int index = 0;\n",
    "\n",
    "for (int i = 0; i < group.length; i++) {  \n",
    "    for (int j = 0; j < group[i].length; j++) {  \n",
    "        group[i][j] = nestedGroup[index]; \n",
    "        index++;\n",
    "    }\n",
    "}\n",
    "\n",
    "for (int i = 0; i < group.length; i++) {  \n",
    "    for (int j = 0; j < group[i].length; j++) {  \n",
    "        System.out.print(group[i][j] + \" \");  \n",
    "    }\n",
    "    System.out.println(); \n",
    "}\n"
   ]
  },
  {
   "cell_type": "markdown",
   "metadata": {
    "vscode": {
     "languageId": "java"
    }
   },
   "source": [
    "# Popcorn Hack 1 (Part 2)\n",
    "- Update the values of the array, you made in part 1 to the group members in another group\n"
   ]
  },
  {
   "cell_type": "code",
   "execution_count": null,
   "metadata": {},
   "outputs": [],
   "source": [
    "group[0][0] = \"Tanay\";\n",
    "group[0][1] = \"Nisarg\";\n",
    "group[1][0] = \"Imaad\";\n",
    "group[1][1] = \"Dinesh\";"
   ]
  },
  {
   "cell_type": "markdown",
   "metadata": {},
   "source": [
    "# Popcorn Hack for Traversing"
   ]
  },
  {
   "cell_type": "code",
   "execution_count": 29,
   "metadata": {},
   "outputs": [
    {
     "name": "stdout",
     "output_type": "stream",
     "text": [
      "5\n"
     ]
    }
   ],
   "source": [
    "public class Main {\n",
    "    public static void main(String[] args) {\n",
    "        int[][] Numbers = {\n",
    "            {1,2,3},\n",
    "            {4,5,6},\n",
    "            {7,8,9}\n",
    "        };\n",
    "    \n",
    "        for (int i = 0; i < Numbers.length; i++) {\n",
    "            for (int j = 0; j < Numbers[i].length; j++) {\n",
    "                if (Numbers[i][j] == 5) {\n",
    "                    System.out.println(Numbers[i][j]);\n",
    "                }\n",
    "            }  \n",
    "\n",
    "        }\n",
    "\n",
    "    }\n",
    "}\n",
    "\n",
    "\n",
    "Main.main(null)\n"
   ]
  },
  {
   "cell_type": "markdown",
   "metadata": {
    "vscode": {
     "languageId": "java"
    }
   },
   "source": [
    "# Popcorn Hack 1 for Algorithms \n",
    "- Create a program that performs binary search on a sorted 2D array to find a specified target number. Your function should return the position of the target if found, or indicate that the target is not present in the array."
   ]
  },
  {
   "cell_type": "code",
   "execution_count": 36,
   "metadata": {},
   "outputs": [],
   "source": [
    "public class BinarySearch2DArray {\n",
    "\n",
    "    public static void main(String[] args) {\n",
    "        int[][] sortedArray = {\n",
    "            {1, 2, 8, 10},\n",
    "            {12, 15, 20, 25},\n",
    "            {30, 35, 40, 45},\n",
    "            {50, 55, 60, 70}\n",
    "        };\n",
    "        \n",
    "        int target = 20; \n",
    "        int[] result = binarySearch2D(sortedArray, target);\n",
    "        \n",
    "        if (result != null) {\n",
    "            System.out.println(\"Target \" + target + \" found at: (\" + result[0] + \", \" + result[1] + \")\");\n",
    "        } else {\n",
    "            System.out.println(\"Target \" + target + \" not found in the array.\");\n",
    "        }\n",
    "    }\n",
    "\n",
    "    public static int[] binarySearch(int[][] matrix, int target) {\n",
    "        // Get the number of rows and columns\n",
    "        int rows = matrix.length;\n",
    "        int cols = matrix[0].length;\n",
    "\n",
    "        // Initialize left and right pointers for the search range\n",
    "        int left = 0;\n",
    "        int right = rows * cols - 1;\n",
    "\n",
    "        // Loop until the search range is valid\n",
    "        while (left <= right) {\n",
    "            // Calculate the middle index\n",
    "            int mid = left + (right - left) / 2;\n",
    "            // Convert the 1D index back to 2D row and column\n",
    "            int midValue = matrix[mid / cols][mid % cols];\n",
    "\n",
    "            // Check if the middle value is the target\n",
    "            if (midValue == target) {\n",
    "                return new int[] {mid / cols, mid % cols}; // Return the found position\n",
    "            }\n",
    "\n",
    "            // Adjust the search range based on the comparison\n",
    "            if (midValue < target) {\n",
    "                left = mid + 1; // Search in the right half\n",
    "            } else {\n",
    "                right = mid - 1; // Search in the left half\n",
    "            }\n",
    "        }\n",
    "\n",
    "        // Return -1 for both row and column if not found\n",
    "        return new int[] {-1, -1}; \n",
    "    }\n",
    "}\n"
   ]
  },
  {
   "cell_type": "markdown",
   "metadata": {},
   "source": [
    "# Popcorn Hack 2 for Algorithms \n",
    "Write a program in Java that allows you to find the number of elements in an array that are less than a certain input k."
   ]
  },
  {
   "cell_type": "code",
   "execution_count": 33,
   "metadata": {},
   "outputs": [
    {
     "name": "stdout",
     "output_type": "stream",
     "text": [
      "There are 6 elements in Numbers that are less than 7\n"
     ]
    }
   ],
   "source": [
    "int k = 7;\n",
    "int count = 0;\n",
    "\n",
    "int[][] Numbers = {\n",
    "    {1, 2, 3},\n",
    "    {4, 5, 6},\n",
    "    {7, 8, 9}\n",
    "};\n",
    "\n",
    "\n",
    "for (int i = 0; i < Numbers.length; i++) {\n",
    "    for (int j = 0; j < Numbers[i].length; j++) {\n",
    "        if (Numbers[i][j] < k) {\n",
    "            count++;\n",
    "        }\n",
    "    }\n",
    "}\n",
    "\n",
    "System.out.println(\"There are \" + count + \" elements in Numbers that are less than \" + k);"
   ]
  },
  {
   "cell_type": "markdown",
   "metadata": {},
   "source": [
    "# Homework\n",
    "\n",
    "> 4a: Write the method isNonZeroRow, which returns true if and only if all elements in row i of a two-dimensional array array2D are not equal to zero.\n"
   ]
  },
  {
   "cell_type": "code",
   "execution_count": 50,
   "metadata": {},
   "outputs": [
    {
     "name": "stdout",
     "output_type": "stream",
     "text": [
      "Row 0: true\n",
      "Row 1: false\n",
      "Row 2: true\n"
     ]
    }
   ],
   "source": [
    "public static boolean isNonZeroRow(int[][] array2D, int r) {\n",
    "    // loop through every element in row r\n",
    "    for (int j = 0; j < array2D[r].length; j++) {\n",
    "        // check if element is equal to 0. if it is, return false \n",
    "        if (array2D[r][j] == 0) {\n",
    "            return false;\n",
    "        }\n",
    "    }\n",
    "    return true;\n",
    "}\n",
    "\n",
    "// test array. row 2 should be the only one to return false because it has 0\n",
    "int[][] array2D = {\n",
    "    {1, 2, 3},\n",
    "    {4, 5, 0},\n",
    "    {7, 8, 9}\n",
    "};\n",
    "\n",
    "// test cases\n",
    "System.out.println(\"Row 0: \" + isNonZeroRow(array2D, 0)); // Expected output: true\n",
    "\n",
    "System.out.println(\"Row 1: \" + isNonZeroRow(array2D, 1)); // Expected output: false (contains a zero)\n",
    "\n",
    "System.out.println(\"Row 2: \" + isNonZeroRow(array2D, 2)); // Expected output: true"
   ]
  }
 ],
 "metadata": {
  "kernelspec": {
   "display_name": "java (IJava/j!)",
   "language": "java",
   "name": "jbang-ijava"
  },
  "language_info": {
   "codemirror_mode": "java",
   "file_extension": ".jshell",
   "mimetype": "text/x-java-source",
   "name": "java",
   "pygments_lexer": "java",
   "version": "17.0.12+0"
  }
 },
 "nbformat": 4,
 "nbformat_minor": 2
}
