{
 "cells": [
  {
   "cell_type": "markdown",
   "metadata": {},
   "source": [
    "---\n",
    "layout: post\n",
    "toc: true\n",
    "title: Unit 4 Iteration Hacks\n",
    "description: Iteration Hacks\n",
    "categories: [Unit Homework]\n",
    "courses: { csa: {week: 6} }\n",
    "type: ccc\n",
    "permalink: /unit4hacks\n",
    "---"
   ]
  },
  {
   "cell_type": "markdown",
   "metadata": {},
   "source": [
    "# 4.1 Fun While Loop Hack:\n",
    "- find and fix the missing increment in the while loop\n",
    "\n",
    "** add an increment to i so that it will eventually meet the condition"
   ]
  },
  {
   "cell_type": "code",
   "execution_count": null,
   "metadata": {},
   "outputs": [],
   "source": [
    "int i = 0;\n",
    "while (i < 5) {\n",
    "    System.out.println(i);\n",
    "    i++;\n",
    "}"
   ]
  },
  {
   "cell_type": "markdown",
   "metadata": {},
   "source": [
    "# 4.2 Fun For Loop Hack:\n",
    "- Create a program that iterates through a list of numbers (int_list = {0, 4, 51, 83, 92, 10, 123, 145}) using both a for loop and a for each loop, then split the numbers in the list into even/odd lists, and output them."
   ]
  },
  {
   "cell_type": "code",
   "execution_count": 2,
   "metadata": {},
   "outputs": [
    {
     "name": "stdout",
     "output_type": "stream",
     "text": [
      "[0, 4, 92, 10]\n",
      "[51, 83, 123, 145]\n"
     ]
    }
   ],
   "source": [
    "int[] int_list = {0, 4, 51, 83, 92, 10, 123, 145};\n",
    "// use ArrayLists because im trying to append elements. arrays are fixed\n",
    "ArrayList<Integer> even_list = new ArrayList<Integer>();\n",
    "ArrayList<Integer> odd_list = new ArrayList<Integer>();\n",
    "\n",
    "// iterate through every element in int_list\n",
    "for (int item: int_list) {\n",
    "    // modulo 2 to check if even or odd\n",
    "    if (item % 2 == 0) {\n",
    "        even_list.add(item);\n",
    "    } else {\n",
    "        odd_list.add(item);\n",
    "    }\n",
    "}\n",
    "\n",
    "System.out.println(even_list);\n",
    "System.out.println(odd_list);"
   ]
  },
  {
   "cell_type": "markdown",
   "metadata": {},
   "source": [
    "# 4.3 Popcorn Hack:\n",
    "- Iterate through the characters a string with a `while` loop"
   ]
  },
  {
   "cell_type": "code",
   "execution_count": 2,
   "metadata": {},
   "outputs": [
    {
     "name": "stdout",
     "output_type": "stream",
     "text": [
      "h\n",
      "e\n",
      "l\n",
      "l\n",
      "o\n"
     ]
    }
   ],
   "source": [
    "/* i hope this what you guys wanted: i used a while loop to iterate through every character in the string */\n",
    "\n",
    "String word = \"hello\";\n",
    "char i = 0;\n",
    "\n",
    "while (i < word.length()) {\n",
    "    System.out.println(word.charAt(i));\n",
    "    i++;\n",
    "}"
   ]
  },
  {
   "cell_type": "markdown",
   "metadata": {
    "vscode": {
     "languageId": "java"
    }
   },
   "source": [
    "# 4.3 Homework Hack\n",
    "\n",
    "code a caesar cipher that will encrypt any string with any key provided. <br>\n",
    "your code should go into the `encrypt()` method, and should successfully pass the test cases provided<br>\n",
    "as a bonus, try to use StringBuilder"
   ]
  },
  {
   "cell_type": "code",
   "execution_count": 3,
   "metadata": {},
   "outputs": [
    {
     "name": "stdout",
     "output_type": "stream",
     "text": [
      "test 1: khoor zruog\n",
      "test 2: klmnopq\n",
      "test 3: c fipy wmu\n"
     ]
    }
   ],
   "source": [
    "public class CaesarCipher {\n",
    "    private int key;\n",
    "    private String phrase;\n",
    "\n",
    "    public CaesarCipher(int key, String phrase) {\n",
    "        this.key = key;\n",
    "        this.phrase = phrase;\n",
    "    }\n",
    "\n",
    "    public String encrypt() {\n",
    "        StringBuilder encrypted = new StringBuilder();\n",
    "        int shift = key % 26; \n",
    "\n",
    "        for (int i = 0; i < phrase.length(); i++) {\n",
    "            char currentChar = phrase.charAt(i);\n",
    "\n",
    "            if (Character.isLetter(currentChar)) {\n",
    "                char base = Character.isUpperCase(currentChar) ? 'A' : 'a';\n",
    "                char newChar = (char) ((currentChar - base + shift) % 26 + base);\n",
    "                encrypted.append(newChar);\n",
    "            } else {\n",
    "                encrypted.append(currentChar);\n",
    "            }\n",
    "        }\n",
    "\n",
    "        return encrypted.toString();\n",
    "    }\n",
    "}\n",
    "\n",
    "CaesarCipher test1 = new CaesarCipher(3, \"hello world\");\n",
    "CaesarCipher test2 = new CaesarCipher(10, \"abcdefg\");\n",
    "CaesarCipher test3 = new CaesarCipher(20, \"i love csa\");\n",
    "\n",
    "System.out.println(\"test 1: \" + test1.encrypt());\n",
    "System.out.println(\"test 2: \" + test2.encrypt());\n",
    "System.out.println(\"test 3: \" + test3.encrypt());\n",
    "\n"
   ]
  },
  {
   "cell_type": "markdown",
   "metadata": {},
   "source": [
    "# 4.4 What is wrong with this code cell(Hack)\n",
    "\n",
    "> Look at the outer loop with i as the control variable. There needs to be an equal sign to check the condition for i(i >= 1) and there needs to be another subtract sign to decrement i by 1. "
   ]
  },
  {
   "cell_type": "code",
   "execution_count": 4,
   "metadata": {},
   "outputs": [
    {
     "name": "stdout",
     "output_type": "stream",
     "text": [
      "Enter the number of rows: 1 \n"
     ]
    }
   ],
   "source": [
    "//Hint: Check the Syntax and look at the equals to signs on the example above\n",
    "\n",
    "import java.util.Scanner;\n",
    "Scanner scanner = new Scanner(System.in);\n",
    "System.out.print(\"Enter the number of rows: \");\n",
    "int rows = scanner.nextInt();\n",
    "for (int i = rows; i >= 1; i--) {\n",
    "    for (int j = 1; j <= i; j++) {\n",
    "        System.out.print(j + \" \");\n",
    "    }\n",
    "    System.out.println();\n",
    "    }\n",
    "        \n",
    "scanner.close();"
   ]
  },
  {
   "cell_type": "markdown",
   "metadata": {
    "vscode": {
     "languageId": "java"
    }
   },
   "source": [
    "<img width=\"540\" alt=\"Screenshot 2024-09-19 at 20 45 04\" src=\"https://github.com/user-attachments/assets/ef76eea5-ffa1-432b-9ca0-95c1b9fd002d\">\n"
   ]
  },
  {
   "cell_type": "markdown",
   "metadata": {},
   "source": [
    "> The code will print * 20 times; As Saaras explained, take the difference of the start and end condition for the outer loop and inner loop and then multiple them\n",
    "- (8-3) * (5-1) = 20"
   ]
  },
  {
   "cell_type": "markdown",
   "metadata": {
    "vscode": {
     "languageId": "java"
    }
   },
   "source": [
    "<img width=\"542\" alt=\"Screenshot 2024-09-29 at 15 54 38\" src=\"https://github.com/user-attachments/assets/e3639622-1162-49fa-84fa-8853f5a7c347\">\n"
   ]
  },
  {
   "cell_type": "markdown",
   "metadata": {},
   "source": [
    "> The code will print 24 * because multiplying the difference of the outer loop to the inner loop will get 24\n",
    "- (8-2) * (5-1) = 24"
   ]
  },
  {
   "cell_type": "markdown",
   "metadata": {
    "vscode": {
     "languageId": "java"
    }
   },
   "source": [
    "# HW Quiz"
   ]
  },
  {
   "cell_type": "markdown",
   "metadata": {
    "vscode": {
     "languageId": "plaintext"
    }
   },
   "source": [
    "### Question 1:\n",
    "What does the following code print?   \n",
    "\n",
    "A. 5 6 7 8 9   \n",
    "\n",
    "B. 4 5 6 7 8 9 10 11 12   \n",
    "\n",
    "C. 3 5 7 9 11   \n",
    "\n",
    "D. 3 4 5 6 7 8 9 10 11 12   "
   ]
  },
  {
   "cell_type": "code",
   "execution_count": null,
   "metadata": {},
   "outputs": [],
   "source": [
    "for (int i = 3; i <= 12; i++) {\n",
    "    System.out.print(i + \" \");\n",
    " }"
   ]
  },
  {
   "cell_type": "markdown",
   "metadata": {},
   "source": [
    "> D (3 4 5 6 7 8 9 10 11 12), because the control variable inside the for loop starts at 3 and then prints every consecutive element until it is greater than 13(prints 12 because of it i<=12 condition). \n",
    "\n",
    "> When you declare a for loop with a variable like i inside of it, it is a control variable that only exists within the for loop; the variable wont exist if you try to access it outside of the for loop. On the other hand, a variable used in a while loop can be accessed outside of it and is incremented inside of the while loop.\n",
    "- Looking back on the lesson for 4.3 string iteration, we could print out the characters in a string using a for and while loop. We can see that the while and for loop below run until it has gone through all the characters. The increment for the while loop is ran after the code is ran and is efined outside; the increment for the for loop is within the loop and only exists in the for loop. "
   ]
  },
  {
   "cell_type": "code",
   "execution_count": null,
   "metadata": {},
   "outputs": [],
   "source": [
    "String word = \"hello\";\n",
    "char i = 0;\n",
    "\n",
    "// while\n",
    "while (i < word.length()) {\n",
    "    System.out.println(word.charAt(i));\n",
    "    i++;\n",
    "}\n",
    "\n",
    "// for\n",
    "for (int i = 0; i < word.length(); i++) {\n",
    "    System.out.println(word.charAt(i));\n",
    "}"
   ]
  },
  {
   "cell_type": "markdown",
   "metadata": {
    "vscode": {
     "languageId": "java"
    }
   },
   "source": [
    "### Question 2:\n",
    "How many times does the following method print a \"*\" ?\n",
    "\n",
    "A. 9\n",
    "\n",
    "B. 7\n",
    "\n",
    "C. 8\n",
    "\n",
    "D. 6\n"
   ]
  },
  {
   "cell_type": "code",
   "execution_count": 3,
   "metadata": {},
   "outputs": [
    {
     "name": "stdout",
     "output_type": "stream",
     "text": [
      "********"
     ]
    }
   ],
   "source": [
    "for (int i = 3; i < 11; i++) {\n",
    "    System.out.print(\"*\");\n",
    " }"
   ]
  },
  {
   "cell_type": "markdown",
   "metadata": {},
   "source": [
    "> The method prints 8 times. As taught by Saaras, you can find out the amount of times something will be printed by subracting the end condition with the start condition: 11 - 3 = 8."
   ]
  },
  {
   "cell_type": "markdown",
   "metadata": {
    "vscode": {
     "languageId": "plaintext"
    }
   },
   "source": [
    "### Question 3:\n",
    "What does the following code print?\n",
    "\n",
    "A. -4 -3 -2 -1 0\n",
    "\n",
    "B. -5 -4 -3 -2 -1\n",
    "\n",
    "C. 5 4 3 2 1\n",
    "\n",
    "\n"
   ]
  },
  {
   "cell_type": "code",
   "execution_count": 2,
   "metadata": {},
   "outputs": [
    {
     "name": "stdout",
     "output_type": "stream",
     "text": [
      "-4 -3 -2 -1 0 "
     ]
    }
   ],
   "source": [
    "int x = -5;\n",
    "while (x < 0)\n",
    "{\n",
    "   x++;\n",
    "   System.out.print(x + \" \");\n",
    "}"
   ]
  },
  {
   "cell_type": "markdown",
   "metadata": {},
   "source": [
    "> A(-4 -3 -2 -1 0). The starting x value is -5 so it satisfies the condition inside the while loop. However, before the value of x is printed out, a value of 1 is added to it and it will print -4 first instead of -5. "
   ]
  },
  {
   "cell_type": "markdown",
   "metadata": {
    "vscode": {
     "languageId": "plaintext"
    }
   },
   "source": [
    "### Question 4:\n",
    "What does the following code print?\n",
    "\n",
    "A. 20\n",
    "\n",
    "B. 21\n",
    "\n",
    "C. 25\n",
    "\n",
    "D. 30\n"
   ]
  },
  {
   "cell_type": "code",
   "execution_count": 1,
   "metadata": {},
   "outputs": [
    {
     "name": "stdout",
     "output_type": "stream",
     "text": [
      "21\n"
     ]
    }
   ],
   "source": [
    "int sum = 0;\n",
    "\n",
    "for (int i = 1; i <= 5; i++) {\n",
    "    if (i % 2 == 0) {\n",
    "        sum += i * 2;\n",
    "    } else {\n",
    "        sum += i;\n",
    "    }\n",
    "}\n",
    "\n",
    "System.out.println(sum);"
   ]
  },
  {
   "cell_type": "markdown",
   "metadata": {},
   "source": [
    "> To tackle this problem, lets look at how many times the condition will run: 5 - 1 = 4. Inside the for loop, the condition checks if the element is even or odd by using modulo. \n",
    "- If the element is even, it will multiply the element by 2 and add it to the sum; if the element is odd, it will add the element to the sum\n",
    "- From the numbers 1-5, there are 3 odd numbers(1, 3, and 5) and 2 even numbers(2 and 4). So lets add the odd numbers to the sum(1+3+5=9). Lets multiply the even numbers by 2 and add them to the sum(2 * 2 + 4 * 2 = 12). Lets add everything now: 12 + 9 = 12.\n",
    "- The answer is B. 21"
   ]
  },
  {
   "cell_type": "markdown",
   "metadata": {},
   "source": [
    "## Loops HW Hack\n",
    "\n",
    "### Easy Hack\n",
    "- Use a while loop to find the numbers from 1-50 that are divisible by 3 or 5, then store them into a list (make sure to print it out at the end)\n",
    "- Use a for loop to do the same thing detailed above"
   ]
  },
  {
   "cell_type": "code",
   "execution_count": 7,
   "metadata": {},
   "outputs": [
    {
     "name": "stdout",
     "output_type": "stream",
     "text": [
      "[3, 5, 6, 9, 10, 12, 15, 18, 20, 21, 24, 25, 27, 30, 33, 35, 36, 39, 40, 42, 45, 48, 50]\n"
     ]
    }
   ],
   "source": [
    "ArrayList<Integer> prime = new ArrayList<Integer>();\n",
    "\n",
    "// if i is 0, it will be printed. But we its not divisible by 3 or 5\n",
    "int i = 0;\n",
    "while (i < 50) {\n",
    "    // placed here and not at the end so 50 will show up\n",
    "    i++;\n",
    "    if (i % 3 == 0 || i % 5 == 0) {\n",
    "        prime.add(i);\n",
    "    }\n",
    "    \n",
    "}\n",
    "\n",
    "System.out.println(prime);"
   ]
  },
  {
   "cell_type": "markdown",
   "metadata": {},
   "source": [
    "### Harder Hack\n",
    "#### Palindromes are numbers that have the same value when reversed (ex: “123321” or “323”). Create a program that uses a while loop that outputs all palindromes in any given list. \n",
    "\n",
    "Sample Input: \n",
    "test_list = [5672, 235, 5537, 6032, 317, 8460, 1672, 8104, 7770, 4442, 913, 2508, 1116, 9969, 9091, 522, 8756, 9527, 7968, 1520, 4444, 515, 2882, 6556, 595]\n",
    "\n",
    "Sample Output:\n",
    "4444, 515, 2882, 6556, 595"
   ]
  },
  {
   "cell_type": "code",
   "execution_count": 14,
   "metadata": {},
   "outputs": [
    {
     "name": "stdout",
     "output_type": "stream",
     "text": [
      "[4444, 515, 2882, 6556, 595]\n"
     ]
    }
   ],
   "source": [
    "import java.util.ArrayList;\n",
    "\n",
    "\n",
    "int[] testList = {5672, 235, 5537, 6032, 317, 8460, 1672, 8104, 7770, 4442, 913, 2508, 1116, 9969, 9091, 522, 8756, 9527, 7968, 1520, 4444, 515, 2882, 6556, 595};\n",
    "ArrayList<Integer> palindromes = new ArrayList<>();\n",
    "\n",
    "int i = 0;\n",
    "while (i < testList.length) {\n",
    "    int num = testList[i];\n",
    "    int originalNum = num;\n",
    "    int reversedNum = 0;\n",
    "\n",
    "    while (num > 0) {\n",
    "        int digit = num % 10;\n",
    "        reversedNum = reversedNum * 10 + digit;\n",
    "        num /= 10;\n",
    "    }\n",
    "\n",
    "    if (originalNum == reversedNum) {\n",
    "        palindromes.add(originalNum);\n",
    "    }\n",
    "    i++;\n",
    "}\n",
    "\n",
    "System.out.println(palindromes);\n",
    "\n"
   ]
  },
  {
   "cell_type": "markdown",
   "metadata": {},
   "source": [
    "## Bonus Hack (for above 0.9)\n",
    "### Use a for loop to output a spiral matrix with size n\n",
    "Example:\n",
    "\n",
    "Sample Input: n = 3\n",
    "\n",
    "Output: [[1, 2, 3], [8, 9, 4], [7, 6, 5]]"
   ]
  },
  {
   "cell_type": "code",
   "execution_count": 16,
   "metadata": {},
   "outputs": [
    {
     "name": "stdout",
     "output_type": "stream",
     "text": [
      "[1, 2, 3]\n",
      "[8, 9, 4]\n",
      "[7, 6, 5]\n"
     ]
    }
   ],
   "source": [
    "\n",
    "int n = 3;\n",
    "int[][] matrix = new int[n][n];\n",
    "\n",
    "int left = 0, right = n - 1, top = 0, bottom = n - 1;\n",
    "int num = 1;\n",
    "\n",
    "while (left <= right && top <= bottom) {\n",
    "    for (int i = left; i <= right; i++) {\n",
    "        matrix[top][i] = num++;\n",
    "    }\n",
    "    top++;\n",
    "\n",
    "    for (int i = top; i <= bottom; i++) {\n",
    "        matrix[i][right] = num++;\n",
    "    }\n",
    "    right--;\n",
    "\n",
    "    if (top <= bottom) {\n",
    "        for (int i = right; i >= left; i--) {\n",
    "            matrix[bottom][i] = num++;\n",
    "        }\n",
    "        bottom--;\n",
    "    }\n",
    "\n",
    "    if (left <= right) {\n",
    "        for (int i = bottom; i >= top; i--) {\n",
    "            matrix[i][left] = num++;\n",
    "        }\n",
    "        left++;\n",
    "    }\n",
    "}\n",
    "\n",
    "for (int[] row : matrix) {\n",
    "    System.out.println(java.util.Arrays.toString(row));\n",
    "}\n",
    "\n"
   ]
  }
 ],
 "metadata": {
  "kernelspec": {
   "display_name": "java (IJava/j!)",
   "language": "java",
   "name": "jbang-ijava"
  },
  "language_info": {
   "codemirror_mode": "java",
   "file_extension": ".jshell",
   "mimetype": "text/x-java-source",
   "name": "java",
   "pygments_lexer": "java",
   "version": "17.0.12+0"
  }
 },
 "nbformat": 4,
 "nbformat_minor": 2
}
