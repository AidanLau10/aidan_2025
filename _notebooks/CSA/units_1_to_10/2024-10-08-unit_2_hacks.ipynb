{
 "cells": [
  {
   "cell_type": "markdown",
   "metadata": {},
   "source": [
    "---\n",
    "layout: post\n",
    "toc: true\n",
    "title: Unit 2 Using Objects\n",
    "description: Using Objects Hacks\n",
    "categories: [Unit Homework]\n",
    "courses: { csa: {week: 6} }\n",
    "type: ccc\n",
    "permalink: /unit2hacks\n",
    "---"
   ]
  },
  {
   "cell_type": "markdown",
   "metadata": {
    "vscode": {
     "languageId": "plaintext"
    }
   },
   "source": [
    "# Hack 1: Dog class"
   ]
  },
  {
   "cell_type": "code",
   "execution_count": 2,
   "metadata": {},
   "outputs": [
    {
     "name": "stdout",
     "output_type": "stream",
     "text": [
      "Woof!\n"
     ]
    }
   ],
   "source": [
    "class Dog {\n",
    "    private String name;\n",
    "    private String breed;\n",
    "    private int age;\n",
    "\n",
    "    // constructor to initialize dog object\n",
    "    public Dog(String name, String breed, int age) {\n",
    "        this.name = name;\n",
    "        this.breed = breed;\n",
    "        this.age = age;\n",
    "    }\n",
    "\n",
    "    // method to print out bark\n",
    "    public void bark() {\n",
    "        System.out.println(\"Woof!\");\n",
    "    }\n",
    "}\n",
    "\n",
    "/* i removed the main so it prints the test case */\n",
    "\n",
    "Dog myDog = new Dog(\"Shelby\", \"Golden Retriever\", 5); // name, breed, age\n",
    "myDog.bark(); // should print \"Woof!\"\n",
    "\n"
   ]
  },
  {
   "cell_type": "markdown",
   "metadata": {},
   "source": [
    "# Hack 2: Fix this code"
   ]
  },
  {
   "cell_type": "code",
   "execution_count": 9,
   "metadata": {},
   "outputs": [
    {
     "name": "stdout",
     "output_type": "stream",
     "text": [
      "Sum of integers: 125\n",
      "Product of doubles: 8.53452\n"
     ]
    }
   ],
   "source": [
    "Integer num1 = 50;  // capitalize for wrapper class\n",
    "Integer num2 = new Integer(75);  \n",
    "\n",
    "Double d1 = 3.14;  \n",
    "double d2 = new Double(2.718);  \n",
    "\n",
    "System.out.println(\"Sum of integers: \" + (num1 + num2)); // should print 125\n",
    "System.out.println(\"Product of doubles: \" + (d1 * d2));  // should print 8.53952"
   ]
  },
  {
   "cell_type": "code",
   "execution_count": 11,
   "metadata": {},
   "outputs": [
    {
     "name": "stdout",
     "output_type": "stream",
     "text": [
      "Autoboxed Integer: 50\n",
      "Unboxed double: 3.14\n"
     ]
    }
   ],
   "source": [
    "// TODO: Create an Integer object using autoboxing\n",
    "Integer int1 = 1;\n",
    "\n",
    "// TODO: Create a double primitive from a Double object (unboxing)\n",
    "Double num2 = 3.14;\n",
    "double d = num2;\n",
    "\n",
    "// TODO: Print both values\n",
    "System.out.println(\"Autoboxed Integer: \" + num1);\n",
    "System.out.println(\"Unboxed double: \" + d);\n",
    "\n"
   ]
  },
  {
   "cell_type": "markdown",
   "metadata": {},
   "source": [
    "# Hack 3: Randomize"
   ]
  },
  {
   "cell_type": "code",
   "execution_count": 19,
   "metadata": {},
   "outputs": [
    {
     "name": "stdout",
     "output_type": "stream",
     "text": [
      "3.688840021311181\n"
     ]
    }
   ],
   "source": [
    "import java.util.*;\n",
    "\n",
    "public double randomize(double a, double b) {\n",
    "    a = Math.abs(a);\n",
    "    b = Math.abs(b);\n",
    "    \n",
    "    return a + (Math.random() * (b - a));\n",
    "}\n",
    "\n",
    "\n",
    "Scanner scan = new Scanner(System.in);\n",
    "double a = scan.nextDouble(); \n",
    "double b = scan.nextDouble();\n",
    "\n",
    "// i inputted 3 and 4\n",
    "System.out.println(new Main().randomize(a, b));\n"
   ]
  },
  {
   "cell_type": "markdown",
   "metadata": {},
   "source": [
    "# Homework"
   ]
  },
  {
   "cell_type": "code",
   "execution_count": 20,
   "metadata": {},
   "outputs": [
    {
     "name": "stdout",
     "output_type": "stream",
     "text": [
      "Circle 1:\n",
      "Radius: 5.0\n",
      "Circumference: 31.41592653589793\n",
      "Area: 78.53981633974483\n",
      "\n",
      "Circle 2:\n",
      "Radius: 7.0\n",
      "Circumference: 43.982297150257104\n",
      "Area: 153.93804002589985\n",
      "\n",
      "Student 1:\n",
      "Name: Aadit\n",
      "Name Length: 5\n",
      "Grade: 75.0\n",
      "Scaled Grade: 37.5\n",
      "\n",
      "Student 2:\n",
      "Name: Emily\n",
      "Name Length: 5\n",
      "Grade: 45.0\n",
      "Scaled Grade: 22.5\n"
     ]
    }
   ],
   "source": [
    "public class Circle {\n",
    "    // 1. Class variable: radius (double)\n",
    "    double radius;\n",
    "\n",
    "    // 2. Constructor that takes in the radius as a parameter and sets the radius property\n",
    "    public Circle(double radius) {\n",
    "        this.radius = radius;\n",
    "    }\n",
    "\n",
    "    // 3. circumference() method: Calculate and return the circumference\n",
    "    public double circumference() {\n",
    "        return 2 * Math.PI * radius;\n",
    "    }\n",
    "\n",
    "    // 4. area() method: Calculate and return the area, using Math.pow()\n",
    "    public double area() {\n",
    "        return Math.PI * Math.pow(radius, 2);\n",
    "    }\n",
    "}\n",
    "\n",
    "public class Student {\n",
    "    // 1. Class variables: name (String) and grade (Integer)\n",
    "    String name;\n",
    "    Integer grade;\n",
    "\n",
    "    // 2. Constructor to initialize name and grade\n",
    "    public Student(String name, Integer grade) {\n",
    "        this.name = name;\n",
    "        this.grade = grade;\n",
    "    }\n",
    "\n",
    "    // 3. nameLength() method: Return the length of the student's name\n",
    "    public int nameLength() {\n",
    "        return name.length();\n",
    "    }\n",
    "\n",
    "    // 4. getGradeAsDouble() method: Return the grade as the Double wrapper type\n",
    "    public Double getGradeAsDouble() {\n",
    "        return grade.doubleValue();\n",
    "    }\n",
    "\n",
    "    // 5. getScaledGrade() method: Return grade divided by 2\n",
    "    public double getScaledGrade() {\n",
    "        return grade / 2.0;\n",
    "    }\n",
    "}\n",
    "\n",
    "Circle circle1 = new Circle(5.0);\n",
    "Circle circle2 = new Circle(7.0);\n",
    "\n",
    "System.out.println(\"Circle 1:\");\n",
    "System.out.println(\"Radius: \" + circle1.radius);\n",
    "System.out.println(\"Circumference: \" + circle1.circumference());\n",
    "System.out.println(\"Area: \" + circle1.area());\n",
    "\n",
    "System.out.println(\"\\nCircle 2:\");\n",
    "System.out.println(\"Radius: \" + circle2.radius);\n",
    "System.out.println(\"Circumference: \" + circle2.circumference());\n",
    "System.out.println(\"Area: \" + circle2.area());\n",
    "\n",
    "Student student1 = new Student(\"Aadit\", 75);\n",
    "Student student2 = new Student(\"Emily\", 45);\n",
    "\n",
    "System.out.println(\"\\nStudent 1:\");\n",
    "System.out.println(\"Name: \" + student1.name);\n",
    "System.out.println(\"Name Length: \" + student1.nameLength());\n",
    "System.out.println(\"Grade: \" + student1.getGradeAsDouble());\n",
    "System.out.println(\"Scaled Grade: \" + student1.getScaledGrade());\n",
    "\n",
    "System.out.println(\"\\nStudent 2:\");\n",
    "System.out.println(\"Name: \" + student2.name);\n",
    "System.out.println(\"Name Length: \" + student2.nameLength());\n",
    "System.out.println(\"Grade: \" + student2.getGradeAsDouble());\n",
    "System.out.println(\"Scaled Grade: \" + student2.getScaledGrade());"
   ]
  }
 ],
 "metadata": {
  "kernelspec": {
   "display_name": "java (IJava/j!)",
   "language": "java",
   "name": "jbang-ijava"
  },
  "language_info": {
   "codemirror_mode": "java",
   "file_extension": ".jshell",
   "mimetype": "text/x-java-source",
   "name": "java",
   "pygments_lexer": "java",
   "version": "17.0.12+0"
  }
 },
 "nbformat": 4,
 "nbformat_minor": 2
}
