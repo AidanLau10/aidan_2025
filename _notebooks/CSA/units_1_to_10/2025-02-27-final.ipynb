{
 "cells": [
  {
   "cell_type": "markdown",
   "metadata": {
    "vscode": {
     "languageId": "plaintext"
    }
   },
   "source": [
    "---\n",
    "layout: post\n",
    "toc: true\n",
    "title: Final\n",
    "categories: [AP CSA]\n",
    "courses: { csa: {week: 12} }\n",
    "type: ccc\n",
    "permalink: /final\n",
    "---"
   ]
  },
  {
   "cell_type": "markdown",
   "metadata": {},
   "source": [
    "# Issues\n",
    "\n",
    "- [Sprint 4 Reflection](https://github.com/AidanLau10/aidan_2025/issues/15)\n",
    "- [Error Documentation(Stocks)](https://github.com/AidanLau10/aidan_2025/issues/14)\n",
    "- [Github Branching Strategy](https://github.com/AidanLau10/aidan_2025/issues/13)\n",
    "- [Feature Documentation](https://github.com/AidanLau10/aidan_2025/issues/12)\n",
    "\n",
    "4. Pull requests\n",
    "- [Pull Request Quicknotes](https://github.com/AidanLau10/aidan_2025/issues/19)\n",
    "\n",
    "\n",
    "# Lesson\n",
    "- [Methods and Control Structures FRQ Lesson](https://nighthawkcoders.github.io/portfolio_2025/methods-and-control-structures-frq)\n",
    "\n",
    "# Blogs\n",
    "- [Frq Strategy Notes](https://aidanlau10.github.io/aidan_2025/frqstrategy)\n",
    "- [Student Panel Takeaways](https://aidanlau10.github.io/aidan_2025/studentpanel)"
   ]
  }
 ],
 "metadata": {
  "language_info": {
   "name": "python"
  }
 },
 "nbformat": 4,
 "nbformat_minor": 2
}
