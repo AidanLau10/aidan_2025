{
 "cells": [
  {
   "cell_type": "markdown",
   "metadata": {},
   "source": [
    "---\n",
    "layout: post\n",
    "toc: true\n",
    "title: 2015 MCQ/FRQ\n",
    "categories: [MCQ/FRQ]\n",
    "courses: { csa: {week: 10} }\n",
    "type: ccc\n",
    "permalink: /2015mcqfrq\n",
    "comments: true\n",
    "---"
   ]
  },
  {
   "cell_type": "markdown",
   "metadata": {},
   "source": [
    "## MCQ (33/39)\n",
    "\n",
    "### Question 13\n",
    "![Image](https://github.com/user-attachments/assets/782915e6-173f-4076-a473-35c87d5c93f4)\n",
    "\n",
    "![Image](https://github.com/user-attachments/assets/bb656a4c-daab-4750-b119-5a2d24ebaa88)\n",
    "\n",
    "### Question 17\n",
    "\n",
    "![Image](https://github.com/user-attachments/assets/bb72ebdd-2e69-469a-b11d-5c1000e9d042)\n",
    "\n",
    "![Image](https://github.com/user-attachments/assets/8cbbc0c8-e92f-4ecd-9481-52013cb2ea7a)\n",
    "\n",
    "### Question 27 \n",
    "\n",
    "![Image](https://github.com/user-attachments/assets/4b3003d5-a60f-4214-88ee-ac4490b1fe28)\n",
    "\n",
    "![Image](https://github.com/user-attachments/assets/9e335452-31ed-4af7-87e0-0ff7a4f81231)\n",
    "\n",
    "### Question 31\n",
    "![Image](https://github.com/user-attachments/assets/c757c002-daf2-43ec-881c-70323d107744)\n",
    "\n",
    "![Image](https://github.com/user-attachments/assets/05c6d218-1b1c-433d-87e0-bae49b6822cf)\n",
    "\n",
    "\n",
    "### Question 32\n",
    "![Image](https://github.com/user-attachments/assets/7d95b328-3566-417c-b59d-8d169b9d0e8a)\n",
    "\n",
    "![Image](https://github.com/user-attachments/assets/3c51b628-8e38-4e89-992b-54063c99c501)\n",
    "### Question 38\n",
    "![Image](https://github.com/user-attachments/assets/4c8615bd-aaeb-4ba4-9bce-60b777a0ed78)\n",
    "![Image](https://github.com/user-attachments/assets/f5e8d0c9-87d3-465b-b3ff-82d93d9695be)\n"
   ]
  },
  {
   "cell_type": "markdown",
   "metadata": {},
   "source": [
    "## Question 5\n",
    "<img width=\"1306\" alt=\"Image\" src=\"https://github.com/user-attachments/assets/e8413c2c-9310-4fa6-98ac-8026d7e0a28c\" />\n",
    "- Pick a random boolean value for x, true or false, and evaluate the expression. The expression is always the same as the value of x\n",
    "\n",
    "## Question 6\n",
    "<img width=\"1311\" alt=\"Image\" src=\"https://github.com/user-attachments/assets/958a0ab3-400b-4570-b3fa-abc1881bb917\" />\n",
    "- Method wants to find string that contains \"art\". It first combines all the possible strings. A is wrong because the strings in itself don't have the word \"art\" in it but when combined they do which is unintended.\n",
    "\n",
    "## Question 9\n",
    "<img width=\"1303\" alt=\"Image\" src=\"https://github.com/user-attachments/assets/2db23024-fa45-4b5b-a772-2d1800005b3e\" />\n",
    "- Math.random() * 6 generates a value between 1 and 5. 2 is added to properly have a value between 1 and 12. \n",
    "\n",
    "\n",
    "\n"
   ]
  },
  {
   "cell_type": "markdown",
   "metadata": {},
   "source": [
    "## Question 1"
   ]
  },
  {
   "cell_type": "code",
   "execution_count": null,
   "metadata": {
    "vscode": {
     "languageId": "java"
    }
   },
   "outputs": [],
   "source": [
    "public class ArraySums { //question 1\n",
    "\tpublic static int arraySum(int[] arr) { //part a\n",
    "\t\tint arraySum = 0;\n",
    "\t\tfor (int i : arr)\n",
    "\t\t\tarraySum += i;\n",
    "\t\treturn arraySum;\n",
    "\t}\n",
    "\n",
    "\tpublic static int[] rowSums(int[][] arr2D) { //part b\n",
    "\t\tint[] rowSums = new int[arr2D.length];\n",
    "\t\tfor (int i = 0; i < arr2D.length; ++i)\n",
    "\t\t\trowSums[i] = arraySum(arr2D[i]);\n",
    "\t\treturn rowSums;\n",
    "\t}\n",
    "\n",
    "\tpublic static boolean isDiverse(int[][] arr2D) { //part c\n",
    "\t\tint[] rowSums = rowSums(arr2D);\n",
    "\t\tfor (int rowSum : rowSums)\n",
    "\t\t\tfor (int rowSum2 : rowSums)\n",
    "\t\t\t\tif (rowSum == rowSum2)\n",
    "\t\t\t\t\treturn false;\n",
    "\t\treturn true;\n",
    "\t}\n",
    "}"
   ]
  },
  {
   "cell_type": "markdown",
   "metadata": {},
   "source": [
    "## Question 2"
   ]
  },
  {
   "cell_type": "code",
   "execution_count": null,
   "metadata": {
    "vscode": {
     "languageId": "java"
    }
   },
   "outputs": [],
   "source": [
    "\n",
    "public class HiddenWord { //question 2\n",
    "\tprivate String word;\n",
    "\n",
    "\tpublic HiddenWord(String word) {\n",
    "\t\tthis.word = word;\n",
    "\t}\n",
    "\n",
    "\tpublic String getHint(String guess) {\n",
    "\t\tString hint = \"\";\n",
    "\t\tfor (int i = 0; i < word.length(); ++i)\n",
    "\t\t\tif (word.charAt(i) == guess.charAt(i))\n",
    "\t\t\t\thint += word.charAt(i);\n",
    "\t\t\telse if (word.contains(\"\" + guess.charAt(i)))\n",
    "\t\t\t\thint += '+';\n",
    "\t\t\telse hint += '*';\n",
    "\t\treturn hint;\n",
    "\t}\n",
    "}"
   ]
  },
  {
   "cell_type": "markdown",
   "metadata": {},
   "source": [
    "## Question 3"
   ]
  },
  {
   "cell_type": "code",
   "execution_count": null,
   "metadata": {
    "vscode": {
     "languageId": "java"
    }
   },
   "outputs": [],
   "source": [
    "package sparsearray;\n",
    "\n",
    "import java.util.ArrayList;\n",
    "import java.util.List;\n",
    "\n",
    "public class SparseArray { //question 3\n",
    "\tprivate int numRows;\n",
    "\tprivate int numCols;\n",
    "\n",
    "\tprivate List<SparseArrayEntry> entries;\n",
    "\n",
    "\tpublic SparseArray() {\n",
    "\t\tentries = new ArrayList<>();\n",
    "\t}\n",
    "\n",
    "\tpublic int getNumRows() {\n",
    "\t\treturn numRows;\n",
    "\t}\n",
    "\n",
    "\tpublic int getNumCols() {\n",
    "\t\treturn numCols;\n",
    "\t}\n",
    "\n",
    "\tpublic int getValueAt(int row, int col) { //part a\n",
    "\t\tfor (SparseArrayEntry entry : entries)\n",
    "\t\t\tif (entry.getRow() == row && entry.getCol() == col)\n",
    "\t\t\t\treturn entry.getValue();\n",
    "\t\treturn 0;\n",
    "\t}\n",
    "\n",
    "\tpublic void removeColumn(int col) { //part b\n",
    "\t\tfor (int i = 0; i < entries.size(); ++i) {\n",
    "\t\t\tSparseArrayEntry entry = entries.get(i);\n",
    "\t\t\tif (entry.getCol() == col)\n",
    "\t\t\t\tentries.remove(entry);\n",
    "\t\t\telse if (entry.getCol() > col)\n",
    "\t\t\t\tentries.set(i, new SparseArrayEntry(entry.getRow(), entry.getCol() - 1, entry.getValue()));\n",
    "\t\t}\n",
    "\t\t--numCols;\n",
    "\t}\n",
    "}"
   ]
  },
  {
   "cell_type": "code",
   "execution_count": null,
   "metadata": {
    "vscode": {
     "languageId": "java"
    }
   },
   "outputs": [],
   "source": [
    "package sparsearray;\n",
    "\n",
    "public class SparseArrayEntry { //question 3\n",
    "\tprivate int row;\n",
    "\tprivate int col;\n",
    "\n",
    "\tprivate int value;\n",
    "\n",
    "\tpublic SparseArrayEntry(int r, int c, int v) {\n",
    "\t\trow = r;\n",
    "\t\tcol = c;\n",
    "\t\tvalue = v;\n",
    "\t}\n",
    "\n",
    "\tpublic int getRow() {\n",
    "\t\treturn row;\n",
    "\t}\n",
    "\n",
    "\tpublic int getCol() {\n",
    "\t\treturn col;\n",
    "\t}\n",
    "\n",
    "\tpublic int getValue() {\n",
    "\t\treturn value;\n",
    "\t}\n",
    "}"
   ]
  },
  {
   "cell_type": "markdown",
   "metadata": {},
   "source": [
    "## Question 4"
   ]
  },
  {
   "cell_type": "code",
   "execution_count": null,
   "metadata": {
    "vscode": {
     "languageId": "java"
    }
   },
   "outputs": [],
   "source": [
    "package numbergroup;\n",
    "\n",
    "public interface NumberGroup { //part a\n",
    "\tboolean contains(int i);\n",
    "}"
   ]
  },
  {
   "cell_type": "code",
   "execution_count": null,
   "metadata": {
    "vscode": {
     "languageId": "java"
    }
   },
   "outputs": [],
   "source": [
    "package numbergroup;\n",
    "\n",
    "public class Range implements NumberGroup { //part b\n",
    "\tprivate int min;\n",
    "\tprivate int max;\n",
    "\n",
    "\tpublic Range(int min, int max) {\n",
    "\t\tthis.min = min;\n",
    "\t\tthis.max = max;\n",
    "\t}\n",
    "\n",
    "\t@Override\n",
    "\tpublic boolean contains(int i) {\n",
    "\t\treturn this.min <= i && i <= this.max;\n",
    "\t}\n",
    "}"
   ]
  },
  {
   "cell_type": "code",
   "execution_count": null,
   "metadata": {
    "vscode": {
     "languageId": "java"
    }
   },
   "outputs": [],
   "source": [
    "package numbergroup;\n",
    "\n",
    "import java.util.Arrays;\n",
    "import java.util.List;\n",
    "\n",
    "public class MultipleGroups implements NumberGroup { //part c\n",
    "\tprivate List<NumberGroup> groupList;\n",
    "\n",
    "\tpublic MultipleGroups(NumberGroup... groups) {\n",
    "\t\tthis.groupList = Arrays.asList(groups);\n",
    "\t}\n",
    "\n",
    "\t@Override\n",
    "\tpublic boolean contains(int i) {\n",
    "\t\tfor (NumberGroup group : groupList)\n",
    "\t\t\tif (group.contains(i))\n",
    "\t\t\t\treturn true;\n",
    "\t\treturn false;\n",
    "\t}\n",
    "}"
   ]
  }
 ],
 "metadata": {
  "language_info": {
   "name": "python"
  }
 },
 "nbformat": 4,
 "nbformat_minor": 2
}
