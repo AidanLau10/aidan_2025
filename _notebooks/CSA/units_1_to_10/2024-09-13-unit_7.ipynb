{
 "cells": [
  {
   "cell_type": "markdown",
   "metadata": {},
   "source": [
    "---\n",
    "layout: post\n",
    "toc: true\n",
    "title: Unit 7 - ArrayLists\n",
    "description: Inheritance Lesson\n",
    "authors: Aidan Lau\n",
    "categories: [AP CSA]\n",
    "courses: { csa: {week: 7} }\n",
    "type: ccc\n",
    "permalink: /unit7lesson\n",
    "---"
   ]
  },
  {
   "cell_type": "markdown",
   "metadata": {},
   "source": [
    "# 7.5 Searching\n",
    "\n"
   ]
  },
  {
   "cell_type": "code",
   "execution_count": null,
   "metadata": {},
   "outputs": [],
   "source": [
    "public int findGame(String searchedString, ArrayList<VideoGame> myGames) {\n",
    "    for (int index = 0; index < myGames.getSize(); index++) {\n",
    "        VideoGame currentGame = myGames.get(index)\n",
    "        String searchedString = currentGame.getDescription()\n",
    "        if (currentGame.equals(searchedString)) {\n",
    "            return index\n",
    "        }\n",
    "        return -1\n",
    "    }\n",
    "}"
   ]
  }
 ],
 "metadata": {
  "kernelspec": {
   "display_name": "java (IJava/j!)",
   "language": "java",
   "name": "jbang-ijava"
  },
  "language_info": {
   "codemirror_mode": "java",
   "file_extension": ".jshell",
   "mimetype": "text/x-java-source",
   "name": "java",
   "pygments_lexer": "java",
   "version": "17.0.12+0"
  }
 },
 "nbformat": 4,
 "nbformat_minor": 2
}
