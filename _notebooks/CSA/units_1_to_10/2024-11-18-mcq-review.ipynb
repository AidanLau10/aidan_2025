{
 "cells": [
  {
   "cell_type": "markdown",
   "metadata": {},
   "source": [
    "---\n",
    "layout: post\n",
    "toc: true\n",
    "title: MCQ Review\n",
    "categories: [AP CSA]\n",
    "courses: { csa: {week: 8} }\n",
    "type: ccc\n",
    "permalink: /mcqreview\n",
    "---"
   ]
  },
  {
   "cell_type": "markdown",
   "metadata": {
    "vscode": {
     "languageId": "plaintext"
    }
   },
   "source": [
    "# 4 \n",
    "![Screenshot 2024-11-18 at 10 13 31 PM](https://github.com/user-attachments/assets/3f02bfb2-5e8b-41cb-ab4b-5971ffb63f7e)\n",
    "- Wrong data type. It can only be a decimal if x or y are doubles. Since they're integers, it has to be truncated to 2. \n",
    "# 10\n",
    "![Screenshot 2024-11-18 at 10 13 58 PM](https://github.com/user-attachments/assets/3357a322-ce4f-42b3-9dc6-3d56761551fd)\n",
    "- Since the seqSearchRecHelper was called with data.length - 1, I was thrown off since an array with one element will be 0. But case 1 wont ALWAYS throw an error if the only element is the target.\n",
    "# 11\n",
    "![Screenshot 2024-11-18 at 10 14 14 PM](https://github.com/user-attachments/assets/5c19b603-2bb0-416c-aeb1-5aa8019afb1e)\n",
    "- seqSearchRecHelper wont work if target isnt in the list, data, which is when last is -1. You need to check if last is LESS than 0 NOT LESS THAN OR EQUAL to 0 as 0 can be the index of the target. \n",
    "# 15\n",
    "![Screenshot 2024-11-18 at 10 14 41 PM](https://github.com/user-attachments/assets/bf12db63-220f-4b86-bfc1-cb627b8f5736)\n",
    "- Choice 3 wouldn't work because it would only check the 0th and 1st elements and not the remaining elements\n",
    "# 16\n",
    "![Screenshot 2024-11-18 at 10 14 53 PM](https://github.com/user-attachments/assets/684a5d2a-9334-4981-bb39-f5db84f36b82)\n",
    "- In the first for loop, all the values from a1 are copied over to result at corresponding indices. At this point, the elements at index 0 through a1.length – 1 are full. The first index where the first element of a2 should be copied into is a1.length. We can use the loop control variable k to access all the elements in a2 and k + a1.length to access the corresponding elements in result.\n",
    "# 17\n",
    "![Screenshot 2024-11-18 at 10 15 04 PM](https://github.com/user-attachments/assets/a4fded30-9604-43ee-8316-2981dc4f2140)\n",
    "- In my answer, the size of the array changed. But the array is immutable, or doesn't change, so there cannot be less elements. What confused me is in C, the last element was copied twice. \n",
    "# 21\n",
    "![Screenshot 2024-11-18 at 10 15 15 PM](https://github.com/user-attachments/assets/af2b4034-78f8-4c1a-804b-7e3599289b12)\n",
    "- In an enhanced for loop, the value of num is an element. I thought it would be a column value. \n",
    "# 23\n",
    "![Screenshot 2024-11-18 at 10 15 26 PM](https://github.com/user-attachments/assets/e6081f8a-45f6-41bf-925b-b62b4405096a)\n",
    "- I didn't go through each iteration in my head. I thought since baboon was inserted at the 2nd element in the first iteration, it woulnd't change. But since k decreases until the first element, it will be moved again. \n",
    "# 26\n",
    "![Screenshot 2024-11-18 at 10 15 43 PM](https://github.com/user-attachments/assets/8414bd57-702e-4876-b67d-03193c6fb798)\n",
    "- In an enhanced for loop, the variable x is a value not an index value. Same mistake as 21\n",
    "# 28\n",
    "![Screenshot 2024-11-18 at 10 15 57 PM](https://github.com/user-attachments/assets/dcc26f62-ccfb-4683-9e4e-d2d6f5612304)\n",
    "- I didn't consider the fact that n could not satisfy the while condition so x could be 1. However, E is true because the while loop will not execute if n is less than 2. \n",
    "# 30\n",
    "![Screenshot 2024-11-18 at 10 16 11 PM](https://github.com/user-attachments/assets/6631dffa-68a7-48cd-9f22-eb59a2c9c1e6)\n",
    "- I got the index wrong. The ending index of substring is subtracted by 1. So howFar is 3 but substring would be (0,2)\n",
    "# 33\n",
    "![Screenshot 2024-11-18 at 10 16 22 PM](https://github.com/user-attachments/assets/e9d18bb5-bc3c-4774-8f97-3ec4f9fe4dbe)\n",
    "- k is never incremeneted so the OR statement will always be true and an infinite loop will occur\n",
    "# 34\n",
    "![Screenshot 2024-11-18 at 10 16 56 PM](https://github.com/user-attachments/assets/23f60f30-1420-4166-a63d-9793777ed6a2)\n",
    "- Choice 3 is incorrect because it updates the x and y variables but they are private and cannot be accessed directly in Circle. \n",
    "# 35\n",
    "![Screenshot 2024-11-18 at 10 17 24 PM](https://github.com/user-attachments/assets/373e3bce-79a4-45a2-a3cb-9a70c23aca1d)\n",
    "- Noticing data type. I thought since modulo is unable to continue with decimals which occurs for num after the first iteration(it becomes 257.4), it would stop. However, num is an integer so it is truncated after the first iteration to 257 and will continue. \n",
    "# 39\n",
    "![Screenshot 2024-11-18 at 10 17 33 PM](https://github.com/user-attachments/assets/b3dd5dcd-9b75-43f6-9166-fc82f0587dfd)\n",
    "- I ignored the fact that the return statement called the recur function inside a recur function. So after the frist iteration, it would call recur(recur(9)). Instead of being 18(if you ignore the first recur), it would become recur(18) and continue.\n",
    "# 40\n",
    "![Screenshot 2024-11-18 at 10 17 45 PM](https://github.com/user-attachments/assets/6cf5bc99-3fb4-48c9-8799-eb79638ec03e)\n",
    "- This is a pretty confusing problem because it executes the function and then recursively calls it again. In this case, the most previous call will occur first which prints out the most truncated substring and then it will continue with the last call. \n",
    "\n",
    "> Summary\n",
    "\n",
    "- I got a lot of the questions with multiple answer choices wrong. A way to help with this is to use process of elimination by trying to find which one is wrong rather than which ones are right. \n",
    "- I struggled a lot with indices. For example, in substrings, the last index in the parameter is subtracted by 1 to account for the 0 based index. \n",
    "- I struggled with enhanced for loops and realizing the variable is the actual value of the element instead of the index\n",
    "- Different data types: For integer values, and operations like modulo or division will result in truncation, not staying as a decima. Watch out for the data type and if its an integer or double\n",
    "- Recursive functions. Realizing that the most recent function call in a recursive function will run before the last one(counterintuitive).\n",
    "\n",
    "> Ways to improve\n",
    "- Go through each iteration in your head. If possible, use a piece of paper to write down each process. \n",
    "- Remember data types: doubles and integers and their resulting values after operations\n",
    "- Review constructors, private variables, and initializations of objects. \n"
   ]
  }
 ],
 "metadata": {
  "kernelspec": {
   "display_name": "java (IJava/j!)",
   "language": "java",
   "name": "jbang-ijava"
  },
  "language_info": {
   "codemirror_mode": "java",
   "file_extension": ".jshell",
   "mimetype": "text/x-java-source",
   "name": "java",
   "pygments_lexer": "java",
   "version": "17.0.12+0"
  }
 },
 "nbformat": 4,
 "nbformat_minor": 2
}
