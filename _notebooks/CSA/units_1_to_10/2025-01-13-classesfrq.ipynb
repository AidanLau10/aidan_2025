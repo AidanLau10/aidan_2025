{
 "cells": [
  {
   "cell_type": "markdown",
   "metadata": {},
   "source": [
    "---\n",
    "layout: post\n",
    "toc: true\n",
    "title: Classes Frq Homework 2021 Question 2\n",
    "categories: [AP CSA]\n",
    "courses: { csa: {week: 10} }\n",
    "type: ccc\n",
    "permalink: /classes\n",
    "---"
   ]
  },
  {
   "cell_type": "code",
   "execution_count": null,
   "metadata": {
    "vscode": {
     "languageId": "java"
    }
   },
   "outputs": [],
   "source": [
    "public class CombinedTable {\n",
    "    private SingleTable t1;\n",
    "    private SingleTable t2;\n",
    "    private int desirability;\n",
    "\n",
    "    public CombinedTable(SingleTable t1, SingleTable t2) {\n",
    "        this.t1 = t1;\n",
    "        this.t2 = t2;\n",
    "    }\n",
    "\n",
    "    public boolean canSeat(int numPeople) {\n",
    "        int totalSeats = t1.getNumSeats() + t2.getNumSeats() - 2;\n",
    "        if (numPeople <= totalSeats) {\n",
    "            return true;\n",
    "        } else {\n",
    "            return false;\n",
    "        }\n",
    "    }\n",
    "\n",
    "    public double getDesirability() {\n",
    "        if (t1.getHeight() == t2.getHeight()) {\n",
    "            desirability = (t1.getViewQuality() + t2.getViewQuality()) / 2;\n",
    "            return desirability; \n",
    "        } else {\n",
    "            desirability = ((t1.getViewQuality() + t2.getViewQuality()) / 2) - 10;\n",
    "            return desirability; \n",
    "        }\n",
    "\n",
    "    }\n",
    "}"
   ]
  }
 ],
 "metadata": {
  "language_info": {
   "name": "python"
  }
 },
 "nbformat": 4,
 "nbformat_minor": 2
}
