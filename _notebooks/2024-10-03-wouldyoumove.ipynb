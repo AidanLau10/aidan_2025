{
 "cells": [
  {
   "cell_type": "markdown",
   "metadata": {},
   "source": [
    "---\n",
    "layout: page \n",
    "title: Would you move?\n",
    "search_exclude: true\n",
    "permalink: /wouldyoumove/\n",
    "---\n",
    "\n"
   ]
  },
  {
   "cell_type": "raw",
   "metadata": {
    "vscode": {
     "languageId": "raw"
    }
   },
   "source": [
    "\n",
    "<head>\n",
    "    <style>\n",
    "    \n",
    "        .container {\n",
    "            text-align: center;\n",
    "            background-color: white;\n",
    "            padding: 20px;\n",
    "            border-radius: 10px;\n",
    "            box-shadow: 0 8px 16px rgba(0, 0, 0, 0.2);\n",
    "            border: 5px solid #D4AC0D; /* Gold border */\n",
    "        }\n",
    "        h1 {\n",
    "            font-size: 24px;\n",
    "            color: #C0392B; /* Deep Red for text */\n",
    "        }\n",
    "        p {\n",
    "            font-size: 18px;\n",
    "            color: #7D6608; /* Dark Gold for supporting text */\n",
    "        }\n",
    "        .loader {\n",
    "            border: 8px solid #f3f3f3;\n",
    "            border-radius: 50%;\n",
    "            border-top: 8px solid #C0392B; /* Red loader */\n",
    "            width: 60px;\n",
    "            height: 60px;\n",
    "            animation: spin 2s linear infinite;\n",
    "            margin: 20px auto;\n",
    "        }\n",
    "        @keyframes spin {\n",
    "            0% { transform: rotate(0deg); }\n",
    "            100% { transform: rotate(360deg); }\n",
    "        }\n",
    "    </style>\n",
    "    <script>\n",
    "        window.onload = function() {\n",
    "            const forms = [\n",
    "                \"https://forms.gle/SZN1oJC2DNqxunes9\", // unbiased\n",
    "                \"https://forms.gle/FB4zciqbaUXrohFD7\" // unbiased\n",
    "            ];\n",
    "            const randomForm = forms[Math.floor(Math.random() * forms.length)];\n",
    "            setTimeout(() => {\n",
    "                window.location.href = randomForm;\n",
    "            }, 1000); // 3 seconds delay before redirect\n",
    "        };\n",
    "    </script>\n",
    "</head>\n",
    "<body>\n",
    "    <div class=\"container\">\n",
    "        <h1>Redirecting</h1>\n",
    "        <div class=\"loader\"></div>\n",
    "    </div>\n",
    "</body>\n",
    "\n"
   ]
  }
 ],
 "metadata": {
  "language_info": {
   "name": "python"
  }
 },
 "nbformat": 4,
 "nbformat_minor": 2
}
