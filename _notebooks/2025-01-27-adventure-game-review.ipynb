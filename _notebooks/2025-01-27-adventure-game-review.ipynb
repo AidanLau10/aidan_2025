{
 "cells": [
  {
   "cell_type": "markdown",
   "metadata": {},
   "source": [
    "---\n",
    "layout: post\n",
    "toc: true\n",
    "title: Adventure Game Review\n",
    "categories: [AP CSA]\n",
    "courses: { csa: {week: 10} }\n",
    "type: ccc\n",
    "permalink: /adventuregamereview\n",
    "---"
   ]
  },
  {
   "cell_type": "markdown",
   "metadata": {},
   "source": [
    "# Milestones\n",
    "\n",
    "### 1. Timer\n",
    "![Image](https://github.com/user-attachments/assets/55161d08-a22e-4d9c-adf4-0feaccf9f75e)\n",
    "\n",
    "---\n",
    "\n",
    "### 2. Tux\n",
    "![Image](https://github.com/user-attachments/assets/44ad7038-907f-42f1-bd14-0366adcefc3f)\n",
    "\n",
    "---\n",
    "\n",
    "### 3. Octocat\n",
    "![Image](https://github.com/user-attachments/assets/e2fec112-8e4a-49db-9adc-4b84da6dc87f)\n",
    "\n",
    "---\n",
    "\n",
    "### 4. Immersify Prompt\n",
    "![Image](https://github.com/user-attachments/assets/aeab0b72-3f18-4b41-8474-abc068a4c021)\n",
    "\n",
    "#### Obstacle During Prompt:\n",
    "- **Issue:** When interacting with the NPC, a second prompt pops up showing no questions.  \n",
    "  ![Image](https://github.com/user-attachments/assets/f67f007b-6c0d-4e1c-b11b-5024fd120556)\n",
    "\n",
    "- **Solution:** Change the code to prevent `updatePromptTable()` from running on start.  \n",
    "  ![Image](https://github.com/user-attachments/assets/1699cdb4-c52f-4735-bbeb-414bc219c303)\n",
    "\n",
    "- **Improvement:** Fixed layout.  \n",
    "  ![Image](https://github.com/user-attachments/assets/89289815-1942-49c1-8903-0a10d0056ec8)\n",
    "\n",
    "---\n",
    "\n",
    "## Challenges\n",
    "\n",
    "- **TransitionToLevel Roadblock:**  \n",
    "  The biggest challenge I encountered was adding `transitionToLevel`.\n",
    "    \n",
    "    Saw that first gameObject being checked was Background.\n",
    "    Compared Background from platformer to adventureGame and saw that platformer's Background.js extends GameObject while adventureGame's Background.js doesn't\n",
    "    ![Image](https://github.com/user-attachments/assets/d98bd372-caa1-491f-aa9d-789791c7c474)\n",
    "    ![Image](https://github.com/user-attachments/assets/870cdab3-0b71-4ba2-b4dd-aec42a801a7d)\n",
    "    - Now returns error that Background is null\n",
    "    - Next steps im going to try are to implement a GameSetup.js and GameLevel.js from platformer to adventureGame\n",
    "\n",
    "- **Key Learning:**  \n",
    "  I learned the importance of using existing code and tracing functions back to their root definitions, especially when multiple functions interact.\n",
    "\n",
    "\n",
    "\n"
   ]
  }
 ],
 "metadata": {
  "language_info": {
   "name": "python"
  }
 },
 "nbformat": 4,
 "nbformat_minor": 2
}
